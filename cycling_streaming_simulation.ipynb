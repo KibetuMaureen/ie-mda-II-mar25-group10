{
 "cells": [
  {
   "cell_type": "code",
   "execution_count": 1,
   "id": "e3516e41-03cf-42b2-8c5b-0a7fdb404d54",
   "metadata": {},
   "outputs": [
    {
     "name": "stderr",
     "output_type": "stream",
     "text": [
      "25/03/12 16:25:46 WARN Utils: Your hostname, osbdet resolves to a loopback address: 127.0.0.1; using 10.0.2.15 instead (on interface enp0s3)\n",
      "25/03/12 16:25:46 WARN Utils: Set SPARK_LOCAL_IP if you need to bind to another address\n"
     ]
    },
    {
     "name": "stdout",
     "output_type": "stream",
     "text": [
      ":: loading settings :: url = jar:file:/home/osbdet/.jupyter_venv/lib/python3.11/site-packages/pyspark/jars/ivy-2.5.1.jar!/org/apache/ivy/core/settings/ivysettings.xml\n"
     ]
    },
    {
     "name": "stderr",
     "output_type": "stream",
     "text": [
      "Ivy Default Cache set to: /home/osbdet/.ivy2/cache\n",
      "The jars for the packages stored in: /home/osbdet/.ivy2/jars\n",
      "org.apache.spark#spark-sql-kafka-0-10_2.12 added as a dependency\n",
      ":: resolving dependencies :: org.apache.spark#spark-submit-parent-ad27d815-5934-4982-b730-3fce9cb1d5a4;1.0\n",
      "\tconfs: [default]\n",
      "\tfound org.apache.spark#spark-sql-kafka-0-10_2.12;3.5.2 in central\n",
      "\tfound org.apache.spark#spark-token-provider-kafka-0-10_2.12;3.5.2 in central\n",
      "\tfound org.apache.kafka#kafka-clients;3.4.1 in central\n",
      "\tfound org.lz4#lz4-java;1.8.0 in central\n",
      "\tfound org.xerial.snappy#snappy-java;1.1.10.5 in central\n",
      "\tfound org.slf4j#slf4j-api;2.0.7 in central\n",
      "\tfound org.apache.hadoop#hadoop-client-runtime;3.3.4 in central\n",
      "\tfound org.apache.hadoop#hadoop-client-api;3.3.4 in central\n",
      "\tfound commons-logging#commons-logging;1.1.3 in central\n",
      "\tfound com.google.code.findbugs#jsr305;3.0.0 in central\n",
      "\tfound org.apache.commons#commons-pool2;2.11.1 in central\n",
      ":: resolution report :: resolve 2625ms :: artifacts dl 76ms\n",
      "\t:: modules in use:\n",
      "\tcom.google.code.findbugs#jsr305;3.0.0 from central in [default]\n",
      "\tcommons-logging#commons-logging;1.1.3 from central in [default]\n",
      "\torg.apache.commons#commons-pool2;2.11.1 from central in [default]\n",
      "\torg.apache.hadoop#hadoop-client-api;3.3.4 from central in [default]\n",
      "\torg.apache.hadoop#hadoop-client-runtime;3.3.4 from central in [default]\n",
      "\torg.apache.kafka#kafka-clients;3.4.1 from central in [default]\n",
      "\torg.apache.spark#spark-sql-kafka-0-10_2.12;3.5.2 from central in [default]\n",
      "\torg.apache.spark#spark-token-provider-kafka-0-10_2.12;3.5.2 from central in [default]\n",
      "\torg.lz4#lz4-java;1.8.0 from central in [default]\n",
      "\torg.slf4j#slf4j-api;2.0.7 from central in [default]\n",
      "\torg.xerial.snappy#snappy-java;1.1.10.5 from central in [default]\n",
      "\t---------------------------------------------------------------------\n",
      "\t|                  |            modules            ||   artifacts   |\n",
      "\t|       conf       | number| search|dwnlded|evicted|| number|dwnlded|\n",
      "\t---------------------------------------------------------------------\n",
      "\t|      default     |   11  |   0   |   0   |   0   ||   11  |   0   |\n",
      "\t---------------------------------------------------------------------\n",
      ":: retrieving :: org.apache.spark#spark-submit-parent-ad27d815-5934-4982-b730-3fce9cb1d5a4\n",
      "\tconfs: [default]\n",
      "\t0 artifacts copied, 11 already retrieved (0kB/20ms)\n",
      "25/03/12 16:25:52 WARN NativeCodeLoader: Unable to load native-hadoop library for your platform... using builtin-java classes where applicable\n",
      "Setting default log level to \"WARN\".\n",
      "To adjust logging level use sc.setLogLevel(newLevel). For SparkR, use setLogLevel(newLevel).\n",
      "                                                                                \r"
     ]
    },
    {
     "data": {
      "text/plain": [
       "<kafka.producer.future.FutureRecordMetadata at 0x7f49d8cbb410>"
      ]
     },
     "execution_count": 1,
     "metadata": {},
     "output_type": "execute_result"
    },
    {
     "name": "stdout",
     "output_type": "stream",
     "text": [
      "Sent: {'Id': 100019715, 'Date': '2016-01-26T00:00:00', 'Count': 0, 'Status': 'raw', 'Channel_Id': 101019715, 'Counting_Station': 'Meerbusch', 'Coordinates': '51.261012, 6.705018', 'Year': 2016, 'Month': 1, 'Day': 26, 'Hour': 0, 'Day_of_Week': 3, 'Latitude': 51.261012, 'Longitude': 6.705018}\n"
     ]
    },
    {
     "data": {
      "text/plain": [
       "<kafka.producer.future.FutureRecordMetadata at 0x7f49d8cb9b10>"
      ]
     },
     "execution_count": 1,
     "metadata": {},
     "output_type": "execute_result"
    },
    {
     "name": "stdout",
     "output_type": "stream",
     "text": [
      "Sent: {'Id': 100019715, 'Date': '2016-01-26T00:00:00', 'Count': 0, 'Status': 'raw', 'Channel_Id': 102019715, 'Counting_Station': 'Meerbusch', 'Coordinates': '51.261012, 6.705018', 'Year': 2016, 'Month': 1, 'Day': 26, 'Hour': 0, 'Day_of_Week': 3, 'Latitude': 51.261012, 'Longitude': 6.705018}\n"
     ]
    },
    {
     "data": {
      "text/plain": [
       "<kafka.producer.future.FutureRecordMetadata at 0x7f49d8c8fe90>"
      ]
     },
     "execution_count": 1,
     "metadata": {},
     "output_type": "execute_result"
    },
    {
     "name": "stdout",
     "output_type": "stream",
     "text": [
      "Sent: {'Id': 100019715, 'Date': '2016-01-26T00:00:00', 'Count': 0, 'Status': 'raw', 'Channel_Id': 103019715, 'Counting_Station': 'Meerbusch', 'Coordinates': '51.261012, 6.705018', 'Year': 2016, 'Month': 1, 'Day': 26, 'Hour': 0, 'Day_of_Week': 3, 'Latitude': 51.261012, 'Longitude': 6.705018}\n"
     ]
    },
    {
     "data": {
      "text/plain": [
       "<kafka.producer.future.FutureRecordMetadata at 0x7f49d8c8f4d0>"
      ]
     },
     "execution_count": 1,
     "metadata": {},
     "output_type": "execute_result"
    },
    {
     "name": "stdout",
     "output_type": "stream",
     "text": [
      "Sent: {'Id': 100019715, 'Date': '2016-01-26T00:00:00', 'Count': 0, 'Status': 'raw', 'Channel_Id': 104019715, 'Counting_Station': 'Meerbusch', 'Coordinates': '51.261012, 6.705018', 'Year': 2016, 'Month': 1, 'Day': 26, 'Hour': 0, 'Day_of_Week': 3, 'Latitude': 51.261012, 'Longitude': 6.705018}\n"
     ]
    },
    {
     "data": {
      "text/plain": [
       "<kafka.producer.future.FutureRecordMetadata at 0x7f49d8c8f690>"
      ]
     },
     "execution_count": 1,
     "metadata": {},
     "output_type": "execute_result"
    },
    {
     "name": "stdout",
     "output_type": "stream",
     "text": [
      "Sent: {'Id': 100019715, 'Date': '2016-01-26T01:00:00', 'Count': 0, 'Status': 'raw', 'Channel_Id': 103019715, 'Counting_Station': 'Meerbusch', 'Coordinates': '51.261012, 6.705018', 'Year': 2016, 'Month': 1, 'Day': 26, 'Hour': 1, 'Day_of_Week': 3, 'Latitude': 51.261012, 'Longitude': 6.705018}\n"
     ]
    },
    {
     "data": {
      "text/plain": [
       "<kafka.producer.future.FutureRecordMetadata at 0x7f49d8c8f8d0>"
      ]
     },
     "execution_count": 1,
     "metadata": {},
     "output_type": "execute_result"
    },
    {
     "name": "stdout",
     "output_type": "stream",
     "text": [
      "Sent: {'Id': 100019715, 'Date': '2016-01-26T01:00:00', 'Count': 0, 'Status': 'raw', 'Channel_Id': 104019715, 'Counting_Station': 'Meerbusch', 'Coordinates': '51.261012, 6.705018', 'Year': 2016, 'Month': 1, 'Day': 26, 'Hour': 1, 'Day_of_Week': 3, 'Latitude': 51.261012, 'Longitude': 6.705018}\n"
     ]
    },
    {
     "data": {
      "text/plain": [
       "<kafka.producer.future.FutureRecordMetadata at 0x7f49d8c8e610>"
      ]
     },
     "execution_count": 1,
     "metadata": {},
     "output_type": "execute_result"
    },
    {
     "name": "stdout",
     "output_type": "stream",
     "text": [
      "Sent: {'Id': 100019715, 'Date': '2016-01-26T01:00:00', 'Count': 0, 'Status': 'raw', 'Channel_Id': 101019715, 'Counting_Station': 'Meerbusch', 'Coordinates': '51.261012, 6.705018', 'Year': 2016, 'Month': 1, 'Day': 26, 'Hour': 1, 'Day_of_Week': 3, 'Latitude': 51.261012, 'Longitude': 6.705018}\n"
     ]
    },
    {
     "data": {
      "text/plain": [
       "<kafka.producer.future.FutureRecordMetadata at 0x7f49b92ac050>"
      ]
     },
     "execution_count": 1,
     "metadata": {},
     "output_type": "execute_result"
    },
    {
     "name": "stdout",
     "output_type": "stream",
     "text": [
      "Sent: {'Id': 100019715, 'Date': '2016-01-26T01:00:00', 'Count': 0, 'Status': 'raw', 'Channel_Id': 102019715, 'Counting_Station': 'Meerbusch', 'Coordinates': '51.261012, 6.705018', 'Year': 2016, 'Month': 1, 'Day': 26, 'Hour': 1, 'Day_of_Week': 3, 'Latitude': 51.261012, 'Longitude': 6.705018}\n"
     ]
    },
    {
     "data": {
      "text/plain": [
       "<kafka.producer.future.FutureRecordMetadata at 0x7f49b92ac290>"
      ]
     },
     "execution_count": 1,
     "metadata": {},
     "output_type": "execute_result"
    },
    {
     "name": "stdout",
     "output_type": "stream",
     "text": [
      "Sent: {'Id': 100019715, 'Date': '2016-01-26T02:00:00', 'Count': 0, 'Status': 'raw', 'Channel_Id': 103019715, 'Counting_Station': 'Meerbusch', 'Coordinates': '51.261012, 6.705018', 'Year': 2016, 'Month': 1, 'Day': 26, 'Hour': 2, 'Day_of_Week': 3, 'Latitude': 51.261012, 'Longitude': 6.705018}\n"
     ]
    },
    {
     "data": {
      "text/plain": [
       "<kafka.producer.future.FutureRecordMetadata at 0x7f49b92ac750>"
      ]
     },
     "execution_count": 1,
     "metadata": {},
     "output_type": "execute_result"
    },
    {
     "name": "stdout",
     "output_type": "stream",
     "text": [
      "Sent: {'Id': 100019715, 'Date': '2016-01-26T02:00:00', 'Count': 0, 'Status': 'raw', 'Channel_Id': 104019715, 'Counting_Station': 'Meerbusch', 'Coordinates': '51.261012, 6.705018', 'Year': 2016, 'Month': 1, 'Day': 26, 'Hour': 2, 'Day_of_Week': 3, 'Latitude': 51.261012, 'Longitude': 6.705018}\n"
     ]
    },
    {
     "data": {
      "text/plain": [
       "<kafka.producer.future.FutureRecordMetadata at 0x7f49b92ad150>"
      ]
     },
     "execution_count": 1,
     "metadata": {},
     "output_type": "execute_result"
    },
    {
     "name": "stdout",
     "output_type": "stream",
     "text": [
      "Sent: {'Id': 100019715, 'Date': '2016-01-26T02:00:00', 'Count': 0, 'Status': 'raw', 'Channel_Id': 102019715, 'Counting_Station': 'Meerbusch', 'Coordinates': '51.261012, 6.705018', 'Year': 2016, 'Month': 1, 'Day': 26, 'Hour': 2, 'Day_of_Week': 3, 'Latitude': 51.261012, 'Longitude': 6.705018}\n"
     ]
    },
    {
     "data": {
      "text/plain": [
       "<kafka.producer.future.FutureRecordMetadata at 0x7f49b92ad390>"
      ]
     },
     "execution_count": 1,
     "metadata": {},
     "output_type": "execute_result"
    },
    {
     "name": "stdout",
     "output_type": "stream",
     "text": [
      "Sent: {'Id': 100019715, 'Date': '2016-01-26T02:00:00', 'Count': 0, 'Status': 'raw', 'Channel_Id': 101019715, 'Counting_Station': 'Meerbusch', 'Coordinates': '51.261012, 6.705018', 'Year': 2016, 'Month': 1, 'Day': 26, 'Hour': 2, 'Day_of_Week': 3, 'Latitude': 51.261012, 'Longitude': 6.705018}\n"
     ]
    },
    {
     "data": {
      "text/plain": [
       "<kafka.producer.future.FutureRecordMetadata at 0x7f49b92ae010>"
      ]
     },
     "execution_count": 1,
     "metadata": {},
     "output_type": "execute_result"
    },
    {
     "name": "stdout",
     "output_type": "stream",
     "text": [
      "Sent: {'Id': 100019715, 'Date': '2016-01-26T03:00:00', 'Count': 0, 'Status': 'raw', 'Channel_Id': 102019715, 'Counting_Station': 'Meerbusch', 'Coordinates': '51.261012, 6.705018', 'Year': 2016, 'Month': 1, 'Day': 26, 'Hour': 3, 'Day_of_Week': 3, 'Latitude': 51.261012, 'Longitude': 6.705018}\n"
     ]
    },
    {
     "data": {
      "text/plain": [
       "<kafka.producer.future.FutureRecordMetadata at 0x7f49b92ade10>"
      ]
     },
     "execution_count": 1,
     "metadata": {},
     "output_type": "execute_result"
    },
    {
     "name": "stdout",
     "output_type": "stream",
     "text": [
      "Sent: {'Id': 100019715, 'Date': '2016-01-26T03:00:00', 'Count': 0, 'Status': 'raw', 'Channel_Id': 104019715, 'Counting_Station': 'Meerbusch', 'Coordinates': '51.261012, 6.705018', 'Year': 2016, 'Month': 1, 'Day': 26, 'Hour': 3, 'Day_of_Week': 3, 'Latitude': 51.261012, 'Longitude': 6.705018}\n"
     ]
    },
    {
     "data": {
      "text/plain": [
       "<kafka.producer.future.FutureRecordMetadata at 0x7f49b92adb90>"
      ]
     },
     "execution_count": 1,
     "metadata": {},
     "output_type": "execute_result"
    },
    {
     "name": "stdout",
     "output_type": "stream",
     "text": [
      "Sent: {'Id': 100019715, 'Date': '2016-01-26T03:00:00', 'Count': 0, 'Status': 'raw', 'Channel_Id': 103019715, 'Counting_Station': 'Meerbusch', 'Coordinates': '51.261012, 6.705018', 'Year': 2016, 'Month': 1, 'Day': 26, 'Hour': 3, 'Day_of_Week': 3, 'Latitude': 51.261012, 'Longitude': 6.705018}\n"
     ]
    },
    {
     "data": {
      "text/plain": [
       "<kafka.producer.future.FutureRecordMetadata at 0x7f49b92af290>"
      ]
     },
     "execution_count": 1,
     "metadata": {},
     "output_type": "execute_result"
    },
    {
     "name": "stdout",
     "output_type": "stream",
     "text": [
      "Sent: {'Id': 100019715, 'Date': '2016-01-26T03:00:00', 'Count': 0, 'Status': 'raw', 'Channel_Id': 101019715, 'Counting_Station': 'Meerbusch', 'Coordinates': '51.261012, 6.705018', 'Year': 2016, 'Month': 1, 'Day': 26, 'Hour': 3, 'Day_of_Week': 3, 'Latitude': 51.261012, 'Longitude': 6.705018}\n"
     ]
    },
    {
     "data": {
      "text/plain": [
       "<kafka.producer.future.FutureRecordMetadata at 0x7f49b92afb50>"
      ]
     },
     "execution_count": 1,
     "metadata": {},
     "output_type": "execute_result"
    },
    {
     "name": "stdout",
     "output_type": "stream",
     "text": [
      "Sent: {'Id': 100019715, 'Date': '2016-01-26T04:00:00', 'Count': 0, 'Status': 'raw', 'Channel_Id': 103019715, 'Counting_Station': 'Meerbusch', 'Coordinates': '51.261012, 6.705018', 'Year': 2016, 'Month': 1, 'Day': 26, 'Hour': 4, 'Day_of_Week': 3, 'Latitude': 51.261012, 'Longitude': 6.705018}\n"
     ]
    },
    {
     "data": {
      "text/plain": [
       "<kafka.producer.future.FutureRecordMetadata at 0x7f49b92afed0>"
      ]
     },
     "execution_count": 1,
     "metadata": {},
     "output_type": "execute_result"
    },
    {
     "name": "stdout",
     "output_type": "stream",
     "text": [
      "Sent: {'Id': 100019715, 'Date': '2016-01-26T04:00:00', 'Count': 0, 'Status': 'raw', 'Channel_Id': 104019715, 'Counting_Station': 'Meerbusch', 'Coordinates': '51.261012, 6.705018', 'Year': 2016, 'Month': 1, 'Day': 26, 'Hour': 4, 'Day_of_Week': 3, 'Latitude': 51.261012, 'Longitude': 6.705018}\n"
     ]
    },
    {
     "data": {
      "text/plain": [
       "<kafka.producer.future.FutureRecordMetadata at 0x7f49b92acc10>"
      ]
     },
     "execution_count": 1,
     "metadata": {},
     "output_type": "execute_result"
    },
    {
     "name": "stdout",
     "output_type": "stream",
     "text": [
      "Sent: {'Id': 100019715, 'Date': '2016-01-26T04:00:00', 'Count': 0, 'Status': 'raw', 'Channel_Id': 101019715, 'Counting_Station': 'Meerbusch', 'Coordinates': '51.261012, 6.705018', 'Year': 2016, 'Month': 1, 'Day': 26, 'Hour': 4, 'Day_of_Week': 3, 'Latitude': 51.261012, 'Longitude': 6.705018}\n"
     ]
    },
    {
     "data": {
      "text/plain": [
       "<kafka.producer.future.FutureRecordMetadata at 0x7f49b92ad390>"
      ]
     },
     "execution_count": 1,
     "metadata": {},
     "output_type": "execute_result"
    },
    {
     "name": "stdout",
     "output_type": "stream",
     "text": [
      "Sent: {'Id': 100019715, 'Date': '2016-01-26T04:00:00', 'Count': 0, 'Status': 'raw', 'Channel_Id': 102019715, 'Counting_Station': 'Meerbusch', 'Coordinates': '51.261012, 6.705018', 'Year': 2016, 'Month': 1, 'Day': 26, 'Hour': 4, 'Day_of_Week': 3, 'Latitude': 51.261012, 'Longitude': 6.705018}\n"
     ]
    },
    {
     "data": {
      "text/plain": [
       "<kafka.producer.future.FutureRecordMetadata at 0x7f49b92ac650>"
      ]
     },
     "execution_count": 1,
     "metadata": {},
     "output_type": "execute_result"
    },
    {
     "name": "stdout",
     "output_type": "stream",
     "text": [
      "Sent: {'Id': 100019715, 'Date': '2016-01-26T05:00:00', 'Count': 0, 'Status': 'raw', 'Channel_Id': 101019715, 'Counting_Station': 'Meerbusch', 'Coordinates': '51.261012, 6.705018', 'Year': 2016, 'Month': 1, 'Day': 26, 'Hour': 5, 'Day_of_Week': 3, 'Latitude': 51.261012, 'Longitude': 6.705018}\n"
     ]
    },
    {
     "data": {
      "text/plain": [
       "<kafka.producer.future.FutureRecordMetadata at 0x7f49d8c8ded0>"
      ]
     },
     "execution_count": 1,
     "metadata": {},
     "output_type": "execute_result"
    },
    {
     "name": "stdout",
     "output_type": "stream",
     "text": [
      "Sent: {'Id': 100019715, 'Date': '2016-01-26T05:00:00', 'Count': 0, 'Status': 'raw', 'Channel_Id': 103019715, 'Counting_Station': 'Meerbusch', 'Coordinates': '51.261012, 6.705018', 'Year': 2016, 'Month': 1, 'Day': 26, 'Hour': 5, 'Day_of_Week': 3, 'Latitude': 51.261012, 'Longitude': 6.705018}\n"
     ]
    },
    {
     "data": {
      "text/plain": [
       "<kafka.producer.future.FutureRecordMetadata at 0x7f49d8c8e3d0>"
      ]
     },
     "execution_count": 1,
     "metadata": {},
     "output_type": "execute_result"
    },
    {
     "name": "stdout",
     "output_type": "stream",
     "text": [
      "Sent: {'Id': 100019715, 'Date': '2016-01-26T05:00:00', 'Count': 0, 'Status': 'raw', 'Channel_Id': 104019715, 'Counting_Station': 'Meerbusch', 'Coordinates': '51.261012, 6.705018', 'Year': 2016, 'Month': 1, 'Day': 26, 'Hour': 5, 'Day_of_Week': 3, 'Latitude': 51.261012, 'Longitude': 6.705018}\n"
     ]
    },
    {
     "data": {
      "text/plain": [
       "<kafka.producer.future.FutureRecordMetadata at 0x7f49d8c8df10>"
      ]
     },
     "execution_count": 1,
     "metadata": {},
     "output_type": "execute_result"
    },
    {
     "name": "stdout",
     "output_type": "stream",
     "text": [
      "Sent: {'Id': 100019715, 'Date': '2016-01-26T05:00:00', 'Count': 0, 'Status': 'raw', 'Channel_Id': 102019715, 'Counting_Station': 'Meerbusch', 'Coordinates': '51.261012, 6.705018', 'Year': 2016, 'Month': 1, 'Day': 26, 'Hour': 5, 'Day_of_Week': 3, 'Latitude': 51.261012, 'Longitude': 6.705018}\n"
     ]
    },
    {
     "data": {
      "text/plain": [
       "<kafka.producer.future.FutureRecordMetadata at 0x7f49d8cb9b10>"
      ]
     },
     "execution_count": 1,
     "metadata": {},
     "output_type": "execute_result"
    },
    {
     "name": "stdout",
     "output_type": "stream",
     "text": [
      "Sent: {'Id': 100019715, 'Date': '2016-01-26T06:00:00', 'Count': 0, 'Status': 'raw', 'Channel_Id': 104019715, 'Counting_Station': 'Meerbusch', 'Coordinates': '51.261012, 6.705018', 'Year': 2016, 'Month': 1, 'Day': 26, 'Hour': 6, 'Day_of_Week': 3, 'Latitude': 51.261012, 'Longitude': 6.705018}\n"
     ]
    },
    {
     "data": {
      "text/plain": [
       "<kafka.producer.future.FutureRecordMetadata at 0x7f49d8c8ea10>"
      ]
     },
     "execution_count": 1,
     "metadata": {},
     "output_type": "execute_result"
    },
    {
     "name": "stdout",
     "output_type": "stream",
     "text": [
      "Sent: {'Id': 100019715, 'Date': '2016-01-26T06:00:00', 'Count': 0, 'Status': 'raw', 'Channel_Id': 103019715, 'Counting_Station': 'Meerbusch', 'Coordinates': '51.261012, 6.705018', 'Year': 2016, 'Month': 1, 'Day': 26, 'Hour': 6, 'Day_of_Week': 3, 'Latitude': 51.261012, 'Longitude': 6.705018}\n"
     ]
    },
    {
     "data": {
      "text/plain": [
       "<kafka.producer.future.FutureRecordMetadata at 0x7f49b92a4350>"
      ]
     },
     "execution_count": 1,
     "metadata": {},
     "output_type": "execute_result"
    },
    {
     "name": "stdout",
     "output_type": "stream",
     "text": [
      "Sent: {'Id': 100019715, 'Date': '2016-01-26T06:00:00', 'Count': 0, 'Status': 'raw', 'Channel_Id': 102019715, 'Counting_Station': 'Meerbusch', 'Coordinates': '51.261012, 6.705018', 'Year': 2016, 'Month': 1, 'Day': 26, 'Hour': 6, 'Day_of_Week': 3, 'Latitude': 51.261012, 'Longitude': 6.705018}\n"
     ]
    },
    {
     "data": {
      "text/plain": [
       "<kafka.producer.future.FutureRecordMetadata at 0x7f49b92a4850>"
      ]
     },
     "execution_count": 1,
     "metadata": {},
     "output_type": "execute_result"
    },
    {
     "name": "stdout",
     "output_type": "stream",
     "text": [
      "Sent: {'Id': 100019715, 'Date': '2016-01-26T06:00:00', 'Count': 0, 'Status': 'raw', 'Channel_Id': 101019715, 'Counting_Station': 'Meerbusch', 'Coordinates': '51.261012, 6.705018', 'Year': 2016, 'Month': 1, 'Day': 26, 'Hour': 6, 'Day_of_Week': 3, 'Latitude': 51.261012, 'Longitude': 6.705018}\n"
     ]
    },
    {
     "data": {
      "text/plain": [
       "<kafka.producer.future.FutureRecordMetadata at 0x7f49b92a48d0>"
      ]
     },
     "execution_count": 1,
     "metadata": {},
     "output_type": "execute_result"
    },
    {
     "name": "stdout",
     "output_type": "stream",
     "text": [
      "Sent: {'Id': 100019715, 'Date': '2016-01-26T07:00:00', 'Count': 0, 'Status': 'raw', 'Channel_Id': 103019715, 'Counting_Station': 'Meerbusch', 'Coordinates': '51.261012, 6.705018', 'Year': 2016, 'Month': 1, 'Day': 26, 'Hour': 7, 'Day_of_Week': 3, 'Latitude': 51.261012, 'Longitude': 6.705018}\n"
     ]
    },
    {
     "data": {
      "text/plain": [
       "<kafka.producer.future.FutureRecordMetadata at 0x7f49b92a47d0>"
      ]
     },
     "execution_count": 1,
     "metadata": {},
     "output_type": "execute_result"
    },
    {
     "name": "stdout",
     "output_type": "stream",
     "text": [
      "Sent: {'Id': 100019715, 'Date': '2016-01-26T07:00:00', 'Count': 0, 'Status': 'raw', 'Channel_Id': 104019715, 'Counting_Station': 'Meerbusch', 'Coordinates': '51.261012, 6.705018', 'Year': 2016, 'Month': 1, 'Day': 26, 'Hour': 7, 'Day_of_Week': 3, 'Latitude': 51.261012, 'Longitude': 6.705018}\n"
     ]
    },
    {
     "data": {
      "text/plain": [
       "<kafka.producer.future.FutureRecordMetadata at 0x7f49b92a5290>"
      ]
     },
     "execution_count": 1,
     "metadata": {},
     "output_type": "execute_result"
    },
    {
     "name": "stdout",
     "output_type": "stream",
     "text": [
      "Sent: {'Id': 100019715, 'Date': '2016-01-26T07:00:00', 'Count': 0, 'Status': 'raw', 'Channel_Id': 101019715, 'Counting_Station': 'Meerbusch', 'Coordinates': '51.261012, 6.705018', 'Year': 2016, 'Month': 1, 'Day': 26, 'Hour': 7, 'Day_of_Week': 3, 'Latitude': 51.261012, 'Longitude': 6.705018}\n"
     ]
    },
    {
     "data": {
      "text/plain": [
       "<kafka.producer.future.FutureRecordMetadata at 0x7f49b92a5690>"
      ]
     },
     "execution_count": 1,
     "metadata": {},
     "output_type": "execute_result"
    },
    {
     "name": "stdout",
     "output_type": "stream",
     "text": [
      "Sent: {'Id': 100019715, 'Date': '2016-01-26T07:00:00', 'Count': 0, 'Status': 'raw', 'Channel_Id': 102019715, 'Counting_Station': 'Meerbusch', 'Coordinates': '51.261012, 6.705018', 'Year': 2016, 'Month': 1, 'Day': 26, 'Hour': 7, 'Day_of_Week': 3, 'Latitude': 51.261012, 'Longitude': 6.705018}\n"
     ]
    },
    {
     "data": {
      "text/plain": [
       "<kafka.producer.future.FutureRecordMetadata at 0x7f49b92a6150>"
      ]
     },
     "execution_count": 1,
     "metadata": {},
     "output_type": "execute_result"
    },
    {
     "name": "stdout",
     "output_type": "stream",
     "text": [
      "Sent: {'Id': 100019715, 'Date': '2016-01-26T08:00:00', 'Count': 0, 'Status': 'raw', 'Channel_Id': 101019715, 'Counting_Station': 'Meerbusch', 'Coordinates': '51.261012, 6.705018', 'Year': 2016, 'Month': 1, 'Day': 26, 'Hour': 8, 'Day_of_Week': 3, 'Latitude': 51.261012, 'Longitude': 6.705018}\n"
     ]
    },
    {
     "data": {
      "text/plain": [
       "<kafka.producer.future.FutureRecordMetadata at 0x7f49b92a6a10>"
      ]
     },
     "execution_count": 1,
     "metadata": {},
     "output_type": "execute_result"
    },
    {
     "name": "stdout",
     "output_type": "stream",
     "text": [
      "Sent: {'Id': 100019715, 'Date': '2016-01-26T08:00:00', 'Count': 0, 'Status': 'raw', 'Channel_Id': 102019715, 'Counting_Station': 'Meerbusch', 'Coordinates': '51.261012, 6.705018', 'Year': 2016, 'Month': 1, 'Day': 26, 'Hour': 8, 'Day_of_Week': 3, 'Latitude': 51.261012, 'Longitude': 6.705018}\n"
     ]
    },
    {
     "data": {
      "text/plain": [
       "<kafka.producer.future.FutureRecordMetadata at 0x7f49b92a6510>"
      ]
     },
     "execution_count": 1,
     "metadata": {},
     "output_type": "execute_result"
    },
    {
     "name": "stdout",
     "output_type": "stream",
     "text": [
      "Sent: {'Id': 100019715, 'Date': '2016-01-26T08:00:00', 'Count': 0, 'Status': 'raw', 'Channel_Id': 104019715, 'Counting_Station': 'Meerbusch', 'Coordinates': '51.261012, 6.705018', 'Year': 2016, 'Month': 1, 'Day': 26, 'Hour': 8, 'Day_of_Week': 3, 'Latitude': 51.261012, 'Longitude': 6.705018}\n"
     ]
    },
    {
     "data": {
      "text/plain": [
       "<kafka.producer.future.FutureRecordMetadata at 0x7f49b92a7050>"
      ]
     },
     "execution_count": 1,
     "metadata": {},
     "output_type": "execute_result"
    },
    {
     "name": "stdout",
     "output_type": "stream",
     "text": [
      "Sent: {'Id': 100019715, 'Date': '2016-01-26T08:00:00', 'Count': 0, 'Status': 'raw', 'Channel_Id': 103019715, 'Counting_Station': 'Meerbusch', 'Coordinates': '51.261012, 6.705018', 'Year': 2016, 'Month': 1, 'Day': 26, 'Hour': 8, 'Day_of_Week': 3, 'Latitude': 51.261012, 'Longitude': 6.705018}\n"
     ]
    },
    {
     "data": {
      "text/plain": [
       "<kafka.producer.future.FutureRecordMetadata at 0x7f49b92a7410>"
      ]
     },
     "execution_count": 1,
     "metadata": {},
     "output_type": "execute_result"
    },
    {
     "name": "stdout",
     "output_type": "stream",
     "text": [
      "Sent: {'Id': 100019715, 'Date': '2016-01-26T09:00:00', 'Count': 0, 'Status': 'raw', 'Channel_Id': 101019715, 'Counting_Station': 'Meerbusch', 'Coordinates': '51.261012, 6.705018', 'Year': 2016, 'Month': 1, 'Day': 26, 'Hour': 9, 'Day_of_Week': 3, 'Latitude': 51.261012, 'Longitude': 6.705018}\n"
     ]
    },
    {
     "data": {
      "text/plain": [
       "<kafka.producer.future.FutureRecordMetadata at 0x7f49b92a73d0>"
      ]
     },
     "execution_count": 1,
     "metadata": {},
     "output_type": "execute_result"
    },
    {
     "name": "stdout",
     "output_type": "stream",
     "text": [
      "Sent: {'Id': 100019715, 'Date': '2016-01-26T09:00:00', 'Count': 0, 'Status': 'raw', 'Channel_Id': 103019715, 'Counting_Station': 'Meerbusch', 'Coordinates': '51.261012, 6.705018', 'Year': 2016, 'Month': 1, 'Day': 26, 'Hour': 9, 'Day_of_Week': 3, 'Latitude': 51.261012, 'Longitude': 6.705018}\n"
     ]
    },
    {
     "data": {
      "text/plain": [
       "<kafka.producer.future.FutureRecordMetadata at 0x7f49b92a7c90>"
      ]
     },
     "execution_count": 1,
     "metadata": {},
     "output_type": "execute_result"
    },
    {
     "name": "stdout",
     "output_type": "stream",
     "text": [
      "Sent: {'Id': 100019715, 'Date': '2016-01-26T09:00:00', 'Count': 0, 'Status': 'raw', 'Channel_Id': 104019715, 'Counting_Station': 'Meerbusch', 'Coordinates': '51.261012, 6.705018', 'Year': 2016, 'Month': 1, 'Day': 26, 'Hour': 9, 'Day_of_Week': 3, 'Latitude': 51.261012, 'Longitude': 6.705018}\n"
     ]
    },
    {
     "data": {
      "text/plain": [
       "<kafka.producer.future.FutureRecordMetadata at 0x7f49b92a7d50>"
      ]
     },
     "execution_count": 1,
     "metadata": {},
     "output_type": "execute_result"
    },
    {
     "name": "stdout",
     "output_type": "stream",
     "text": [
      "Sent: {'Id': 100019715, 'Date': '2016-01-26T09:00:00', 'Count': 0, 'Status': 'raw', 'Channel_Id': 102019715, 'Counting_Station': 'Meerbusch', 'Coordinates': '51.261012, 6.705018', 'Year': 2016, 'Month': 1, 'Day': 26, 'Hour': 9, 'Day_of_Week': 3, 'Latitude': 51.261012, 'Longitude': 6.705018}\n"
     ]
    },
    {
     "data": {
      "text/plain": [
       "<kafka.producer.future.FutureRecordMetadata at 0x7f49b92a4650>"
      ]
     },
     "execution_count": 1,
     "metadata": {},
     "output_type": "execute_result"
    },
    {
     "name": "stdout",
     "output_type": "stream",
     "text": [
      "Sent: {'Id': 100019715, 'Date': '2016-01-26T10:00:00', 'Count': 0, 'Status': 'raw', 'Channel_Id': 101019715, 'Counting_Station': 'Meerbusch', 'Coordinates': '51.261012, 6.705018', 'Year': 2016, 'Month': 1, 'Day': 26, 'Hour': 10, 'Day_of_Week': 3, 'Latitude': 51.261012, 'Longitude': 6.705018}\n"
     ]
    },
    {
     "data": {
      "text/plain": [
       "<kafka.producer.future.FutureRecordMetadata at 0x7f49d8cb8e50>"
      ]
     },
     "execution_count": 1,
     "metadata": {},
     "output_type": "execute_result"
    },
    {
     "name": "stdout",
     "output_type": "stream",
     "text": [
      "Sent: {'Id': 100019715, 'Date': '2016-01-26T10:00:00', 'Count': 0, 'Status': 'raw', 'Channel_Id': 102019715, 'Counting_Station': 'Meerbusch', 'Coordinates': '51.261012, 6.705018', 'Year': 2016, 'Month': 1, 'Day': 26, 'Hour': 10, 'Day_of_Week': 3, 'Latitude': 51.261012, 'Longitude': 6.705018}\n"
     ]
    },
    {
     "data": {
      "text/plain": [
       "<kafka.producer.future.FutureRecordMetadata at 0x7f49b92a4c10>"
      ]
     },
     "execution_count": 1,
     "metadata": {},
     "output_type": "execute_result"
    },
    {
     "name": "stdout",
     "output_type": "stream",
     "text": [
      "Sent: {'Id': 100019715, 'Date': '2016-01-26T10:00:00', 'Count': 0, 'Status': 'raw', 'Channel_Id': 103019715, 'Counting_Station': 'Meerbusch', 'Coordinates': '51.261012, 6.705018', 'Year': 2016, 'Month': 1, 'Day': 26, 'Hour': 10, 'Day_of_Week': 3, 'Latitude': 51.261012, 'Longitude': 6.705018}\n"
     ]
    },
    {
     "data": {
      "text/plain": [
       "<kafka.producer.future.FutureRecordMetadata at 0x7f49d8c8ef90>"
      ]
     },
     "execution_count": 1,
     "metadata": {},
     "output_type": "execute_result"
    },
    {
     "name": "stdout",
     "output_type": "stream",
     "text": [
      "Sent: {'Id': 100019715, 'Date': '2016-01-26T10:00:00', 'Count': 0, 'Status': 'raw', 'Channel_Id': 104019715, 'Counting_Station': 'Meerbusch', 'Coordinates': '51.261012, 6.705018', 'Year': 2016, 'Month': 1, 'Day': 26, 'Hour': 10, 'Day_of_Week': 3, 'Latitude': 51.261012, 'Longitude': 6.705018}\n"
     ]
    },
    {
     "data": {
      "text/plain": [
       "<kafka.producer.future.FutureRecordMetadata at 0x7f49d8c8f4d0>"
      ]
     },
     "execution_count": 1,
     "metadata": {},
     "output_type": "execute_result"
    },
    {
     "name": "stdout",
     "output_type": "stream",
     "text": [
      "Sent: {'Id': 100019715, 'Date': '2016-01-26T11:00:00', 'Count': 0, 'Status': 'raw', 'Channel_Id': 102019715, 'Counting_Station': 'Meerbusch', 'Coordinates': '51.261012, 6.705018', 'Year': 2016, 'Month': 1, 'Day': 26, 'Hour': 11, 'Day_of_Week': 3, 'Latitude': 51.261012, 'Longitude': 6.705018}\n"
     ]
    },
    {
     "data": {
      "text/plain": [
       "<kafka.producer.future.FutureRecordMetadata at 0x7f49d8c8f190>"
      ]
     },
     "execution_count": 1,
     "metadata": {},
     "output_type": "execute_result"
    },
    {
     "name": "stdout",
     "output_type": "stream",
     "text": [
      "Sent: {'Id': 100019715, 'Date': '2016-01-26T11:00:00', 'Count': 0, 'Status': 'raw', 'Channel_Id': 103019715, 'Counting_Station': 'Meerbusch', 'Coordinates': '51.261012, 6.705018', 'Year': 2016, 'Month': 1, 'Day': 26, 'Hour': 11, 'Day_of_Week': 3, 'Latitude': 51.261012, 'Longitude': 6.705018}\n"
     ]
    },
    {
     "data": {
      "text/plain": [
       "<kafka.producer.future.FutureRecordMetadata at 0x7f49b92a65d0>"
      ]
     },
     "execution_count": 1,
     "metadata": {},
     "output_type": "execute_result"
    },
    {
     "name": "stdout",
     "output_type": "stream",
     "text": [
      "Sent: {'Id': 100019715, 'Date': '2016-01-26T11:00:00', 'Count': 0, 'Status': 'raw', 'Channel_Id': 104019715, 'Counting_Station': 'Meerbusch', 'Coordinates': '51.261012, 6.705018', 'Year': 2016, 'Month': 1, 'Day': 26, 'Hour': 11, 'Day_of_Week': 3, 'Latitude': 51.261012, 'Longitude': 6.705018}\n"
     ]
    },
    {
     "data": {
      "text/plain": [
       "<kafka.producer.future.FutureRecordMetadata at 0x7f49d965c6d0>"
      ]
     },
     "execution_count": 1,
     "metadata": {},
     "output_type": "execute_result"
    },
    {
     "name": "stdout",
     "output_type": "stream",
     "text": [
      "Sent: {'Id': 100019715, 'Date': '2016-01-26T11:00:00', 'Count': 0, 'Status': 'raw', 'Channel_Id': 101019715, 'Counting_Station': 'Meerbusch', 'Coordinates': '51.261012, 6.705018', 'Year': 2016, 'Month': 1, 'Day': 26, 'Hour': 11, 'Day_of_Week': 3, 'Latitude': 51.261012, 'Longitude': 6.705018}\n"
     ]
    },
    {
     "data": {
      "text/plain": [
       "<kafka.producer.future.FutureRecordMetadata at 0x7f49b92ad010>"
      ]
     },
     "execution_count": 1,
     "metadata": {},
     "output_type": "execute_result"
    },
    {
     "name": "stdout",
     "output_type": "stream",
     "text": [
      "Sent: {'Id': 100019715, 'Date': '2016-01-26T12:00:00', 'Count': 0, 'Status': 'raw', 'Channel_Id': 101019715, 'Counting_Station': 'Meerbusch', 'Coordinates': '51.261012, 6.705018', 'Year': 2016, 'Month': 1, 'Day': 26, 'Hour': 12, 'Day_of_Week': 3, 'Latitude': 51.261012, 'Longitude': 6.705018}\n"
     ]
    },
    {
     "data": {
      "text/plain": [
       "<kafka.producer.future.FutureRecordMetadata at 0x7f49b92ae9d0>"
      ]
     },
     "execution_count": 1,
     "metadata": {},
     "output_type": "execute_result"
    },
    {
     "name": "stdout",
     "output_type": "stream",
     "text": [
      "Sent: {'Id': 100019715, 'Date': '2016-01-26T12:00:00', 'Count': 0, 'Status': 'raw', 'Channel_Id': 102019715, 'Counting_Station': 'Meerbusch', 'Coordinates': '51.261012, 6.705018', 'Year': 2016, 'Month': 1, 'Day': 26, 'Hour': 12, 'Day_of_Week': 3, 'Latitude': 51.261012, 'Longitude': 6.705018}\n"
     ]
    },
    {
     "data": {
      "text/plain": [
       "<kafka.producer.future.FutureRecordMetadata at 0x7f49b92ac790>"
      ]
     },
     "execution_count": 1,
     "metadata": {},
     "output_type": "execute_result"
    },
    {
     "name": "stdout",
     "output_type": "stream",
     "text": [
      "Sent: {'Id': 100019715, 'Date': '2016-01-26T12:00:00', 'Count': 0, 'Status': 'raw', 'Channel_Id': 104019715, 'Counting_Station': 'Meerbusch', 'Coordinates': '51.261012, 6.705018', 'Year': 2016, 'Month': 1, 'Day': 26, 'Hour': 12, 'Day_of_Week': 3, 'Latitude': 51.261012, 'Longitude': 6.705018}\n"
     ]
    },
    {
     "data": {
      "text/plain": [
       "<kafka.producer.future.FutureRecordMetadata at 0x7f49b92ad7d0>"
      ]
     },
     "execution_count": 1,
     "metadata": {},
     "output_type": "execute_result"
    },
    {
     "name": "stdout",
     "output_type": "stream",
     "text": [
      "Sent: {'Id': 100019715, 'Date': '2016-01-26T12:00:00', 'Count': 0, 'Status': 'raw', 'Channel_Id': 103019715, 'Counting_Station': 'Meerbusch', 'Coordinates': '51.261012, 6.705018', 'Year': 2016, 'Month': 1, 'Day': 26, 'Hour': 12, 'Day_of_Week': 3, 'Latitude': 51.261012, 'Longitude': 6.705018}\n"
     ]
    },
    {
     "data": {
      "text/plain": [
       "<kafka.producer.future.FutureRecordMetadata at 0x7f49b92afd50>"
      ]
     },
     "execution_count": 1,
     "metadata": {},
     "output_type": "execute_result"
    },
    {
     "name": "stdout",
     "output_type": "stream",
     "text": [
      "Sent: {'Id': 100019715, 'Date': '2016-01-26T13:00:00', 'Count': 0, 'Status': 'raw', 'Channel_Id': 101019715, 'Counting_Station': 'Meerbusch', 'Coordinates': '51.261012, 6.705018', 'Year': 2016, 'Month': 1, 'Day': 26, 'Hour': 13, 'Day_of_Week': 3, 'Latitude': 51.261012, 'Longitude': 6.705018}\n"
     ]
    },
    {
     "data": {
      "text/plain": [
       "<kafka.producer.future.FutureRecordMetadata at 0x7f49b92aeed0>"
      ]
     },
     "execution_count": 1,
     "metadata": {},
     "output_type": "execute_result"
    },
    {
     "name": "stdout",
     "output_type": "stream",
     "text": [
      "Sent: {'Id': 100019715, 'Date': '2016-01-26T13:00:00', 'Count': 0, 'Status': 'raw', 'Channel_Id': 103019715, 'Counting_Station': 'Meerbusch', 'Coordinates': '51.261012, 6.705018', 'Year': 2016, 'Month': 1, 'Day': 26, 'Hour': 13, 'Day_of_Week': 3, 'Latitude': 51.261012, 'Longitude': 6.705018}\n"
     ]
    },
    {
     "data": {
      "text/plain": [
       "<kafka.producer.future.FutureRecordMetadata at 0x7f49b92b0690>"
      ]
     },
     "execution_count": 1,
     "metadata": {},
     "output_type": "execute_result"
    },
    {
     "name": "stdout",
     "output_type": "stream",
     "text": [
      "Sent: {'Id': 100019715, 'Date': '2016-01-26T13:00:00', 'Count': 0, 'Status': 'raw', 'Channel_Id': 104019715, 'Counting_Station': 'Meerbusch', 'Coordinates': '51.261012, 6.705018', 'Year': 2016, 'Month': 1, 'Day': 26, 'Hour': 13, 'Day_of_Week': 3, 'Latitude': 51.261012, 'Longitude': 6.705018}\n"
     ]
    },
    {
     "data": {
      "text/plain": [
       "<kafka.producer.future.FutureRecordMetadata at 0x7f49b92b01d0>"
      ]
     },
     "execution_count": 1,
     "metadata": {},
     "output_type": "execute_result"
    },
    {
     "name": "stdout",
     "output_type": "stream",
     "text": [
      "Sent: {'Id': 100019715, 'Date': '2016-01-26T13:00:00', 'Count': 0, 'Status': 'raw', 'Channel_Id': 102019715, 'Counting_Station': 'Meerbusch', 'Coordinates': '51.261012, 6.705018', 'Year': 2016, 'Month': 1, 'Day': 26, 'Hour': 13, 'Day_of_Week': 3, 'Latitude': 51.261012, 'Longitude': 6.705018}\n"
     ]
    },
    {
     "data": {
      "text/plain": [
       "<kafka.producer.future.FutureRecordMetadata at 0x7f49b92b1290>"
      ]
     },
     "execution_count": 1,
     "metadata": {},
     "output_type": "execute_result"
    },
    {
     "name": "stdout",
     "output_type": "stream",
     "text": [
      "Sent: {'Id': 100019715, 'Date': '2016-01-26T14:00:00', 'Count': 0, 'Status': 'raw', 'Channel_Id': 103019715, 'Counting_Station': 'Meerbusch', 'Coordinates': '51.261012, 6.705018', 'Year': 2016, 'Month': 1, 'Day': 26, 'Hour': 14, 'Day_of_Week': 3, 'Latitude': 51.261012, 'Longitude': 6.705018}\n"
     ]
    },
    {
     "data": {
      "text/plain": [
       "<kafka.producer.future.FutureRecordMetadata at 0x7f49b92b1610>"
      ]
     },
     "execution_count": 1,
     "metadata": {},
     "output_type": "execute_result"
    },
    {
     "name": "stdout",
     "output_type": "stream",
     "text": [
      "Sent: {'Id': 100019715, 'Date': '2016-01-26T14:00:00', 'Count': 0, 'Status': 'raw', 'Channel_Id': 101019715, 'Counting_Station': 'Meerbusch', 'Coordinates': '51.261012, 6.705018', 'Year': 2016, 'Month': 1, 'Day': 26, 'Hour': 14, 'Day_of_Week': 3, 'Latitude': 51.261012, 'Longitude': 6.705018}\n"
     ]
    },
    {
     "data": {
      "text/plain": [
       "<kafka.producer.future.FutureRecordMetadata at 0x7f49b92b1a50>"
      ]
     },
     "execution_count": 1,
     "metadata": {},
     "output_type": "execute_result"
    },
    {
     "name": "stdout",
     "output_type": "stream",
     "text": [
      "Sent: {'Id': 100019715, 'Date': '2016-01-26T14:00:00', 'Count': 0, 'Status': 'raw', 'Channel_Id': 104019715, 'Counting_Station': 'Meerbusch', 'Coordinates': '51.261012, 6.705018', 'Year': 2016, 'Month': 1, 'Day': 26, 'Hour': 14, 'Day_of_Week': 3, 'Latitude': 51.261012, 'Longitude': 6.705018}\n"
     ]
    },
    {
     "data": {
      "text/plain": [
       "<kafka.producer.future.FutureRecordMetadata at 0x7f49b92b1050>"
      ]
     },
     "execution_count": 1,
     "metadata": {},
     "output_type": "execute_result"
    },
    {
     "name": "stdout",
     "output_type": "stream",
     "text": [
      "Sent: {'Id': 100019715, 'Date': '2016-01-26T14:00:00', 'Count': 0, 'Status': 'raw', 'Channel_Id': 102019715, 'Counting_Station': 'Meerbusch', 'Coordinates': '51.261012, 6.705018', 'Year': 2016, 'Month': 1, 'Day': 26, 'Hour': 14, 'Day_of_Week': 3, 'Latitude': 51.261012, 'Longitude': 6.705018}\n"
     ]
    },
    {
     "data": {
      "text/plain": [
       "<kafka.producer.future.FutureRecordMetadata at 0x7f49b92aea90>"
      ]
     },
     "execution_count": 1,
     "metadata": {},
     "output_type": "execute_result"
    },
    {
     "name": "stdout",
     "output_type": "stream",
     "text": [
      "Sent: {'Id': 100019715, 'Date': '2016-01-26T15:00:00', 'Count': 0, 'Status': 'raw', 'Channel_Id': 101019715, 'Counting_Station': 'Meerbusch', 'Coordinates': '51.261012, 6.705018', 'Year': 2016, 'Month': 1, 'Day': 26, 'Hour': 15, 'Day_of_Week': 3, 'Latitude': 51.261012, 'Longitude': 6.705018}\n"
     ]
    },
    {
     "data": {
      "text/plain": [
       "<kafka.producer.future.FutureRecordMetadata at 0x7f49b92ac0d0>"
      ]
     },
     "execution_count": 1,
     "metadata": {},
     "output_type": "execute_result"
    },
    {
     "name": "stdout",
     "output_type": "stream",
     "text": [
      "Sent: {'Id': 100019715, 'Date': '2016-01-26T15:00:00', 'Count': 0, 'Status': 'raw', 'Channel_Id': 104019715, 'Counting_Station': 'Meerbusch', 'Coordinates': '51.261012, 6.705018', 'Year': 2016, 'Month': 1, 'Day': 26, 'Hour': 15, 'Day_of_Week': 3, 'Latitude': 51.261012, 'Longitude': 6.705018}\n"
     ]
    },
    {
     "data": {
      "text/plain": [
       "<kafka.producer.future.FutureRecordMetadata at 0x7f49b92afad0>"
      ]
     },
     "execution_count": 1,
     "metadata": {},
     "output_type": "execute_result"
    },
    {
     "name": "stdout",
     "output_type": "stream",
     "text": [
      "Sent: {'Id': 100019715, 'Date': '2016-01-26T15:00:00', 'Count': 0, 'Status': 'raw', 'Channel_Id': 103019715, 'Counting_Station': 'Meerbusch', 'Coordinates': '51.261012, 6.705018', 'Year': 2016, 'Month': 1, 'Day': 26, 'Hour': 15, 'Day_of_Week': 3, 'Latitude': 51.261012, 'Longitude': 6.705018}\n"
     ]
    },
    {
     "data": {
      "text/plain": [
       "<kafka.producer.future.FutureRecordMetadata at 0x7f49b92aef50>"
      ]
     },
     "execution_count": 1,
     "metadata": {},
     "output_type": "execute_result"
    },
    {
     "name": "stdout",
     "output_type": "stream",
     "text": [
      "Sent: {'Id': 100019715, 'Date': '2016-01-26T15:00:00', 'Count': 0, 'Status': 'raw', 'Channel_Id': 102019715, 'Counting_Station': 'Meerbusch', 'Coordinates': '51.261012, 6.705018', 'Year': 2016, 'Month': 1, 'Day': 26, 'Hour': 15, 'Day_of_Week': 3, 'Latitude': 51.261012, 'Longitude': 6.705018}\n"
     ]
    },
    {
     "data": {
      "text/plain": [
       "<kafka.producer.future.FutureRecordMetadata at 0x7f49d8cb8c50>"
      ]
     },
     "execution_count": 1,
     "metadata": {},
     "output_type": "execute_result"
    },
    {
     "name": "stdout",
     "output_type": "stream",
     "text": [
      "Sent: {'Id': 100019715, 'Date': '2016-01-26T16:00:00', 'Count': 0, 'Status': 'raw', 'Channel_Id': 101019715, 'Counting_Station': 'Meerbusch', 'Coordinates': '51.261012, 6.705018', 'Year': 2016, 'Month': 1, 'Day': 26, 'Hour': 16, 'Day_of_Week': 3, 'Latitude': 51.261012, 'Longitude': 6.705018}\n"
     ]
    },
    {
     "data": {
      "text/plain": [
       "<kafka.producer.future.FutureRecordMetadata at 0x7f49da0fc3d0>"
      ]
     },
     "execution_count": 1,
     "metadata": {},
     "output_type": "execute_result"
    },
    {
     "name": "stdout",
     "output_type": "stream",
     "text": [
      "Sent: {'Id': 100019715, 'Date': '2016-01-26T16:00:00', 'Count': 0, 'Status': 'raw', 'Channel_Id': 103019715, 'Counting_Station': 'Meerbusch', 'Coordinates': '51.261012, 6.705018', 'Year': 2016, 'Month': 1, 'Day': 26, 'Hour': 16, 'Day_of_Week': 3, 'Latitude': 51.261012, 'Longitude': 6.705018}\n"
     ]
    },
    {
     "data": {
      "text/plain": [
       "<kafka.producer.future.FutureRecordMetadata at 0x7f49b92acd90>"
      ]
     },
     "execution_count": 1,
     "metadata": {},
     "output_type": "execute_result"
    },
    {
     "name": "stdout",
     "output_type": "stream",
     "text": [
      "Sent: {'Id': 100019715, 'Date': '2016-01-26T16:00:00', 'Count': 0, 'Status': 'raw', 'Channel_Id': 104019715, 'Counting_Station': 'Meerbusch', 'Coordinates': '51.261012, 6.705018', 'Year': 2016, 'Month': 1, 'Day': 26, 'Hour': 16, 'Day_of_Week': 3, 'Latitude': 51.261012, 'Longitude': 6.705018}\n"
     ]
    },
    {
     "data": {
      "text/plain": [
       "<kafka.producer.future.FutureRecordMetadata at 0x7f49b92a5550>"
      ]
     },
     "execution_count": 1,
     "metadata": {},
     "output_type": "execute_result"
    },
    {
     "name": "stdout",
     "output_type": "stream",
     "text": [
      "Sent: {'Id': 100019715, 'Date': '2016-01-26T16:00:00', 'Count': 0, 'Status': 'raw', 'Channel_Id': 102019715, 'Counting_Station': 'Meerbusch', 'Coordinates': '51.261012, 6.705018', 'Year': 2016, 'Month': 1, 'Day': 26, 'Hour': 16, 'Day_of_Week': 3, 'Latitude': 51.261012, 'Longitude': 6.705018}\n"
     ]
    },
    {
     "data": {
      "text/plain": [
       "<kafka.producer.future.FutureRecordMetadata at 0x7f49b92a7550>"
      ]
     },
     "execution_count": 1,
     "metadata": {},
     "output_type": "execute_result"
    },
    {
     "name": "stdout",
     "output_type": "stream",
     "text": [
      "Sent: {'Id': 100019715, 'Date': '2016-01-26T17:00:00', 'Count': 0, 'Status': 'raw', 'Channel_Id': 101019715, 'Counting_Station': 'Meerbusch', 'Coordinates': '51.261012, 6.705018', 'Year': 2016, 'Month': 1, 'Day': 26, 'Hour': 17, 'Day_of_Week': 3, 'Latitude': 51.261012, 'Longitude': 6.705018}\n"
     ]
    },
    {
     "data": {
      "text/plain": [
       "<kafka.producer.future.FutureRecordMetadata at 0x7f49b92a7750>"
      ]
     },
     "execution_count": 1,
     "metadata": {},
     "output_type": "execute_result"
    },
    {
     "name": "stdout",
     "output_type": "stream",
     "text": [
      "Sent: {'Id': 100019715, 'Date': '2016-01-26T17:00:00', 'Count': 0, 'Status': 'raw', 'Channel_Id': 104019715, 'Counting_Station': 'Meerbusch', 'Coordinates': '51.261012, 6.705018', 'Year': 2016, 'Month': 1, 'Day': 26, 'Hour': 17, 'Day_of_Week': 3, 'Latitude': 51.261012, 'Longitude': 6.705018}\n"
     ]
    },
    {
     "data": {
      "text/plain": [
       "<kafka.producer.future.FutureRecordMetadata at 0x7f49b92a4450>"
      ]
     },
     "execution_count": 1,
     "metadata": {},
     "output_type": "execute_result"
    },
    {
     "name": "stdout",
     "output_type": "stream",
     "text": [
      "Sent: {'Id': 100019715, 'Date': '2016-01-26T17:00:00', 'Count': 0, 'Status': 'raw', 'Channel_Id': 103019715, 'Counting_Station': 'Meerbusch', 'Coordinates': '51.261012, 6.705018', 'Year': 2016, 'Month': 1, 'Day': 26, 'Hour': 17, 'Day_of_Week': 3, 'Latitude': 51.261012, 'Longitude': 6.705018}\n"
     ]
    },
    {
     "data": {
      "text/plain": [
       "<kafka.producer.future.FutureRecordMetadata at 0x7f49b92a7350>"
      ]
     },
     "execution_count": 1,
     "metadata": {},
     "output_type": "execute_result"
    },
    {
     "name": "stdout",
     "output_type": "stream",
     "text": [
      "Sent: {'Id': 100019715, 'Date': '2016-01-26T17:00:00', 'Count': 0, 'Status': 'raw', 'Channel_Id': 102019715, 'Counting_Station': 'Meerbusch', 'Coordinates': '51.261012, 6.705018', 'Year': 2016, 'Month': 1, 'Day': 26, 'Hour': 17, 'Day_of_Week': 3, 'Latitude': 51.261012, 'Longitude': 6.705018}\n"
     ]
    },
    {
     "data": {
      "text/plain": [
       "<kafka.producer.future.FutureRecordMetadata at 0x7f49b92a5990>"
      ]
     },
     "execution_count": 1,
     "metadata": {},
     "output_type": "execute_result"
    },
    {
     "name": "stdout",
     "output_type": "stream",
     "text": [
      "Sent: {'Id': 100019715, 'Date': '2016-01-26T18:00:00', 'Count': 0, 'Status': 'raw', 'Channel_Id': 103019715, 'Counting_Station': 'Meerbusch', 'Coordinates': '51.261012, 6.705018', 'Year': 2016, 'Month': 1, 'Day': 26, 'Hour': 18, 'Day_of_Week': 3, 'Latitude': 51.261012, 'Longitude': 6.705018}\n"
     ]
    },
    {
     "data": {
      "text/plain": [
       "<kafka.producer.future.FutureRecordMetadata at 0x7f49b92a7c10>"
      ]
     },
     "execution_count": 1,
     "metadata": {},
     "output_type": "execute_result"
    },
    {
     "name": "stdout",
     "output_type": "stream",
     "text": [
      "Sent: {'Id': 100019715, 'Date': '2016-01-26T18:00:00', 'Count': 0, 'Status': 'raw', 'Channel_Id': 101019715, 'Counting_Station': 'Meerbusch', 'Coordinates': '51.261012, 6.705018', 'Year': 2016, 'Month': 1, 'Day': 26, 'Hour': 18, 'Day_of_Week': 3, 'Latitude': 51.261012, 'Longitude': 6.705018}\n"
     ]
    },
    {
     "data": {
      "text/plain": [
       "<kafka.producer.future.FutureRecordMetadata at 0x7f49b92b1fd0>"
      ]
     },
     "execution_count": 1,
     "metadata": {},
     "output_type": "execute_result"
    },
    {
     "name": "stdout",
     "output_type": "stream",
     "text": [
      "Sent: {'Id': 100019715, 'Date': '2016-01-26T18:00:00', 'Count': 0, 'Status': 'raw', 'Channel_Id': 104019715, 'Counting_Station': 'Meerbusch', 'Coordinates': '51.261012, 6.705018', 'Year': 2016, 'Month': 1, 'Day': 26, 'Hour': 18, 'Day_of_Week': 3, 'Latitude': 51.261012, 'Longitude': 6.705018}\n"
     ]
    },
    {
     "data": {
      "text/plain": [
       "<kafka.producer.future.FutureRecordMetadata at 0x7f49b92b1d90>"
      ]
     },
     "execution_count": 1,
     "metadata": {},
     "output_type": "execute_result"
    },
    {
     "name": "stdout",
     "output_type": "stream",
     "text": [
      "Sent: {'Id': 100019715, 'Date': '2016-01-26T18:00:00', 'Count': 0, 'Status': 'raw', 'Channel_Id': 102019715, 'Counting_Station': 'Meerbusch', 'Coordinates': '51.261012, 6.705018', 'Year': 2016, 'Month': 1, 'Day': 26, 'Hour': 18, 'Day_of_Week': 3, 'Latitude': 51.261012, 'Longitude': 6.705018}\n"
     ]
    },
    {
     "data": {
      "text/plain": [
       "<kafka.producer.future.FutureRecordMetadata at 0x7f49b92b1810>"
      ]
     },
     "execution_count": 1,
     "metadata": {},
     "output_type": "execute_result"
    },
    {
     "name": "stdout",
     "output_type": "stream",
     "text": [
      "Sent: {'Id': 100019715, 'Date': '2016-01-26T19:00:00', 'Count': 0, 'Status': 'raw', 'Channel_Id': 103019715, 'Counting_Station': 'Meerbusch', 'Coordinates': '51.261012, 6.705018', 'Year': 2016, 'Month': 1, 'Day': 26, 'Hour': 19, 'Day_of_Week': 3, 'Latitude': 51.261012, 'Longitude': 6.705018}\n"
     ]
    },
    {
     "data": {
      "text/plain": [
       "<kafka.producer.future.FutureRecordMetadata at 0x7f49b92a4290>"
      ]
     },
     "execution_count": 1,
     "metadata": {},
     "output_type": "execute_result"
    },
    {
     "name": "stdout",
     "output_type": "stream",
     "text": [
      "Sent: {'Id': 100019715, 'Date': '2016-01-26T19:00:00', 'Count': 0, 'Status': 'raw', 'Channel_Id': 104019715, 'Counting_Station': 'Meerbusch', 'Coordinates': '51.261012, 6.705018', 'Year': 2016, 'Month': 1, 'Day': 26, 'Hour': 19, 'Day_of_Week': 3, 'Latitude': 51.261012, 'Longitude': 6.705018}\n"
     ]
    },
    {
     "data": {
      "text/plain": [
       "<kafka.producer.future.FutureRecordMetadata at 0x7f49b92b2e10>"
      ]
     },
     "execution_count": 1,
     "metadata": {},
     "output_type": "execute_result"
    },
    {
     "name": "stdout",
     "output_type": "stream",
     "text": [
      "Sent: {'Id': 100019715, 'Date': '2016-01-26T19:00:00', 'Count': 0, 'Status': 'raw', 'Channel_Id': 101019715, 'Counting_Station': 'Meerbusch', 'Coordinates': '51.261012, 6.705018', 'Year': 2016, 'Month': 1, 'Day': 26, 'Hour': 19, 'Day_of_Week': 3, 'Latitude': 51.261012, 'Longitude': 6.705018}\n"
     ]
    },
    {
     "data": {
      "text/plain": [
       "<kafka.producer.future.FutureRecordMetadata at 0x7f49b92b3610>"
      ]
     },
     "execution_count": 1,
     "metadata": {},
     "output_type": "execute_result"
    },
    {
     "name": "stdout",
     "output_type": "stream",
     "text": [
      "Sent: {'Id': 100019715, 'Date': '2016-01-26T19:00:00', 'Count': 0, 'Status': 'raw', 'Channel_Id': 102019715, 'Counting_Station': 'Meerbusch', 'Coordinates': '51.261012, 6.705018', 'Year': 2016, 'Month': 1, 'Day': 26, 'Hour': 19, 'Day_of_Week': 3, 'Latitude': 51.261012, 'Longitude': 6.705018}\n"
     ]
    },
    {
     "data": {
      "text/plain": [
       "<kafka.producer.future.FutureRecordMetadata at 0x7f49b92b2d50>"
      ]
     },
     "execution_count": 1,
     "metadata": {},
     "output_type": "execute_result"
    },
    {
     "name": "stdout",
     "output_type": "stream",
     "text": [
      "Sent: {'Id': 100019715, 'Date': '2016-01-26T20:00:00', 'Count': 0, 'Status': 'raw', 'Channel_Id': 101019715, 'Counting_Station': 'Meerbusch', 'Coordinates': '51.261012, 6.705018', 'Year': 2016, 'Month': 1, 'Day': 26, 'Hour': 20, 'Day_of_Week': 3, 'Latitude': 51.261012, 'Longitude': 6.705018}\n"
     ]
    },
    {
     "data": {
      "text/plain": [
       "<kafka.producer.future.FutureRecordMetadata at 0x7f49b92b1cd0>"
      ]
     },
     "execution_count": 1,
     "metadata": {},
     "output_type": "execute_result"
    },
    {
     "name": "stdout",
     "output_type": "stream",
     "text": [
      "Sent: {'Id': 100019715, 'Date': '2016-01-26T20:00:00', 'Count': 0, 'Status': 'raw', 'Channel_Id': 103019715, 'Counting_Station': 'Meerbusch', 'Coordinates': '51.261012, 6.705018', 'Year': 2016, 'Month': 1, 'Day': 26, 'Hour': 20, 'Day_of_Week': 3, 'Latitude': 51.261012, 'Longitude': 6.705018}\n"
     ]
    },
    {
     "data": {
      "text/plain": [
       "<kafka.producer.future.FutureRecordMetadata at 0x7f49b92b2450>"
      ]
     },
     "execution_count": 1,
     "metadata": {},
     "output_type": "execute_result"
    },
    {
     "name": "stdout",
     "output_type": "stream",
     "text": [
      "Sent: {'Id': 100019715, 'Date': '2016-01-26T20:00:00', 'Count': 0, 'Status': 'raw', 'Channel_Id': 104019715, 'Counting_Station': 'Meerbusch', 'Coordinates': '51.261012, 6.705018', 'Year': 2016, 'Month': 1, 'Day': 26, 'Hour': 20, 'Day_of_Week': 3, 'Latitude': 51.261012, 'Longitude': 6.705018}\n"
     ]
    },
    {
     "data": {
      "text/plain": [
       "<kafka.producer.future.FutureRecordMetadata at 0x7f49b92b2510>"
      ]
     },
     "execution_count": 1,
     "metadata": {},
     "output_type": "execute_result"
    },
    {
     "name": "stdout",
     "output_type": "stream",
     "text": [
      "Sent: {'Id': 100019715, 'Date': '2016-01-26T20:00:00', 'Count': 0, 'Status': 'raw', 'Channel_Id': 102019715, 'Counting_Station': 'Meerbusch', 'Coordinates': '51.261012, 6.705018', 'Year': 2016, 'Month': 1, 'Day': 26, 'Hour': 20, 'Day_of_Week': 3, 'Latitude': 51.261012, 'Longitude': 6.705018}\n"
     ]
    },
    {
     "data": {
      "text/plain": [
       "<kafka.producer.future.FutureRecordMetadata at 0x7f49b92b3e50>"
      ]
     },
     "execution_count": 1,
     "metadata": {},
     "output_type": "execute_result"
    },
    {
     "name": "stdout",
     "output_type": "stream",
     "text": [
      "Sent: {'Id': 100019715, 'Date': '2016-01-26T21:00:00', 'Count': 0, 'Status': 'raw', 'Channel_Id': 103019715, 'Counting_Station': 'Meerbusch', 'Coordinates': '51.261012, 6.705018', 'Year': 2016, 'Month': 1, 'Day': 26, 'Hour': 21, 'Day_of_Week': 3, 'Latitude': 51.261012, 'Longitude': 6.705018}\n"
     ]
    },
    {
     "data": {
      "text/plain": [
       "<kafka.producer.future.FutureRecordMetadata at 0x7f49b92a4290>"
      ]
     },
     "execution_count": 1,
     "metadata": {},
     "output_type": "execute_result"
    },
    {
     "name": "stdout",
     "output_type": "stream",
     "text": [
      "Sent: {'Id': 100019715, 'Date': '2016-01-26T21:00:00', 'Count': 0, 'Status': 'raw', 'Channel_Id': 104019715, 'Counting_Station': 'Meerbusch', 'Coordinates': '51.261012, 6.705018', 'Year': 2016, 'Month': 1, 'Day': 26, 'Hour': 21, 'Day_of_Week': 3, 'Latitude': 51.261012, 'Longitude': 6.705018}\n"
     ]
    },
    {
     "data": {
      "text/plain": [
       "<kafka.producer.future.FutureRecordMetadata at 0x7f49b92a4990>"
      ]
     },
     "execution_count": 1,
     "metadata": {},
     "output_type": "execute_result"
    },
    {
     "name": "stdout",
     "output_type": "stream",
     "text": [
      "Sent: {'Id': 100019715, 'Date': '2016-01-26T21:00:00', 'Count': 0, 'Status': 'raw', 'Channel_Id': 101019715, 'Counting_Station': 'Meerbusch', 'Coordinates': '51.261012, 6.705018', 'Year': 2016, 'Month': 1, 'Day': 26, 'Hour': 21, 'Day_of_Week': 3, 'Latitude': 51.261012, 'Longitude': 6.705018}\n"
     ]
    },
    {
     "data": {
      "text/plain": [
       "<kafka.producer.future.FutureRecordMetadata at 0x7f49b92a5610>"
      ]
     },
     "execution_count": 1,
     "metadata": {},
     "output_type": "execute_result"
    },
    {
     "name": "stdout",
     "output_type": "stream",
     "text": [
      "Sent: {'Id': 100019715, 'Date': '2016-01-26T21:00:00', 'Count': 0, 'Status': 'raw', 'Channel_Id': 102019715, 'Counting_Station': 'Meerbusch', 'Coordinates': '51.261012, 6.705018', 'Year': 2016, 'Month': 1, 'Day': 26, 'Hour': 21, 'Day_of_Week': 3, 'Latitude': 51.261012, 'Longitude': 6.705018}\n"
     ]
    },
    {
     "data": {
      "text/plain": [
       "<kafka.producer.future.FutureRecordMetadata at 0x7f49da0fe110>"
      ]
     },
     "execution_count": 1,
     "metadata": {},
     "output_type": "execute_result"
    },
    {
     "name": "stdout",
     "output_type": "stream",
     "text": [
      "Sent: {'Id': 100019715, 'Date': '2016-01-26T22:00:00', 'Count': 0, 'Status': 'raw', 'Channel_Id': 101019715, 'Counting_Station': 'Meerbusch', 'Coordinates': '51.261012, 6.705018', 'Year': 2016, 'Month': 1, 'Day': 26, 'Hour': 22, 'Day_of_Week': 3, 'Latitude': 51.261012, 'Longitude': 6.705018}\n"
     ]
    },
    {
     "data": {
      "text/plain": [
       "<kafka.producer.future.FutureRecordMetadata at 0x7f49b92b2f50>"
      ]
     },
     "execution_count": 1,
     "metadata": {},
     "output_type": "execute_result"
    },
    {
     "name": "stdout",
     "output_type": "stream",
     "text": [
      "Sent: {'Id': 100019715, 'Date': '2016-01-26T22:00:00', 'Count': 0, 'Status': 'raw', 'Channel_Id': 103019715, 'Counting_Station': 'Meerbusch', 'Coordinates': '51.261012, 6.705018', 'Year': 2016, 'Month': 1, 'Day': 26, 'Hour': 22, 'Day_of_Week': 3, 'Latitude': 51.261012, 'Longitude': 6.705018}\n"
     ]
    },
    {
     "data": {
      "text/plain": [
       "<kafka.producer.future.FutureRecordMetadata at 0x7f49b92a3f90>"
      ]
     },
     "execution_count": 1,
     "metadata": {},
     "output_type": "execute_result"
    },
    {
     "name": "stdout",
     "output_type": "stream",
     "text": [
      "Sent: {'Id': 100019715, 'Date': '2016-01-26T22:00:00', 'Count': 0, 'Status': 'raw', 'Channel_Id': 104019715, 'Counting_Station': 'Meerbusch', 'Coordinates': '51.261012, 6.705018', 'Year': 2016, 'Month': 1, 'Day': 26, 'Hour': 22, 'Day_of_Week': 3, 'Latitude': 51.261012, 'Longitude': 6.705018}\n"
     ]
    },
    {
     "data": {
      "text/plain": [
       "<kafka.producer.future.FutureRecordMetadata at 0x7f49b92a7e90>"
      ]
     },
     "execution_count": 1,
     "metadata": {},
     "output_type": "execute_result"
    },
    {
     "name": "stdout",
     "output_type": "stream",
     "text": [
      "Sent: {'Id': 100019715, 'Date': '2016-01-26T22:00:00', 'Count': 0, 'Status': 'raw', 'Channel_Id': 102019715, 'Counting_Station': 'Meerbusch', 'Coordinates': '51.261012, 6.705018', 'Year': 2016, 'Month': 1, 'Day': 26, 'Hour': 22, 'Day_of_Week': 3, 'Latitude': 51.261012, 'Longitude': 6.705018}\n"
     ]
    },
    {
     "data": {
      "text/plain": [
       "<kafka.producer.future.FutureRecordMetadata at 0x7f49d8c8fb50>"
      ]
     },
     "execution_count": 1,
     "metadata": {},
     "output_type": "execute_result"
    },
    {
     "name": "stdout",
     "output_type": "stream",
     "text": [
      "Sent: {'Id': 100019715, 'Date': '2016-01-26T23:00:00', 'Count': 0, 'Status': 'raw', 'Channel_Id': 103019715, 'Counting_Station': 'Meerbusch', 'Coordinates': '51.261012, 6.705018', 'Year': 2016, 'Month': 1, 'Day': 26, 'Hour': 23, 'Day_of_Week': 3, 'Latitude': 51.261012, 'Longitude': 6.705018}\n"
     ]
    },
    {
     "data": {
      "text/plain": [
       "<kafka.producer.future.FutureRecordMetadata at 0x7f49d8c8e390>"
      ]
     },
     "execution_count": 1,
     "metadata": {},
     "output_type": "execute_result"
    },
    {
     "name": "stdout",
     "output_type": "stream",
     "text": [
      "Sent: {'Id': 100019715, 'Date': '2016-01-26T23:00:00', 'Count': 0, 'Status': 'raw', 'Channel_Id': 101019715, 'Counting_Station': 'Meerbusch', 'Coordinates': '51.261012, 6.705018', 'Year': 2016, 'Month': 1, 'Day': 26, 'Hour': 23, 'Day_of_Week': 3, 'Latitude': 51.261012, 'Longitude': 6.705018}\n"
     ]
    },
    {
     "data": {
      "text/plain": [
       "<kafka.producer.future.FutureRecordMetadata at 0x7f49d8c8e810>"
      ]
     },
     "execution_count": 1,
     "metadata": {},
     "output_type": "execute_result"
    },
    {
     "name": "stdout",
     "output_type": "stream",
     "text": [
      "Sent: {'Id': 100019715, 'Date': '2016-01-26T23:00:00', 'Count': 0, 'Status': 'raw', 'Channel_Id': 104019715, 'Counting_Station': 'Meerbusch', 'Coordinates': '51.261012, 6.705018', 'Year': 2016, 'Month': 1, 'Day': 26, 'Hour': 23, 'Day_of_Week': 3, 'Latitude': 51.261012, 'Longitude': 6.705018}\n"
     ]
    },
    {
     "data": {
      "text/plain": [
       "<kafka.producer.future.FutureRecordMetadata at 0x7f49b92a7a90>"
      ]
     },
     "execution_count": 1,
     "metadata": {},
     "output_type": "execute_result"
    },
    {
     "name": "stdout",
     "output_type": "stream",
     "text": [
      "Sent: {'Id': 100019715, 'Date': '2016-01-26T23:00:00', 'Count': 0, 'Status': 'raw', 'Channel_Id': 102019715, 'Counting_Station': 'Meerbusch', 'Coordinates': '51.261012, 6.705018', 'Year': 2016, 'Month': 1, 'Day': 26, 'Hour': 23, 'Day_of_Week': 3, 'Latitude': 51.261012, 'Longitude': 6.705018}\n"
     ]
    },
    {
     "data": {
      "text/plain": [
       "<kafka.producer.future.FutureRecordMetadata at 0x7f49b92aff10>"
      ]
     },
     "execution_count": 1,
     "metadata": {},
     "output_type": "execute_result"
    },
    {
     "name": "stdout",
     "output_type": "stream",
     "text": [
      "Sent: {'Id': 100019715, 'Date': '2016-01-27T00:00:00', 'Count': 0, 'Status': 'raw', 'Channel_Id': 104019715, 'Counting_Station': 'Meerbusch', 'Coordinates': '51.261012, 6.705018', 'Year': 2016, 'Month': 1, 'Day': 27, 'Hour': 0, 'Day_of_Week': 4, 'Latitude': 51.261012, 'Longitude': 6.705018}\n"
     ]
    },
    {
     "data": {
      "text/plain": [
       "<kafka.producer.future.FutureRecordMetadata at 0x7f49b92acc10>"
      ]
     },
     "execution_count": 1,
     "metadata": {},
     "output_type": "execute_result"
    },
    {
     "name": "stdout",
     "output_type": "stream",
     "text": [
      "Sent: {'Id': 100019715, 'Date': '2016-01-27T00:00:00', 'Count': 0, 'Status': 'raw', 'Channel_Id': 103019715, 'Counting_Station': 'Meerbusch', 'Coordinates': '51.261012, 6.705018', 'Year': 2016, 'Month': 1, 'Day': 27, 'Hour': 0, 'Day_of_Week': 4, 'Latitude': 51.261012, 'Longitude': 6.705018}\n"
     ]
    },
    {
     "data": {
      "text/plain": [
       "<kafka.producer.future.FutureRecordMetadata at 0x7f49b92adc50>"
      ]
     },
     "execution_count": 1,
     "metadata": {},
     "output_type": "execute_result"
    },
    {
     "name": "stdout",
     "output_type": "stream",
     "text": [
      "Sent: {'Id': 100019715, 'Date': '2016-01-27T00:00:00', 'Count': 0, 'Status': 'raw', 'Channel_Id': 102019715, 'Counting_Station': 'Meerbusch', 'Coordinates': '51.261012, 6.705018', 'Year': 2016, 'Month': 1, 'Day': 27, 'Hour': 0, 'Day_of_Week': 4, 'Latitude': 51.261012, 'Longitude': 6.705018}\n"
     ]
    },
    {
     "data": {
      "text/plain": [
       "<kafka.producer.future.FutureRecordMetadata at 0x7f49b92acb50>"
      ]
     },
     "execution_count": 1,
     "metadata": {},
     "output_type": "execute_result"
    },
    {
     "name": "stdout",
     "output_type": "stream",
     "text": [
      "Sent: {'Id': 100019715, 'Date': '2016-01-27T00:00:00', 'Count': 0, 'Status': 'raw', 'Channel_Id': 101019715, 'Counting_Station': 'Meerbusch', 'Coordinates': '51.261012, 6.705018', 'Year': 2016, 'Month': 1, 'Day': 27, 'Hour': 0, 'Day_of_Week': 4, 'Latitude': 51.261012, 'Longitude': 6.705018}\n"
     ]
    },
    {
     "data": {
      "text/plain": [
       "<kafka.producer.future.FutureRecordMetadata at 0x7f49b92ac650>"
      ]
     },
     "execution_count": 1,
     "metadata": {},
     "output_type": "execute_result"
    },
    {
     "name": "stdout",
     "output_type": "stream",
     "text": [
      "Sent: {'Id': 100019715, 'Date': '2016-01-27T01:00:00', 'Count': 0, 'Status': 'raw', 'Channel_Id': 102019715, 'Counting_Station': 'Meerbusch', 'Coordinates': '51.261012, 6.705018', 'Year': 2016, 'Month': 1, 'Day': 27, 'Hour': 1, 'Day_of_Week': 4, 'Latitude': 51.261012, 'Longitude': 6.705018}\n"
     ]
    },
    {
     "data": {
      "text/plain": [
       "<kafka.producer.future.FutureRecordMetadata at 0x7f49b92bc290>"
      ]
     },
     "execution_count": 1,
     "metadata": {},
     "output_type": "execute_result"
    },
    {
     "name": "stdout",
     "output_type": "stream",
     "text": [
      "Sent: {'Id': 100019715, 'Date': '2016-01-27T01:00:00', 'Count': 0, 'Status': 'raw', 'Channel_Id': 103019715, 'Counting_Station': 'Meerbusch', 'Coordinates': '51.261012, 6.705018', 'Year': 2016, 'Month': 1, 'Day': 27, 'Hour': 1, 'Day_of_Week': 4, 'Latitude': 51.261012, 'Longitude': 6.705018}\n"
     ]
    },
    {
     "data": {
      "text/plain": [
       "<kafka.producer.future.FutureRecordMetadata at 0x7f49b92bc090>"
      ]
     },
     "execution_count": 1,
     "metadata": {},
     "output_type": "execute_result"
    },
    {
     "name": "stdout",
     "output_type": "stream",
     "text": [
      "Sent: {'Id': 100019715, 'Date': '2016-01-27T01:00:00', 'Count': 0, 'Status': 'raw', 'Channel_Id': 104019715, 'Counting_Station': 'Meerbusch', 'Coordinates': '51.261012, 6.705018', 'Year': 2016, 'Month': 1, 'Day': 27, 'Hour': 1, 'Day_of_Week': 4, 'Latitude': 51.261012, 'Longitude': 6.705018}\n"
     ]
    },
    {
     "data": {
      "text/plain": [
       "<kafka.producer.future.FutureRecordMetadata at 0x7f49b92bd2d0>"
      ]
     },
     "execution_count": 1,
     "metadata": {},
     "output_type": "execute_result"
    },
    {
     "name": "stdout",
     "output_type": "stream",
     "text": [
      "Sent: {'Id': 100019715, 'Date': '2016-01-27T01:00:00', 'Count': 0, 'Status': 'raw', 'Channel_Id': 101019715, 'Counting_Station': 'Meerbusch', 'Coordinates': '51.261012, 6.705018', 'Year': 2016, 'Month': 1, 'Day': 27, 'Hour': 1, 'Day_of_Week': 4, 'Latitude': 51.261012, 'Longitude': 6.705018}\n"
     ]
    },
    {
     "data": {
      "text/plain": [
       "<kafka.producer.future.FutureRecordMetadata at 0x7f49b92bcd50>"
      ]
     },
     "execution_count": 1,
     "metadata": {},
     "output_type": "execute_result"
    },
    {
     "name": "stdout",
     "output_type": "stream",
     "text": [
      "Sent: {'Id': 100019715, 'Date': '2016-01-27T02:00:00', 'Count': 0, 'Status': 'raw', 'Channel_Id': 102019715, 'Counting_Station': 'Meerbusch', 'Coordinates': '51.261012, 6.705018', 'Year': 2016, 'Month': 1, 'Day': 27, 'Hour': 2, 'Day_of_Week': 4, 'Latitude': 51.261012, 'Longitude': 6.705018}\n"
     ]
    },
    {
     "data": {
      "text/plain": [
       "<kafka.producer.future.FutureRecordMetadata at 0x7f49b92bd410>"
      ]
     },
     "execution_count": 1,
     "metadata": {},
     "output_type": "execute_result"
    },
    {
     "name": "stdout",
     "output_type": "stream",
     "text": [
      "Sent: {'Id': 100019715, 'Date': '2016-01-27T02:00:00', 'Count': 0, 'Status': 'raw', 'Channel_Id': 103019715, 'Counting_Station': 'Meerbusch', 'Coordinates': '51.261012, 6.705018', 'Year': 2016, 'Month': 1, 'Day': 27, 'Hour': 2, 'Day_of_Week': 4, 'Latitude': 51.261012, 'Longitude': 6.705018}\n"
     ]
    },
    {
     "data": {
      "text/plain": [
       "<kafka.producer.future.FutureRecordMetadata at 0x7f49d8cbae50>"
      ]
     },
     "execution_count": 1,
     "metadata": {},
     "output_type": "execute_result"
    },
    {
     "name": "stdout",
     "output_type": "stream",
     "text": [
      "Sent: {'Id': 100019715, 'Date': '2016-01-27T02:00:00', 'Count': 0, 'Status': 'raw', 'Channel_Id': 104019715, 'Counting_Station': 'Meerbusch', 'Coordinates': '51.261012, 6.705018', 'Year': 2016, 'Month': 1, 'Day': 27, 'Hour': 2, 'Day_of_Week': 4, 'Latitude': 51.261012, 'Longitude': 6.705018}\n"
     ]
    },
    {
     "data": {
      "text/plain": [
       "<kafka.producer.future.FutureRecordMetadata at 0x7f49b92a3ed0>"
      ]
     },
     "execution_count": 1,
     "metadata": {},
     "output_type": "execute_result"
    },
    {
     "name": "stdout",
     "output_type": "stream",
     "text": [
      "Sent: {'Id': 100019715, 'Date': '2016-01-27T02:00:00', 'Count': 0, 'Status': 'raw', 'Channel_Id': 101019715, 'Counting_Station': 'Meerbusch', 'Coordinates': '51.261012, 6.705018', 'Year': 2016, 'Month': 1, 'Day': 27, 'Hour': 2, 'Day_of_Week': 4, 'Latitude': 51.261012, 'Longitude': 6.705018}\n"
     ]
    },
    {
     "data": {
      "text/plain": [
       "<kafka.producer.future.FutureRecordMetadata at 0x7f49b92acb90>"
      ]
     },
     "execution_count": 1,
     "metadata": {},
     "output_type": "execute_result"
    },
    {
     "name": "stdout",
     "output_type": "stream",
     "text": [
      "Sent: {'Id': 100019715, 'Date': '2016-01-27T03:00:00', 'Count': 0, 'Status': 'raw', 'Channel_Id': 101019715, 'Counting_Station': 'Meerbusch', 'Coordinates': '51.261012, 6.705018', 'Year': 2016, 'Month': 1, 'Day': 27, 'Hour': 3, 'Day_of_Week': 4, 'Latitude': 51.261012, 'Longitude': 6.705018}\n"
     ]
    },
    {
     "data": {
      "text/plain": [
       "<kafka.producer.future.FutureRecordMetadata at 0x7f49b92ac150>"
      ]
     },
     "execution_count": 1,
     "metadata": {},
     "output_type": "execute_result"
    },
    {
     "name": "stdout",
     "output_type": "stream",
     "text": [
      "Sent: {'Id': 100019715, 'Date': '2016-01-27T03:00:00', 'Count': 0, 'Status': 'raw', 'Channel_Id': 104019715, 'Counting_Station': 'Meerbusch', 'Coordinates': '51.261012, 6.705018', 'Year': 2016, 'Month': 1, 'Day': 27, 'Hour': 3, 'Day_of_Week': 4, 'Latitude': 51.261012, 'Longitude': 6.705018}\n"
     ]
    },
    {
     "data": {
      "text/plain": [
       "<kafka.producer.future.FutureRecordMetadata at 0x7f49d8c8ffd0>"
      ]
     },
     "execution_count": 1,
     "metadata": {},
     "output_type": "execute_result"
    },
    {
     "name": "stdout",
     "output_type": "stream",
     "text": [
      "Sent: {'Id': 100019715, 'Date': '2016-01-27T03:00:00', 'Count': 0, 'Status': 'raw', 'Channel_Id': 103019715, 'Counting_Station': 'Meerbusch', 'Coordinates': '51.261012, 6.705018', 'Year': 2016, 'Month': 1, 'Day': 27, 'Hour': 3, 'Day_of_Week': 4, 'Latitude': 51.261012, 'Longitude': 6.705018}\n"
     ]
    },
    {
     "data": {
      "text/plain": [
       "<kafka.producer.future.FutureRecordMetadata at 0x7f49b92a53d0>"
      ]
     },
     "execution_count": 1,
     "metadata": {},
     "output_type": "execute_result"
    },
    {
     "name": "stdout",
     "output_type": "stream",
     "text": [
      "Sent: {'Id': 100019715, 'Date': '2016-01-27T03:00:00', 'Count': 0, 'Status': 'raw', 'Channel_Id': 102019715, 'Counting_Station': 'Meerbusch', 'Coordinates': '51.261012, 6.705018', 'Year': 2016, 'Month': 1, 'Day': 27, 'Hour': 3, 'Day_of_Week': 4, 'Latitude': 51.261012, 'Longitude': 6.705018}\n"
     ]
    },
    {
     "data": {
      "text/plain": [
       "<kafka.producer.future.FutureRecordMetadata at 0x7f49b92a49d0>"
      ]
     },
     "execution_count": 1,
     "metadata": {},
     "output_type": "execute_result"
    },
    {
     "name": "stdout",
     "output_type": "stream",
     "text": [
      "Sent: {'Id': 100019715, 'Date': '2016-01-27T04:00:00', 'Count': 0, 'Status': 'raw', 'Channel_Id': 102019715, 'Counting_Station': 'Meerbusch', 'Coordinates': '51.261012, 6.705018', 'Year': 2016, 'Month': 1, 'Day': 27, 'Hour': 4, 'Day_of_Week': 4, 'Latitude': 51.261012, 'Longitude': 6.705018}\n"
     ]
    },
    {
     "data": {
      "text/plain": [
       "<kafka.producer.future.FutureRecordMetadata at 0x7f49b92a44d0>"
      ]
     },
     "execution_count": 1,
     "metadata": {},
     "output_type": "execute_result"
    },
    {
     "name": "stdout",
     "output_type": "stream",
     "text": [
      "Sent: {'Id': 100019715, 'Date': '2016-01-27T04:00:00', 'Count': 0, 'Status': 'raw', 'Channel_Id': 103019715, 'Counting_Station': 'Meerbusch', 'Coordinates': '51.261012, 6.705018', 'Year': 2016, 'Month': 1, 'Day': 27, 'Hour': 4, 'Day_of_Week': 4, 'Latitude': 51.261012, 'Longitude': 6.705018}\n"
     ]
    },
    {
     "data": {
      "text/plain": [
       "<kafka.producer.future.FutureRecordMetadata at 0x7f49b92a5210>"
      ]
     },
     "execution_count": 1,
     "metadata": {},
     "output_type": "execute_result"
    },
    {
     "name": "stdout",
     "output_type": "stream",
     "text": [
      "Sent: {'Id': 100019715, 'Date': '2016-01-27T04:00:00', 'Count': 0, 'Status': 'raw', 'Channel_Id': 101019715, 'Counting_Station': 'Meerbusch', 'Coordinates': '51.261012, 6.705018', 'Year': 2016, 'Month': 1, 'Day': 27, 'Hour': 4, 'Day_of_Week': 4, 'Latitude': 51.261012, 'Longitude': 6.705018}\n"
     ]
    },
    {
     "data": {
      "text/plain": [
       "<kafka.producer.future.FutureRecordMetadata at 0x7f49b92a7e90>"
      ]
     },
     "execution_count": 1,
     "metadata": {},
     "output_type": "execute_result"
    },
    {
     "name": "stdout",
     "output_type": "stream",
     "text": [
      "Sent: {'Id': 100019715, 'Date': '2016-01-27T04:00:00', 'Count': 0, 'Status': 'raw', 'Channel_Id': 104019715, 'Counting_Station': 'Meerbusch', 'Coordinates': '51.261012, 6.705018', 'Year': 2016, 'Month': 1, 'Day': 27, 'Hour': 4, 'Day_of_Week': 4, 'Latitude': 51.261012, 'Longitude': 6.705018}\n"
     ]
    },
    {
     "data": {
      "text/plain": [
       "<kafka.producer.future.FutureRecordMetadata at 0x7f49b92b3d90>"
      ]
     },
     "execution_count": 1,
     "metadata": {},
     "output_type": "execute_result"
    },
    {
     "name": "stdout",
     "output_type": "stream",
     "text": [
      "Sent: {'Id': 100019715, 'Date': '2016-01-27T05:00:00', 'Count': 0, 'Status': 'raw', 'Channel_Id': 103019715, 'Counting_Station': 'Meerbusch', 'Coordinates': '51.261012, 6.705018', 'Year': 2016, 'Month': 1, 'Day': 27, 'Hour': 5, 'Day_of_Week': 4, 'Latitude': 51.261012, 'Longitude': 6.705018}\n"
     ]
    },
    {
     "data": {
      "text/plain": [
       "<kafka.producer.future.FutureRecordMetadata at 0x7f49b92b3790>"
      ]
     },
     "execution_count": 1,
     "metadata": {},
     "output_type": "execute_result"
    },
    {
     "name": "stdout",
     "output_type": "stream",
     "text": [
      "Sent: {'Id': 100019715, 'Date': '2016-01-27T05:00:00', 'Count': 0, 'Status': 'raw', 'Channel_Id': 101019715, 'Counting_Station': 'Meerbusch', 'Coordinates': '51.261012, 6.705018', 'Year': 2016, 'Month': 1, 'Day': 27, 'Hour': 5, 'Day_of_Week': 4, 'Latitude': 51.261012, 'Longitude': 6.705018}\n"
     ]
    },
    {
     "data": {
      "text/plain": [
       "<kafka.producer.future.FutureRecordMetadata at 0x7f49b92b28d0>"
      ]
     },
     "execution_count": 1,
     "metadata": {},
     "output_type": "execute_result"
    },
    {
     "name": "stdout",
     "output_type": "stream",
     "text": [
      "Sent: {'Id': 100019715, 'Date': '2016-01-27T05:00:00', 'Count': 0, 'Status': 'raw', 'Channel_Id': 104019715, 'Counting_Station': 'Meerbusch', 'Coordinates': '51.261012, 6.705018', 'Year': 2016, 'Month': 1, 'Day': 27, 'Hour': 5, 'Day_of_Week': 4, 'Latitude': 51.261012, 'Longitude': 6.705018}\n"
     ]
    },
    {
     "data": {
      "text/plain": [
       "<kafka.producer.future.FutureRecordMetadata at 0x7f49b92a5710>"
      ]
     },
     "execution_count": 1,
     "metadata": {},
     "output_type": "execute_result"
    },
    {
     "name": "stdout",
     "output_type": "stream",
     "text": [
      "Sent: {'Id': 100019715, 'Date': '2016-01-27T05:00:00', 'Count': 0, 'Status': 'raw', 'Channel_Id': 102019715, 'Counting_Station': 'Meerbusch', 'Coordinates': '51.261012, 6.705018', 'Year': 2016, 'Month': 1, 'Day': 27, 'Hour': 5, 'Day_of_Week': 4, 'Latitude': 51.261012, 'Longitude': 6.705018}\n"
     ]
    },
    {
     "data": {
      "text/plain": [
       "<kafka.producer.future.FutureRecordMetadata at 0x7f49b92bd850>"
      ]
     },
     "execution_count": 1,
     "metadata": {},
     "output_type": "execute_result"
    },
    {
     "name": "stdout",
     "output_type": "stream",
     "text": [
      "Sent: {'Id': 100019715, 'Date': '2016-01-27T06:00:00', 'Count': 0, 'Status': 'raw', 'Channel_Id': 102019715, 'Counting_Station': 'Meerbusch', 'Coordinates': '51.261012, 6.705018', 'Year': 2016, 'Month': 1, 'Day': 27, 'Hour': 6, 'Day_of_Week': 4, 'Latitude': 51.261012, 'Longitude': 6.705018}\n"
     ]
    },
    {
     "data": {
      "text/plain": [
       "<kafka.producer.future.FutureRecordMetadata at 0x7f49b92ad390>"
      ]
     },
     "execution_count": 1,
     "metadata": {},
     "output_type": "execute_result"
    },
    {
     "name": "stdout",
     "output_type": "stream",
     "text": [
      "Sent: {'Id': 100019715, 'Date': '2016-01-27T06:00:00', 'Count': 0, 'Status': 'raw', 'Channel_Id': 103019715, 'Counting_Station': 'Meerbusch', 'Coordinates': '51.261012, 6.705018', 'Year': 2016, 'Month': 1, 'Day': 27, 'Hour': 6, 'Day_of_Week': 4, 'Latitude': 51.261012, 'Longitude': 6.705018}\n"
     ]
    },
    {
     "data": {
      "text/plain": [
       "<kafka.producer.future.FutureRecordMetadata at 0x7f49b92bd8d0>"
      ]
     },
     "execution_count": 1,
     "metadata": {},
     "output_type": "execute_result"
    },
    {
     "name": "stdout",
     "output_type": "stream",
     "text": [
      "Sent: {'Id': 100019715, 'Date': '2016-01-27T06:00:00', 'Count': 0, 'Status': 'raw', 'Channel_Id': 101019715, 'Counting_Station': 'Meerbusch', 'Coordinates': '51.261012, 6.705018', 'Year': 2016, 'Month': 1, 'Day': 27, 'Hour': 6, 'Day_of_Week': 4, 'Latitude': 51.261012, 'Longitude': 6.705018}\n"
     ]
    },
    {
     "data": {
      "text/plain": [
       "<kafka.producer.future.FutureRecordMetadata at 0x7f49b92bca10>"
      ]
     },
     "execution_count": 1,
     "metadata": {},
     "output_type": "execute_result"
    },
    {
     "name": "stdout",
     "output_type": "stream",
     "text": [
      "Sent: {'Id': 100019715, 'Date': '2016-01-27T06:00:00', 'Count': 0, 'Status': 'raw', 'Channel_Id': 104019715, 'Counting_Station': 'Meerbusch', 'Coordinates': '51.261012, 6.705018', 'Year': 2016, 'Month': 1, 'Day': 27, 'Hour': 6, 'Day_of_Week': 4, 'Latitude': 51.261012, 'Longitude': 6.705018}\n"
     ]
    },
    {
     "data": {
      "text/plain": [
       "<kafka.producer.future.FutureRecordMetadata at 0x7f49b92bd9d0>"
      ]
     },
     "execution_count": 1,
     "metadata": {},
     "output_type": "execute_result"
    },
    {
     "name": "stdout",
     "output_type": "stream",
     "text": [
      "Sent: {'Id': 100019715, 'Date': '2016-01-27T07:00:00', 'Count': 0, 'Status': 'raw', 'Channel_Id': 103019715, 'Counting_Station': 'Meerbusch', 'Coordinates': '51.261012, 6.705018', 'Year': 2016, 'Month': 1, 'Day': 27, 'Hour': 7, 'Day_of_Week': 4, 'Latitude': 51.261012, 'Longitude': 6.705018}\n"
     ]
    },
    {
     "data": {
      "text/plain": [
       "<kafka.producer.future.FutureRecordMetadata at 0x7f49b92be3d0>"
      ]
     },
     "execution_count": 1,
     "metadata": {},
     "output_type": "execute_result"
    },
    {
     "name": "stdout",
     "output_type": "stream",
     "text": [
      "Sent: {'Id': 100019715, 'Date': '2016-01-27T07:00:00', 'Count': 0, 'Status': 'raw', 'Channel_Id': 101019715, 'Counting_Station': 'Meerbusch', 'Coordinates': '51.261012, 6.705018', 'Year': 2016, 'Month': 1, 'Day': 27, 'Hour': 7, 'Day_of_Week': 4, 'Latitude': 51.261012, 'Longitude': 6.705018}\n"
     ]
    },
    {
     "data": {
      "text/plain": [
       "<kafka.producer.future.FutureRecordMetadata at 0x7f49b92beb50>"
      ]
     },
     "execution_count": 1,
     "metadata": {},
     "output_type": "execute_result"
    },
    {
     "name": "stdout",
     "output_type": "stream",
     "text": [
      "Sent: {'Id': 100019715, 'Date': '2016-01-27T07:00:00', 'Count': 0, 'Status': 'raw', 'Channel_Id': 104019715, 'Counting_Station': 'Meerbusch', 'Coordinates': '51.261012, 6.705018', 'Year': 2016, 'Month': 1, 'Day': 27, 'Hour': 7, 'Day_of_Week': 4, 'Latitude': 51.261012, 'Longitude': 6.705018}\n"
     ]
    },
    {
     "data": {
      "text/plain": [
       "<kafka.producer.future.FutureRecordMetadata at 0x7f49b92bf110>"
      ]
     },
     "execution_count": 1,
     "metadata": {},
     "output_type": "execute_result"
    },
    {
     "name": "stdout",
     "output_type": "stream",
     "text": [
      "Sent: {'Id': 100019715, 'Date': '2016-01-27T07:00:00', 'Count': 0, 'Status': 'raw', 'Channel_Id': 102019715, 'Counting_Station': 'Meerbusch', 'Coordinates': '51.261012, 6.705018', 'Year': 2016, 'Month': 1, 'Day': 27, 'Hour': 7, 'Day_of_Week': 4, 'Latitude': 51.261012, 'Longitude': 6.705018}\n"
     ]
    },
    {
     "data": {
      "text/plain": [
       "<kafka.producer.future.FutureRecordMetadata at 0x7f49b92bd7d0>"
      ]
     },
     "execution_count": 1,
     "metadata": {},
     "output_type": "execute_result"
    },
    {
     "name": "stdout",
     "output_type": "stream",
     "text": [
      "Sent: {'Id': 100019715, 'Date': '2016-01-27T08:00:00', 'Count': 0, 'Status': 'raw', 'Channel_Id': 103019715, 'Counting_Station': 'Meerbusch', 'Coordinates': '51.261012, 6.705018', 'Year': 2016, 'Month': 1, 'Day': 27, 'Hour': 8, 'Day_of_Week': 4, 'Latitude': 51.261012, 'Longitude': 6.705018}\n"
     ]
    },
    {
     "data": {
      "text/plain": [
       "<kafka.producer.future.FutureRecordMetadata at 0x7f49b92bf490>"
      ]
     },
     "execution_count": 1,
     "metadata": {},
     "output_type": "execute_result"
    },
    {
     "name": "stdout",
     "output_type": "stream",
     "text": [
      "Sent: {'Id': 100019715, 'Date': '2016-01-27T08:00:00', 'Count': 0, 'Status': 'raw', 'Channel_Id': 104019715, 'Counting_Station': 'Meerbusch', 'Coordinates': '51.261012, 6.705018', 'Year': 2016, 'Month': 1, 'Day': 27, 'Hour': 8, 'Day_of_Week': 4, 'Latitude': 51.261012, 'Longitude': 6.705018}\n"
     ]
    },
    {
     "data": {
      "text/plain": [
       "<kafka.producer.future.FutureRecordMetadata at 0x7f49b92bdfd0>"
      ]
     },
     "execution_count": 1,
     "metadata": {},
     "output_type": "execute_result"
    },
    {
     "name": "stdout",
     "output_type": "stream",
     "text": [
      "Sent: {'Id': 100019715, 'Date': '2016-01-27T08:00:00', 'Count': 0, 'Status': 'raw', 'Channel_Id': 101019715, 'Counting_Station': 'Meerbusch', 'Coordinates': '51.261012, 6.705018', 'Year': 2016, 'Month': 1, 'Day': 27, 'Hour': 8, 'Day_of_Week': 4, 'Latitude': 51.261012, 'Longitude': 6.705018}\n"
     ]
    },
    {
     "data": {
      "text/plain": [
       "<kafka.producer.future.FutureRecordMetadata at 0x7f49b92be150>"
      ]
     },
     "execution_count": 1,
     "metadata": {},
     "output_type": "execute_result"
    },
    {
     "name": "stdout",
     "output_type": "stream",
     "text": [
      "Sent: {'Id': 100019715, 'Date': '2016-01-27T08:00:00', 'Count': 0, 'Status': 'raw', 'Channel_Id': 102019715, 'Counting_Station': 'Meerbusch', 'Coordinates': '51.261012, 6.705018', 'Year': 2016, 'Month': 1, 'Day': 27, 'Hour': 8, 'Day_of_Week': 4, 'Latitude': 51.261012, 'Longitude': 6.705018}\n"
     ]
    },
    {
     "data": {
      "text/plain": [
       "<kafka.producer.future.FutureRecordMetadata at 0x7f49b92b2150>"
      ]
     },
     "execution_count": 1,
     "metadata": {},
     "output_type": "execute_result"
    },
    {
     "name": "stdout",
     "output_type": "stream",
     "text": [
      "Sent: {'Id': 100019715, 'Date': '2016-01-27T09:00:00', 'Count': 0, 'Status': 'raw', 'Channel_Id': 101019715, 'Counting_Station': 'Meerbusch', 'Coordinates': '51.261012, 6.705018', 'Year': 2016, 'Month': 1, 'Day': 27, 'Hour': 9, 'Day_of_Week': 4, 'Latitude': 51.261012, 'Longitude': 6.705018}\n"
     ]
    },
    {
     "data": {
      "text/plain": [
       "<kafka.producer.future.FutureRecordMetadata at 0x7f49b92b3d90>"
      ]
     },
     "execution_count": 1,
     "metadata": {},
     "output_type": "execute_result"
    },
    {
     "name": "stdout",
     "output_type": "stream",
     "text": [
      "Sent: {'Id': 100019715, 'Date': '2016-01-27T09:00:00', 'Count': 0, 'Status': 'raw', 'Channel_Id': 104019715, 'Counting_Station': 'Meerbusch', 'Coordinates': '51.261012, 6.705018', 'Year': 2016, 'Month': 1, 'Day': 27, 'Hour': 9, 'Day_of_Week': 4, 'Latitude': 51.261012, 'Longitude': 6.705018}\n"
     ]
    },
    {
     "data": {
      "text/plain": [
       "<kafka.producer.future.FutureRecordMetadata at 0x7f49b92a5610>"
      ]
     },
     "execution_count": 1,
     "metadata": {},
     "output_type": "execute_result"
    },
    {
     "name": "stdout",
     "output_type": "stream",
     "text": [
      "Sent: {'Id': 100019715, 'Date': '2016-01-27T09:00:00', 'Count': 0, 'Status': 'raw', 'Channel_Id': 103019715, 'Counting_Station': 'Meerbusch', 'Coordinates': '51.261012, 6.705018', 'Year': 2016, 'Month': 1, 'Day': 27, 'Hour': 9, 'Day_of_Week': 4, 'Latitude': 51.261012, 'Longitude': 6.705018}\n"
     ]
    },
    {
     "data": {
      "text/plain": [
       "<kafka.producer.future.FutureRecordMetadata at 0x7f49b92bc290>"
      ]
     },
     "execution_count": 1,
     "metadata": {},
     "output_type": "execute_result"
    },
    {
     "name": "stdout",
     "output_type": "stream",
     "text": [
      "Sent: {'Id': 100019715, 'Date': '2016-01-27T09:00:00', 'Count': 0, 'Status': 'raw', 'Channel_Id': 102019715, 'Counting_Station': 'Meerbusch', 'Coordinates': '51.261012, 6.705018', 'Year': 2016, 'Month': 1, 'Day': 27, 'Hour': 9, 'Day_of_Week': 4, 'Latitude': 51.261012, 'Longitude': 6.705018}\n"
     ]
    },
    {
     "data": {
      "text/plain": [
       "<kafka.producer.future.FutureRecordMetadata at 0x7f49b92a65d0>"
      ]
     },
     "execution_count": 1,
     "metadata": {},
     "output_type": "execute_result"
    },
    {
     "name": "stdout",
     "output_type": "stream",
     "text": [
      "Sent: {'Id': 100019715, 'Date': '2016-01-27T10:00:00', 'Count': 5, 'Status': 'raw', 'Channel_Id': 103019715, 'Counting_Station': 'Meerbusch', 'Coordinates': '51.261012, 6.705018', 'Year': 2016, 'Month': 1, 'Day': 27, 'Hour': 10, 'Day_of_Week': 4, 'Latitude': 51.261012, 'Longitude': 6.705018}\n"
     ]
    },
    {
     "data": {
      "text/plain": [
       "<kafka.producer.future.FutureRecordMetadata at 0x7f49b92a6cd0>"
      ]
     },
     "execution_count": 1,
     "metadata": {},
     "output_type": "execute_result"
    },
    {
     "name": "stdout",
     "output_type": "stream",
     "text": [
      "Sent: {'Id': 100019715, 'Date': '2016-01-27T10:00:00', 'Count': 15, 'Status': 'raw', 'Channel_Id': 104019715, 'Counting_Station': 'Meerbusch', 'Coordinates': '51.261012, 6.705018', 'Year': 2016, 'Month': 1, 'Day': 27, 'Hour': 10, 'Day_of_Week': 4, 'Latitude': 51.261012, 'Longitude': 6.705018}\n"
     ]
    },
    {
     "data": {
      "text/plain": [
       "<kafka.producer.future.FutureRecordMetadata at 0x7f49d965c450>"
      ]
     },
     "execution_count": 1,
     "metadata": {},
     "output_type": "execute_result"
    },
    {
     "name": "stdout",
     "output_type": "stream",
     "text": [
      "Sent: {'Id': 100019715, 'Date': '2016-01-27T10:00:00', 'Count': 11, 'Status': 'raw', 'Channel_Id': 101019715, 'Counting_Station': 'Meerbusch', 'Coordinates': '51.261012, 6.705018', 'Year': 2016, 'Month': 1, 'Day': 27, 'Hour': 10, 'Day_of_Week': 4, 'Latitude': 51.261012, 'Longitude': 6.705018}\n"
     ]
    },
    {
     "data": {
      "text/plain": [
       "<kafka.producer.future.FutureRecordMetadata at 0x7f49b92a4ad0>"
      ]
     },
     "execution_count": 1,
     "metadata": {},
     "output_type": "execute_result"
    },
    {
     "name": "stdout",
     "output_type": "stream",
     "text": [
      "Sent: {'Id': 100019715, 'Date': '2016-01-27T10:00:00', 'Count': 15, 'Status': 'raw', 'Channel_Id': 102019715, 'Counting_Station': 'Meerbusch', 'Coordinates': '51.261012, 6.705018', 'Year': 2016, 'Month': 1, 'Day': 27, 'Hour': 10, 'Day_of_Week': 4, 'Latitude': 51.261012, 'Longitude': 6.705018}\n"
     ]
    },
    {
     "data": {
      "text/plain": [
       "<kafka.producer.future.FutureRecordMetadata at 0x7f49b92afc50>"
      ]
     },
     "execution_count": 1,
     "metadata": {},
     "output_type": "execute_result"
    },
    {
     "name": "stdout",
     "output_type": "stream",
     "text": [
      "Sent: {'Id': 100019715, 'Date': '2016-01-27T11:00:00', 'Count': 40, 'Status': 'raw', 'Channel_Id': 103019715, 'Counting_Station': 'Meerbusch', 'Coordinates': '51.261012, 6.705018', 'Year': 2016, 'Month': 1, 'Day': 27, 'Hour': 11, 'Day_of_Week': 4, 'Latitude': 51.261012, 'Longitude': 6.705018}\n"
     ]
    },
    {
     "data": {
      "text/plain": [
       "<kafka.producer.future.FutureRecordMetadata at 0x7f49b92acc10>"
      ]
     },
     "execution_count": 1,
     "metadata": {},
     "output_type": "execute_result"
    },
    {
     "name": "stdout",
     "output_type": "stream",
     "text": [
      "Sent: {'Id': 100019715, 'Date': '2016-01-27T11:00:00', 'Count': 25, 'Status': 'raw', 'Channel_Id': 104019715, 'Counting_Station': 'Meerbusch', 'Coordinates': '51.261012, 6.705018', 'Year': 2016, 'Month': 1, 'Day': 27, 'Hour': 11, 'Day_of_Week': 4, 'Latitude': 51.261012, 'Longitude': 6.705018}\n"
     ]
    },
    {
     "data": {
      "text/plain": [
       "<kafka.producer.future.FutureRecordMetadata at 0x7f49b92af910>"
      ]
     },
     "execution_count": 1,
     "metadata": {},
     "output_type": "execute_result"
    },
    {
     "name": "stdout",
     "output_type": "stream",
     "text": [
      "Sent: {'Id': 100019715, 'Date': '2016-01-27T11:00:00', 'Count': 21, 'Status': 'raw', 'Channel_Id': 101019715, 'Counting_Station': 'Meerbusch', 'Coordinates': '51.261012, 6.705018', 'Year': 2016, 'Month': 1, 'Day': 27, 'Hour': 11, 'Day_of_Week': 4, 'Latitude': 51.261012, 'Longitude': 6.705018}\n"
     ]
    },
    {
     "data": {
      "text/plain": [
       "<kafka.producer.future.FutureRecordMetadata at 0x7f49b92ae1d0>"
      ]
     },
     "execution_count": 1,
     "metadata": {},
     "output_type": "execute_result"
    },
    {
     "name": "stdout",
     "output_type": "stream",
     "text": [
      "Sent: {'Id': 100019715, 'Date': '2016-01-27T11:00:00', 'Count': 20, 'Status': 'raw', 'Channel_Id': 102019715, 'Counting_Station': 'Meerbusch', 'Coordinates': '51.261012, 6.705018', 'Year': 2016, 'Month': 1, 'Day': 27, 'Hour': 11, 'Day_of_Week': 4, 'Latitude': 51.261012, 'Longitude': 6.705018}\n"
     ]
    },
    {
     "data": {
      "text/plain": [
       "<kafka.producer.future.FutureRecordMetadata at 0x7f49b92ae9d0>"
      ]
     },
     "execution_count": 1,
     "metadata": {},
     "output_type": "execute_result"
    },
    {
     "name": "stdout",
     "output_type": "stream",
     "text": [
      "Sent: {'Id': 100019715, 'Date': '2016-01-27T12:00:00', 'Count': 1, 'Status': 'raw', 'Channel_Id': 103019715, 'Counting_Station': 'Meerbusch', 'Coordinates': '51.261012, 6.705018', 'Year': 2016, 'Month': 1, 'Day': 27, 'Hour': 12, 'Day_of_Week': 4, 'Latitude': 51.261012, 'Longitude': 6.705018}\n"
     ]
    },
    {
     "data": {
      "text/plain": [
       "<kafka.producer.future.FutureRecordMetadata at 0x7f49b92af550>"
      ]
     },
     "execution_count": 1,
     "metadata": {},
     "output_type": "execute_result"
    },
    {
     "name": "stdout",
     "output_type": "stream",
     "text": [
      "Sent: {'Id': 100019715, 'Date': '2016-01-27T12:00:00', 'Count': 1, 'Status': 'raw', 'Channel_Id': 104019715, 'Counting_Station': 'Meerbusch', 'Coordinates': '51.261012, 6.705018', 'Year': 2016, 'Month': 1, 'Day': 27, 'Hour': 12, 'Day_of_Week': 4, 'Latitude': 51.261012, 'Longitude': 6.705018}\n"
     ]
    },
    {
     "data": {
      "text/plain": [
       "<kafka.producer.future.FutureRecordMetadata at 0x7f49d8c8df50>"
      ]
     },
     "execution_count": 1,
     "metadata": {},
     "output_type": "execute_result"
    },
    {
     "name": "stdout",
     "output_type": "stream",
     "text": [
      "Sent: {'Id': 100019715, 'Date': '2016-01-27T12:00:00', 'Count': 1, 'Status': 'raw', 'Channel_Id': 101019715, 'Counting_Station': 'Meerbusch', 'Coordinates': '51.261012, 6.705018', 'Year': 2016, 'Month': 1, 'Day': 27, 'Hour': 12, 'Day_of_Week': 4, 'Latitude': 51.261012, 'Longitude': 6.705018}\n"
     ]
    },
    {
     "data": {
      "text/plain": [
       "<kafka.producer.future.FutureRecordMetadata at 0x7f49d8c8dfd0>"
      ]
     },
     "execution_count": 1,
     "metadata": {},
     "output_type": "execute_result"
    },
    {
     "name": "stdout",
     "output_type": "stream",
     "text": [
      "Sent: {'Id': 100019715, 'Date': '2016-01-27T12:00:00', 'Count': 1, 'Status': 'raw', 'Channel_Id': 102019715, 'Counting_Station': 'Meerbusch', 'Coordinates': '51.261012, 6.705018', 'Year': 2016, 'Month': 1, 'Day': 27, 'Hour': 12, 'Day_of_Week': 4, 'Latitude': 51.261012, 'Longitude': 6.705018}\n"
     ]
    },
    {
     "data": {
      "text/plain": [
       "<kafka.producer.future.FutureRecordMetadata at 0x7f49b92a6350>"
      ]
     },
     "execution_count": 1,
     "metadata": {},
     "output_type": "execute_result"
    },
    {
     "name": "stdout",
     "output_type": "stream",
     "text": [
      "Sent: {'Id': 100019715, 'Date': '2016-01-27T13:00:00', 'Count': 2, 'Status': 'raw', 'Channel_Id': 101019715, 'Counting_Station': 'Meerbusch', 'Coordinates': '51.261012, 6.705018', 'Year': 2016, 'Month': 1, 'Day': 27, 'Hour': 13, 'Day_of_Week': 4, 'Latitude': 51.261012, 'Longitude': 6.705018}\n"
     ]
    },
    {
     "data": {
      "text/plain": [
       "<kafka.producer.future.FutureRecordMetadata at 0x7f49d8c8ee90>"
      ]
     },
     "execution_count": 1,
     "metadata": {},
     "output_type": "execute_result"
    },
    {
     "name": "stdout",
     "output_type": "stream",
     "text": [
      "Sent: {'Id': 100019715, 'Date': '2016-01-27T13:00:00', 'Count': 0, 'Status': 'raw', 'Channel_Id': 102019715, 'Counting_Station': 'Meerbusch', 'Coordinates': '51.261012, 6.705018', 'Year': 2016, 'Month': 1, 'Day': 27, 'Hour': 13, 'Day_of_Week': 4, 'Latitude': 51.261012, 'Longitude': 6.705018}\n"
     ]
    },
    {
     "data": {
      "text/plain": [
       "<kafka.producer.future.FutureRecordMetadata at 0x7f49b92bf5d0>"
      ]
     },
     "execution_count": 1,
     "metadata": {},
     "output_type": "execute_result"
    },
    {
     "name": "stdout",
     "output_type": "stream",
     "text": [
      "Sent: {'Id': 100019715, 'Date': '2016-01-27T13:00:00', 'Count': 0, 'Status': 'raw', 'Channel_Id': 103019715, 'Counting_Station': 'Meerbusch', 'Coordinates': '51.261012, 6.705018', 'Year': 2016, 'Month': 1, 'Day': 27, 'Hour': 13, 'Day_of_Week': 4, 'Latitude': 51.261012, 'Longitude': 6.705018}\n"
     ]
    },
    {
     "data": {
      "text/plain": [
       "<kafka.producer.future.FutureRecordMetadata at 0x7f49b92a3a90>"
      ]
     },
     "execution_count": 1,
     "metadata": {},
     "output_type": "execute_result"
    },
    {
     "name": "stdout",
     "output_type": "stream",
     "text": [
      "Sent: {'Id': 100019715, 'Date': '2016-01-27T13:00:00', 'Count': 1, 'Status': 'raw', 'Channel_Id': 104019715, 'Counting_Station': 'Meerbusch', 'Coordinates': '51.261012, 6.705018', 'Year': 2016, 'Month': 1, 'Day': 27, 'Hour': 13, 'Day_of_Week': 4, 'Latitude': 51.261012, 'Longitude': 6.705018}\n"
     ]
    },
    {
     "data": {
      "text/plain": [
       "<kafka.producer.future.FutureRecordMetadata at 0x7f49b92af550>"
      ]
     },
     "execution_count": 1,
     "metadata": {},
     "output_type": "execute_result"
    },
    {
     "name": "stdout",
     "output_type": "stream",
     "text": [
      "Sent: {'Id': 100019715, 'Date': '2016-01-27T14:00:00', 'Count': 0, 'Status': 'raw', 'Channel_Id': 103019715, 'Counting_Station': 'Meerbusch', 'Coordinates': '51.261012, 6.705018', 'Year': 2016, 'Month': 1, 'Day': 27, 'Hour': 14, 'Day_of_Week': 4, 'Latitude': 51.261012, 'Longitude': 6.705018}\n"
     ]
    },
    {
     "data": {
      "text/plain": [
       "<kafka.producer.future.FutureRecordMetadata at 0x7f49b92ae590>"
      ]
     },
     "execution_count": 1,
     "metadata": {},
     "output_type": "execute_result"
    },
    {
     "name": "stdout",
     "output_type": "stream",
     "text": [
      "Sent: {'Id': 100019715, 'Date': '2016-01-27T14:00:00', 'Count': 4, 'Status': 'raw', 'Channel_Id': 104019715, 'Counting_Station': 'Meerbusch', 'Coordinates': '51.261012, 6.705018', 'Year': 2016, 'Month': 1, 'Day': 27, 'Hour': 14, 'Day_of_Week': 4, 'Latitude': 51.261012, 'Longitude': 6.705018}\n"
     ]
    },
    {
     "data": {
      "text/plain": [
       "<kafka.producer.future.FutureRecordMetadata at 0x7f49d965d550>"
      ]
     },
     "execution_count": 1,
     "metadata": {},
     "output_type": "execute_result"
    },
    {
     "name": "stdout",
     "output_type": "stream",
     "text": [
      "Sent: {'Id': 100019715, 'Date': '2016-01-27T14:00:00', 'Count': 0, 'Status': 'raw', 'Channel_Id': 101019715, 'Counting_Station': 'Meerbusch', 'Coordinates': '51.261012, 6.705018', 'Year': 2016, 'Month': 1, 'Day': 27, 'Hour': 14, 'Day_of_Week': 4, 'Latitude': 51.261012, 'Longitude': 6.705018}\n"
     ]
    },
    {
     "data": {
      "text/plain": [
       "<kafka.producer.future.FutureRecordMetadata at 0x7f49b92a4c50>"
      ]
     },
     "execution_count": 1,
     "metadata": {},
     "output_type": "execute_result"
    },
    {
     "name": "stdout",
     "output_type": "stream",
     "text": [
      "Sent: {'Id': 100019715, 'Date': '2016-01-27T14:00:00', 'Count': 0, 'Status': 'raw', 'Channel_Id': 102019715, 'Counting_Station': 'Meerbusch', 'Coordinates': '51.261012, 6.705018', 'Year': 2016, 'Month': 1, 'Day': 27, 'Hour': 14, 'Day_of_Week': 4, 'Latitude': 51.261012, 'Longitude': 6.705018}\n"
     ]
    },
    {
     "data": {
      "text/plain": [
       "<kafka.producer.future.FutureRecordMetadata at 0x7f49b92a4790>"
      ]
     },
     "execution_count": 1,
     "metadata": {},
     "output_type": "execute_result"
    },
    {
     "name": "stdout",
     "output_type": "stream",
     "text": [
      "Sent: {'Id': 100019715, 'Date': '2016-01-27T15:00:00', 'Count': 4, 'Status': 'raw', 'Channel_Id': 101019715, 'Counting_Station': 'Meerbusch', 'Coordinates': '51.261012, 6.705018', 'Year': 2016, 'Month': 1, 'Day': 27, 'Hour': 15, 'Day_of_Week': 4, 'Latitude': 51.261012, 'Longitude': 6.705018}\n"
     ]
    },
    {
     "data": {
      "text/plain": [
       "<kafka.producer.future.FutureRecordMetadata at 0x7f49b92a5290>"
      ]
     },
     "execution_count": 1,
     "metadata": {},
     "output_type": "execute_result"
    },
    {
     "name": "stdout",
     "output_type": "stream",
     "text": [
      "Sent: {'Id': 100019715, 'Date': '2016-01-27T15:00:00', 'Count': 7, 'Status': 'raw', 'Channel_Id': 104019715, 'Counting_Station': 'Meerbusch', 'Coordinates': '51.261012, 6.705018', 'Year': 2016, 'Month': 1, 'Day': 27, 'Hour': 15, 'Day_of_Week': 4, 'Latitude': 51.261012, 'Longitude': 6.705018}\n"
     ]
    },
    {
     "data": {
      "text/plain": [
       "<kafka.producer.future.FutureRecordMetadata at 0x7f49b92a7ad0>"
      ]
     },
     "execution_count": 1,
     "metadata": {},
     "output_type": "execute_result"
    },
    {
     "name": "stdout",
     "output_type": "stream",
     "text": [
      "Sent: {'Id': 100019715, 'Date': '2016-01-27T15:00:00', 'Count': 0, 'Status': 'raw', 'Channel_Id': 103019715, 'Counting_Station': 'Meerbusch', 'Coordinates': '51.261012, 6.705018', 'Year': 2016, 'Month': 1, 'Day': 27, 'Hour': 15, 'Day_of_Week': 4, 'Latitude': 51.261012, 'Longitude': 6.705018}\n"
     ]
    },
    {
     "data": {
      "text/plain": [
       "<kafka.producer.future.FutureRecordMetadata at 0x7f49b92b2ad0>"
      ]
     },
     "execution_count": 1,
     "metadata": {},
     "output_type": "execute_result"
    },
    {
     "name": "stdout",
     "output_type": "stream",
     "text": [
      "Sent: {'Id': 100019715, 'Date': '2016-01-27T15:00:00', 'Count': 1, 'Status': 'raw', 'Channel_Id': 102019715, 'Counting_Station': 'Meerbusch', 'Coordinates': '51.261012, 6.705018', 'Year': 2016, 'Month': 1, 'Day': 27, 'Hour': 15, 'Day_of_Week': 4, 'Latitude': 51.261012, 'Longitude': 6.705018}\n"
     ]
    },
    {
     "data": {
      "text/plain": [
       "<kafka.producer.future.FutureRecordMetadata at 0x7f49b92b2b90>"
      ]
     },
     "execution_count": 1,
     "metadata": {},
     "output_type": "execute_result"
    },
    {
     "name": "stdout",
     "output_type": "stream",
     "text": [
      "Sent: {'Id': 100019715, 'Date': '2016-01-27T16:00:00', 'Count': 1, 'Status': 'raw', 'Channel_Id': 103019715, 'Counting_Station': 'Meerbusch', 'Coordinates': '51.261012, 6.705018', 'Year': 2016, 'Month': 1, 'Day': 27, 'Hour': 16, 'Day_of_Week': 4, 'Latitude': 51.261012, 'Longitude': 6.705018}\n"
     ]
    },
    {
     "data": {
      "text/plain": [
       "<kafka.producer.future.FutureRecordMetadata at 0x7f49b92b3e10>"
      ]
     },
     "execution_count": 1,
     "metadata": {},
     "output_type": "execute_result"
    },
    {
     "name": "stdout",
     "output_type": "stream",
     "text": [
      "Sent: {'Id': 100019715, 'Date': '2016-01-27T16:00:00', 'Count': 4, 'Status': 'raw', 'Channel_Id': 104019715, 'Counting_Station': 'Meerbusch', 'Coordinates': '51.261012, 6.705018', 'Year': 2016, 'Month': 1, 'Day': 27, 'Hour': 16, 'Day_of_Week': 4, 'Latitude': 51.261012, 'Longitude': 6.705018}\n"
     ]
    },
    {
     "data": {
      "text/plain": [
       "<kafka.producer.future.FutureRecordMetadata at 0x7f49b92be490>"
      ]
     },
     "execution_count": 1,
     "metadata": {},
     "output_type": "execute_result"
    },
    {
     "name": "stdout",
     "output_type": "stream",
     "text": [
      "Sent: {'Id': 100019715, 'Date': '2016-01-27T16:00:00', 'Count': 0, 'Status': 'raw', 'Channel_Id': 102019715, 'Counting_Station': 'Meerbusch', 'Coordinates': '51.261012, 6.705018', 'Year': 2016, 'Month': 1, 'Day': 27, 'Hour': 16, 'Day_of_Week': 4, 'Latitude': 51.261012, 'Longitude': 6.705018}\n"
     ]
    },
    {
     "data": {
      "text/plain": [
       "<kafka.producer.future.FutureRecordMetadata at 0x7f49b92bfd50>"
      ]
     },
     "execution_count": 1,
     "metadata": {},
     "output_type": "execute_result"
    },
    {
     "name": "stdout",
     "output_type": "stream",
     "text": [
      "Sent: {'Id': 100019715, 'Date': '2016-01-27T16:00:00', 'Count': 4, 'Status': 'raw', 'Channel_Id': 101019715, 'Counting_Station': 'Meerbusch', 'Coordinates': '51.261012, 6.705018', 'Year': 2016, 'Month': 1, 'Day': 27, 'Hour': 16, 'Day_of_Week': 4, 'Latitude': 51.261012, 'Longitude': 6.705018}\n"
     ]
    },
    {
     "data": {
      "text/plain": [
       "<kafka.producer.future.FutureRecordMetadata at 0x7f49b92bf090>"
      ]
     },
     "execution_count": 1,
     "metadata": {},
     "output_type": "execute_result"
    },
    {
     "name": "stdout",
     "output_type": "stream",
     "text": [
      "Sent: {'Id': 100019715, 'Date': '2016-01-27T17:00:00', 'Count': 9, 'Status': 'raw', 'Channel_Id': 101019715, 'Counting_Station': 'Meerbusch', 'Coordinates': '51.261012, 6.705018', 'Year': 2016, 'Month': 1, 'Day': 27, 'Hour': 17, 'Day_of_Week': 4, 'Latitude': 51.261012, 'Longitude': 6.705018}\n"
     ]
    },
    {
     "data": {
      "text/plain": [
       "<kafka.producer.future.FutureRecordMetadata at 0x7f49b92bca10>"
      ]
     },
     "execution_count": 1,
     "metadata": {},
     "output_type": "execute_result"
    },
    {
     "name": "stdout",
     "output_type": "stream",
     "text": [
      "Sent: {'Id': 100019715, 'Date': '2016-01-27T17:00:00', 'Count': 11, 'Status': 'raw', 'Channel_Id': 104019715, 'Counting_Station': 'Meerbusch', 'Coordinates': '51.261012, 6.705018', 'Year': 2016, 'Month': 1, 'Day': 27, 'Hour': 17, 'Day_of_Week': 4, 'Latitude': 51.261012, 'Longitude': 6.705018}\n"
     ]
    },
    {
     "data": {
      "text/plain": [
       "<kafka.producer.future.FutureRecordMetadata at 0x7f49b92bfdd0>"
      ]
     },
     "execution_count": 1,
     "metadata": {},
     "output_type": "execute_result"
    },
    {
     "name": "stdout",
     "output_type": "stream",
     "text": [
      "Sent: {'Id': 100019715, 'Date': '2016-01-27T17:00:00', 'Count': 1, 'Status': 'raw', 'Channel_Id': 103019715, 'Counting_Station': 'Meerbusch', 'Coordinates': '51.261012, 6.705018', 'Year': 2016, 'Month': 1, 'Day': 27, 'Hour': 17, 'Day_of_Week': 4, 'Latitude': 51.261012, 'Longitude': 6.705018}\n"
     ]
    },
    {
     "data": {
      "text/plain": [
       "<kafka.producer.future.FutureRecordMetadata at 0x7f49b92be290>"
      ]
     },
     "execution_count": 1,
     "metadata": {},
     "output_type": "execute_result"
    },
    {
     "name": "stdout",
     "output_type": "stream",
     "text": [
      "Sent: {'Id': 100019715, 'Date': '2016-01-27T17:00:00', 'Count': 2, 'Status': 'raw', 'Channel_Id': 102019715, 'Counting_Station': 'Meerbusch', 'Coordinates': '51.261012, 6.705018', 'Year': 2016, 'Month': 1, 'Day': 27, 'Hour': 17, 'Day_of_Week': 4, 'Latitude': 51.261012, 'Longitude': 6.705018}\n"
     ]
    },
    {
     "data": {
      "text/plain": [
       "<kafka.producer.future.FutureRecordMetadata at 0x7f49d8c8fe50>"
      ]
     },
     "execution_count": 1,
     "metadata": {},
     "output_type": "execute_result"
    },
    {
     "name": "stdout",
     "output_type": "stream",
     "text": [
      "Sent: {'Id': 100019715, 'Date': '2016-01-27T18:00:00', 'Count': 1, 'Status': 'raw', 'Channel_Id': 103019715, 'Counting_Station': 'Meerbusch', 'Coordinates': '51.261012, 6.705018', 'Year': 2016, 'Month': 1, 'Day': 27, 'Hour': 18, 'Day_of_Week': 4, 'Latitude': 51.261012, 'Longitude': 6.705018}\n"
     ]
    },
    {
     "data": {
      "text/plain": [
       "<kafka.producer.future.FutureRecordMetadata at 0x7f49b92b0410>"
      ]
     },
     "execution_count": 1,
     "metadata": {},
     "output_type": "execute_result"
    },
    {
     "name": "stdout",
     "output_type": "stream",
     "text": [
      "Sent: {'Id': 100019715, 'Date': '2016-01-27T18:00:00', 'Count': 3, 'Status': 'raw', 'Channel_Id': 101019715, 'Counting_Station': 'Meerbusch', 'Coordinates': '51.261012, 6.705018', 'Year': 2016, 'Month': 1, 'Day': 27, 'Hour': 18, 'Day_of_Week': 4, 'Latitude': 51.261012, 'Longitude': 6.705018}\n"
     ]
    },
    {
     "data": {
      "text/plain": [
       "<kafka.producer.future.FutureRecordMetadata at 0x7f49b92c0950>"
      ]
     },
     "execution_count": 1,
     "metadata": {},
     "output_type": "execute_result"
    },
    {
     "name": "stdout",
     "output_type": "stream",
     "text": [
      "Sent: {'Id': 100019715, 'Date': '2016-01-27T18:00:00', 'Count': 3, 'Status': 'raw', 'Channel_Id': 104019715, 'Counting_Station': 'Meerbusch', 'Coordinates': '51.261012, 6.705018', 'Year': 2016, 'Month': 1, 'Day': 27, 'Hour': 18, 'Day_of_Week': 4, 'Latitude': 51.261012, 'Longitude': 6.705018}\n"
     ]
    },
    {
     "data": {
      "text/plain": [
       "<kafka.producer.future.FutureRecordMetadata at 0x7f49b92c0310>"
      ]
     },
     "execution_count": 1,
     "metadata": {},
     "output_type": "execute_result"
    },
    {
     "name": "stdout",
     "output_type": "stream",
     "text": [
      "Sent: {'Id': 100019715, 'Date': '2016-01-27T18:00:00', 'Count': 0, 'Status': 'raw', 'Channel_Id': 102019715, 'Counting_Station': 'Meerbusch', 'Coordinates': '51.261012, 6.705018', 'Year': 2016, 'Month': 1, 'Day': 27, 'Hour': 18, 'Day_of_Week': 4, 'Latitude': 51.261012, 'Longitude': 6.705018}\n"
     ]
    },
    {
     "data": {
      "text/plain": [
       "<kafka.producer.future.FutureRecordMetadata at 0x7f49b92c1450>"
      ]
     },
     "execution_count": 1,
     "metadata": {},
     "output_type": "execute_result"
    },
    {
     "name": "stdout",
     "output_type": "stream",
     "text": [
      "Sent: {'Id': 100019715, 'Date': '2016-01-27T19:00:00', 'Count': 1, 'Status': 'raw', 'Channel_Id': 101019715, 'Counting_Station': 'Meerbusch', 'Coordinates': '51.261012, 6.705018', 'Year': 2016, 'Month': 1, 'Day': 27, 'Hour': 19, 'Day_of_Week': 4, 'Latitude': 51.261012, 'Longitude': 6.705018}\n"
     ]
    },
    {
     "data": {
      "text/plain": [
       "<kafka.producer.future.FutureRecordMetadata at 0x7f49b92c00d0>"
      ]
     },
     "execution_count": 1,
     "metadata": {},
     "output_type": "execute_result"
    },
    {
     "name": "stdout",
     "output_type": "stream",
     "text": [
      "Sent: {'Id': 100019715, 'Date': '2016-01-27T19:00:00', 'Count': 2, 'Status': 'raw', 'Channel_Id': 103019715, 'Counting_Station': 'Meerbusch', 'Coordinates': '51.261012, 6.705018', 'Year': 2016, 'Month': 1, 'Day': 27, 'Hour': 19, 'Day_of_Week': 4, 'Latitude': 51.261012, 'Longitude': 6.705018}\n"
     ]
    },
    {
     "data": {
      "text/plain": [
       "<kafka.producer.future.FutureRecordMetadata at 0x7f49b92c13d0>"
      ]
     },
     "execution_count": 1,
     "metadata": {},
     "output_type": "execute_result"
    },
    {
     "name": "stdout",
     "output_type": "stream",
     "text": [
      "Sent: {'Id': 100019715, 'Date': '2016-01-27T19:00:00', 'Count': 3, 'Status': 'raw', 'Channel_Id': 104019715, 'Counting_Station': 'Meerbusch', 'Coordinates': '51.261012, 6.705018', 'Year': 2016, 'Month': 1, 'Day': 27, 'Hour': 19, 'Day_of_Week': 4, 'Latitude': 51.261012, 'Longitude': 6.705018}\n"
     ]
    },
    {
     "data": {
      "text/plain": [
       "<kafka.producer.future.FutureRecordMetadata at 0x7f49b92bc290>"
      ]
     },
     "execution_count": 1,
     "metadata": {},
     "output_type": "execute_result"
    },
    {
     "name": "stdout",
     "output_type": "stream",
     "text": [
      "Sent: {'Id': 100019715, 'Date': '2016-01-27T19:00:00', 'Count': 2, 'Status': 'raw', 'Channel_Id': 102019715, 'Counting_Station': 'Meerbusch', 'Coordinates': '51.261012, 6.705018', 'Year': 2016, 'Month': 1, 'Day': 27, 'Hour': 19, 'Day_of_Week': 4, 'Latitude': 51.261012, 'Longitude': 6.705018}\n"
     ]
    },
    {
     "data": {
      "text/plain": [
       "<kafka.producer.future.FutureRecordMetadata at 0x7f49b92be490>"
      ]
     },
     "execution_count": 1,
     "metadata": {},
     "output_type": "execute_result"
    },
    {
     "name": "stdout",
     "output_type": "stream",
     "text": [
      "Sent: {'Id': 100019715, 'Date': '2016-01-27T20:00:00', 'Count': 0, 'Status': 'raw', 'Channel_Id': 103019715, 'Counting_Station': 'Meerbusch', 'Coordinates': '51.261012, 6.705018', 'Year': 2016, 'Month': 1, 'Day': 27, 'Hour': 20, 'Day_of_Week': 4, 'Latitude': 51.261012, 'Longitude': 6.705018}\n"
     ]
    },
    {
     "data": {
      "text/plain": [
       "<kafka.producer.future.FutureRecordMetadata at 0x7f49b92bd3d0>"
      ]
     },
     "execution_count": 1,
     "metadata": {},
     "output_type": "execute_result"
    },
    {
     "name": "stdout",
     "output_type": "stream",
     "text": [
      "Sent: {'Id': 100019715, 'Date': '2016-01-27T20:00:00', 'Count': 1, 'Status': 'raw', 'Channel_Id': 104019715, 'Counting_Station': 'Meerbusch', 'Coordinates': '51.261012, 6.705018', 'Year': 2016, 'Month': 1, 'Day': 27, 'Hour': 20, 'Day_of_Week': 4, 'Latitude': 51.261012, 'Longitude': 6.705018}\n"
     ]
    },
    {
     "data": {
      "text/plain": [
       "<kafka.producer.future.FutureRecordMetadata at 0x7f49b92bd850>"
      ]
     },
     "execution_count": 1,
     "metadata": {},
     "output_type": "execute_result"
    },
    {
     "name": "stdout",
     "output_type": "stream",
     "text": [
      "Sent: {'Id': 100019715, 'Date': '2016-01-27T20:00:00', 'Count': 1, 'Status': 'raw', 'Channel_Id': 101019715, 'Counting_Station': 'Meerbusch', 'Coordinates': '51.261012, 6.705018', 'Year': 2016, 'Month': 1, 'Day': 27, 'Hour': 20, 'Day_of_Week': 4, 'Latitude': 51.261012, 'Longitude': 6.705018}\n"
     ]
    },
    {
     "data": {
      "text/plain": [
       "<kafka.producer.future.FutureRecordMetadata at 0x7f49b92b1b50>"
      ]
     },
     "execution_count": 1,
     "metadata": {},
     "output_type": "execute_result"
    },
    {
     "name": "stdout",
     "output_type": "stream",
     "text": [
      "Sent: {'Id': 100019715, 'Date': '2016-01-27T20:00:00', 'Count': 0, 'Status': 'raw', 'Channel_Id': 102019715, 'Counting_Station': 'Meerbusch', 'Coordinates': '51.261012, 6.705018', 'Year': 2016, 'Month': 1, 'Day': 27, 'Hour': 20, 'Day_of_Week': 4, 'Latitude': 51.261012, 'Longitude': 6.705018}\n"
     ]
    },
    {
     "data": {
      "text/plain": [
       "<kafka.producer.future.FutureRecordMetadata at 0x7f49b92b3b50>"
      ]
     },
     "execution_count": 1,
     "metadata": {},
     "output_type": "execute_result"
    },
    {
     "name": "stdout",
     "output_type": "stream",
     "text": [
      "Sent: {'Id': 100019715, 'Date': '2016-01-27T21:00:00', 'Count': 0, 'Status': 'raw', 'Channel_Id': 103019715, 'Counting_Station': 'Meerbusch', 'Coordinates': '51.261012, 6.705018', 'Year': 2016, 'Month': 1, 'Day': 27, 'Hour': 21, 'Day_of_Week': 4, 'Latitude': 51.261012, 'Longitude': 6.705018}\n"
     ]
    },
    {
     "data": {
      "text/plain": [
       "<kafka.producer.future.FutureRecordMetadata at 0x7f49b92b3550>"
      ]
     },
     "execution_count": 1,
     "metadata": {},
     "output_type": "execute_result"
    },
    {
     "name": "stdout",
     "output_type": "stream",
     "text": [
      "Sent: {'Id': 100019715, 'Date': '2016-01-27T21:00:00', 'Count': 0, 'Status': 'raw', 'Channel_Id': 104019715, 'Counting_Station': 'Meerbusch', 'Coordinates': '51.261012, 6.705018', 'Year': 2016, 'Month': 1, 'Day': 27, 'Hour': 21, 'Day_of_Week': 4, 'Latitude': 51.261012, 'Longitude': 6.705018}\n"
     ]
    },
    {
     "data": {
      "text/plain": [
       "<kafka.producer.future.FutureRecordMetadata at 0x7f49b92b2190>"
      ]
     },
     "execution_count": 1,
     "metadata": {},
     "output_type": "execute_result"
    },
    {
     "name": "stdout",
     "output_type": "stream",
     "text": [
      "Sent: {'Id': 100019715, 'Date': '2016-01-27T21:00:00', 'Count': 0, 'Status': 'raw', 'Channel_Id': 102019715, 'Counting_Station': 'Meerbusch', 'Coordinates': '51.261012, 6.705018', 'Year': 2016, 'Month': 1, 'Day': 27, 'Hour': 21, 'Day_of_Week': 4, 'Latitude': 51.261012, 'Longitude': 6.705018}\n"
     ]
    },
    {
     "data": {
      "text/plain": [
       "<kafka.producer.future.FutureRecordMetadata at 0x7f49b92b1610>"
      ]
     },
     "execution_count": 1,
     "metadata": {},
     "output_type": "execute_result"
    },
    {
     "name": "stdout",
     "output_type": "stream",
     "text": [
      "Sent: {'Id': 100019715, 'Date': '2016-01-27T21:00:00', 'Count': 0, 'Status': 'raw', 'Channel_Id': 101019715, 'Counting_Station': 'Meerbusch', 'Coordinates': '51.261012, 6.705018', 'Year': 2016, 'Month': 1, 'Day': 27, 'Hour': 21, 'Day_of_Week': 4, 'Latitude': 51.261012, 'Longitude': 6.705018}\n"
     ]
    },
    {
     "data": {
      "text/plain": [
       "<kafka.producer.future.FutureRecordMetadata at 0x7f49b92b0250>"
      ]
     },
     "execution_count": 1,
     "metadata": {},
     "output_type": "execute_result"
    },
    {
     "name": "stdout",
     "output_type": "stream",
     "text": [
      "Sent: {'Id': 100019715, 'Date': '2016-01-27T22:00:00', 'Count': 0, 'Status': 'raw', 'Channel_Id': 103019715, 'Counting_Station': 'Meerbusch', 'Coordinates': '51.261012, 6.705018', 'Year': 2016, 'Month': 1, 'Day': 27, 'Hour': 22, 'Day_of_Week': 4, 'Latitude': 51.261012, 'Longitude': 6.705018}\n"
     ]
    },
    {
     "data": {
      "text/plain": [
       "<kafka.producer.future.FutureRecordMetadata at 0x7f49b92bd690>"
      ]
     },
     "execution_count": 1,
     "metadata": {},
     "output_type": "execute_result"
    },
    {
     "name": "stdout",
     "output_type": "stream",
     "text": [
      "Sent: {'Id': 100019715, 'Date': '2016-01-27T22:00:00', 'Count': 0, 'Status': 'raw', 'Channel_Id': 104019715, 'Counting_Station': 'Meerbusch', 'Coordinates': '51.261012, 6.705018', 'Year': 2016, 'Month': 1, 'Day': 27, 'Hour': 22, 'Day_of_Week': 4, 'Latitude': 51.261012, 'Longitude': 6.705018}\n"
     ]
    },
    {
     "data": {
      "text/plain": [
       "<kafka.producer.future.FutureRecordMetadata at 0x7f49b92a7c10>"
      ]
     },
     "execution_count": 1,
     "metadata": {},
     "output_type": "execute_result"
    },
    {
     "name": "stdout",
     "output_type": "stream",
     "text": [
      "Sent: {'Id': 100019715, 'Date': '2016-01-27T22:00:00', 'Count': 0, 'Status': 'raw', 'Channel_Id': 101019715, 'Counting_Station': 'Meerbusch', 'Coordinates': '51.261012, 6.705018', 'Year': 2016, 'Month': 1, 'Day': 27, 'Hour': 22, 'Day_of_Week': 4, 'Latitude': 51.261012, 'Longitude': 6.705018}\n"
     ]
    },
    {
     "data": {
      "text/plain": [
       "<kafka.producer.future.FutureRecordMetadata at 0x7f49b92a4910>"
      ]
     },
     "execution_count": 1,
     "metadata": {},
     "output_type": "execute_result"
    },
    {
     "name": "stdout",
     "output_type": "stream",
     "text": [
      "Sent: {'Id': 100019715, 'Date': '2016-01-27T22:00:00', 'Count': 0, 'Status': 'raw', 'Channel_Id': 102019715, 'Counting_Station': 'Meerbusch', 'Coordinates': '51.261012, 6.705018', 'Year': 2016, 'Month': 1, 'Day': 27, 'Hour': 22, 'Day_of_Week': 4, 'Latitude': 51.261012, 'Longitude': 6.705018}\n"
     ]
    },
    {
     "data": {
      "text/plain": [
       "<kafka.producer.future.FutureRecordMetadata at 0x7f49b92a4390>"
      ]
     },
     "execution_count": 1,
     "metadata": {},
     "output_type": "execute_result"
    },
    {
     "name": "stdout",
     "output_type": "stream",
     "text": [
      "Sent: {'Id': 100019715, 'Date': '2016-01-27T23:00:00', 'Count': 0, 'Status': 'raw', 'Channel_Id': 103019715, 'Counting_Station': 'Meerbusch', 'Coordinates': '51.261012, 6.705018', 'Year': 2016, 'Month': 1, 'Day': 27, 'Hour': 23, 'Day_of_Week': 4, 'Latitude': 51.261012, 'Longitude': 6.705018}\n"
     ]
    },
    {
     "data": {
      "text/plain": [
       "<kafka.producer.future.FutureRecordMetadata at 0x7f49b92a7b10>"
      ]
     },
     "execution_count": 1,
     "metadata": {},
     "output_type": "execute_result"
    },
    {
     "name": "stdout",
     "output_type": "stream",
     "text": [
      "Sent: {'Id': 100019715, 'Date': '2016-01-27T23:00:00', 'Count': 0, 'Status': 'raw', 'Channel_Id': 104019715, 'Counting_Station': 'Meerbusch', 'Coordinates': '51.261012, 6.705018', 'Year': 2016, 'Month': 1, 'Day': 27, 'Hour': 23, 'Day_of_Week': 4, 'Latitude': 51.261012, 'Longitude': 6.705018}\n"
     ]
    },
    {
     "data": {
      "text/plain": [
       "<kafka.producer.future.FutureRecordMetadata at 0x7f49b92a6490>"
      ]
     },
     "execution_count": 1,
     "metadata": {},
     "output_type": "execute_result"
    },
    {
     "name": "stdout",
     "output_type": "stream",
     "text": [
      "Sent: {'Id': 100019715, 'Date': '2016-01-27T23:00:00', 'Count': 0, 'Status': 'raw', 'Channel_Id': 101019715, 'Counting_Station': 'Meerbusch', 'Coordinates': '51.261012, 6.705018', 'Year': 2016, 'Month': 1, 'Day': 27, 'Hour': 23, 'Day_of_Week': 4, 'Latitude': 51.261012, 'Longitude': 6.705018}\n"
     ]
    },
    {
     "data": {
      "text/plain": [
       "<kafka.producer.future.FutureRecordMetadata at 0x7f49b92a35d0>"
      ]
     },
     "execution_count": 1,
     "metadata": {},
     "output_type": "execute_result"
    },
    {
     "name": "stdout",
     "output_type": "stream",
     "text": [
      "Sent: {'Id': 100019715, 'Date': '2016-01-27T23:00:00', 'Count': 0, 'Status': 'raw', 'Channel_Id': 102019715, 'Counting_Station': 'Meerbusch', 'Coordinates': '51.261012, 6.705018', 'Year': 2016, 'Month': 1, 'Day': 27, 'Hour': 23, 'Day_of_Week': 4, 'Latitude': 51.261012, 'Longitude': 6.705018}\n"
     ]
    },
    {
     "data": {
      "text/plain": [
       "<kafka.producer.future.FutureRecordMetadata at 0x7f49b92bee50>"
      ]
     },
     "execution_count": 1,
     "metadata": {},
     "output_type": "execute_result"
    },
    {
     "name": "stdout",
     "output_type": "stream",
     "text": [
      "Sent: {'Id': 100019715, 'Date': '2016-01-28T00:00:00', 'Count': 0, 'Status': 'raw', 'Channel_Id': 103019715, 'Counting_Station': 'Meerbusch', 'Coordinates': '51.261012, 6.705018', 'Year': 2016, 'Month': 1, 'Day': 28, 'Hour': 0, 'Day_of_Week': 5, 'Latitude': 51.261012, 'Longitude': 6.705018}\n"
     ]
    },
    {
     "data": {
      "text/plain": [
       "<kafka.producer.future.FutureRecordMetadata at 0x7f49da0ff790>"
      ]
     },
     "execution_count": 1,
     "metadata": {},
     "output_type": "execute_result"
    },
    {
     "name": "stdout",
     "output_type": "stream",
     "text": [
      "Sent: {'Id': 100019715, 'Date': '2016-01-28T00:00:00', 'Count': 0, 'Status': 'raw', 'Channel_Id': 104019715, 'Counting_Station': 'Meerbusch', 'Coordinates': '51.261012, 6.705018', 'Year': 2016, 'Month': 1, 'Day': 28, 'Hour': 0, 'Day_of_Week': 5, 'Latitude': 51.261012, 'Longitude': 6.705018}\n"
     ]
    },
    {
     "data": {
      "text/plain": [
       "<kafka.producer.future.FutureRecordMetadata at 0x7f49b92a6890>"
      ]
     },
     "execution_count": 1,
     "metadata": {},
     "output_type": "execute_result"
    },
    {
     "name": "stdout",
     "output_type": "stream",
     "text": [
      "Sent: {'Id': 100019715, 'Date': '2016-01-28T00:00:00', 'Count': 0, 'Status': 'raw', 'Channel_Id': 101019715, 'Counting_Station': 'Meerbusch', 'Coordinates': '51.261012, 6.705018', 'Year': 2016, 'Month': 1, 'Day': 28, 'Hour': 0, 'Day_of_Week': 5, 'Latitude': 51.261012, 'Longitude': 6.705018}\n"
     ]
    },
    {
     "data": {
      "text/plain": [
       "<kafka.producer.future.FutureRecordMetadata at 0x7f49b92b2f90>"
      ]
     },
     "execution_count": 1,
     "metadata": {},
     "output_type": "execute_result"
    },
    {
     "name": "stdout",
     "output_type": "stream",
     "text": [
      "Sent: {'Id': 100019715, 'Date': '2016-01-28T00:00:00', 'Count': 0, 'Status': 'raw', 'Channel_Id': 102019715, 'Counting_Station': 'Meerbusch', 'Coordinates': '51.261012, 6.705018', 'Year': 2016, 'Month': 1, 'Day': 28, 'Hour': 0, 'Day_of_Week': 5, 'Latitude': 51.261012, 'Longitude': 6.705018}\n"
     ]
    },
    {
     "data": {
      "text/plain": [
       "<kafka.producer.future.FutureRecordMetadata at 0x7f49d8c8ea10>"
      ]
     },
     "execution_count": 1,
     "metadata": {},
     "output_type": "execute_result"
    },
    {
     "name": "stdout",
     "output_type": "stream",
     "text": [
      "Sent: {'Id': 100019715, 'Date': '2016-01-28T01:00:00', 'Count': 0, 'Status': 'raw', 'Channel_Id': 104019715, 'Counting_Station': 'Meerbusch', 'Coordinates': '51.261012, 6.705018', 'Year': 2016, 'Month': 1, 'Day': 28, 'Hour': 1, 'Day_of_Week': 5, 'Latitude': 51.261012, 'Longitude': 6.705018}\n"
     ]
    },
    {
     "data": {
      "text/plain": [
       "<kafka.producer.future.FutureRecordMetadata at 0x7f49d8c8e450>"
      ]
     },
     "execution_count": 1,
     "metadata": {},
     "output_type": "execute_result"
    },
    {
     "name": "stdout",
     "output_type": "stream",
     "text": [
      "Sent: {'Id': 100019715, 'Date': '2016-01-28T01:00:00', 'Count': 0, 'Status': 'raw', 'Channel_Id': 103019715, 'Counting_Station': 'Meerbusch', 'Coordinates': '51.261012, 6.705018', 'Year': 2016, 'Month': 1, 'Day': 28, 'Hour': 1, 'Day_of_Week': 5, 'Latitude': 51.261012, 'Longitude': 6.705018}\n"
     ]
    },
    {
     "data": {
      "text/plain": [
       "<kafka.producer.future.FutureRecordMetadata at 0x7f49b92a3a90>"
      ]
     },
     "execution_count": 1,
     "metadata": {},
     "output_type": "execute_result"
    },
    {
     "name": "stdout",
     "output_type": "stream",
     "text": [
      "Sent: {'Id': 100019715, 'Date': '2016-01-28T01:00:00', 'Count': 0, 'Status': 'raw', 'Channel_Id': 101019715, 'Counting_Station': 'Meerbusch', 'Coordinates': '51.261012, 6.705018', 'Year': 2016, 'Month': 1, 'Day': 28, 'Hour': 1, 'Day_of_Week': 5, 'Latitude': 51.261012, 'Longitude': 6.705018}\n"
     ]
    },
    {
     "data": {
      "text/plain": [
       "<kafka.producer.future.FutureRecordMetadata at 0x7f49b92a6d10>"
      ]
     },
     "execution_count": 1,
     "metadata": {},
     "output_type": "execute_result"
    },
    {
     "name": "stdout",
     "output_type": "stream",
     "text": [
      "Sent: {'Id': 100019715, 'Date': '2016-01-28T01:00:00', 'Count': 1, 'Status': 'raw', 'Channel_Id': 102019715, 'Counting_Station': 'Meerbusch', 'Coordinates': '51.261012, 6.705018', 'Year': 2016, 'Month': 1, 'Day': 28, 'Hour': 1, 'Day_of_Week': 5, 'Latitude': 51.261012, 'Longitude': 6.705018}\n"
     ]
    },
    {
     "data": {
      "text/plain": [
       "<kafka.producer.future.FutureRecordMetadata at 0x7f49b92a7dd0>"
      ]
     },
     "execution_count": 1,
     "metadata": {},
     "output_type": "execute_result"
    },
    {
     "name": "stdout",
     "output_type": "stream",
     "text": [
      "Sent: {'Id': 100019715, 'Date': '2016-01-28T02:00:00', 'Count': 0, 'Status': 'raw', 'Channel_Id': 103019715, 'Counting_Station': 'Meerbusch', 'Coordinates': '51.261012, 6.705018', 'Year': 2016, 'Month': 1, 'Day': 28, 'Hour': 2, 'Day_of_Week': 5, 'Latitude': 51.261012, 'Longitude': 6.705018}\n"
     ]
    },
    {
     "data": {
      "text/plain": [
       "<kafka.producer.future.FutureRecordMetadata at 0x7f49b92a6350>"
      ]
     },
     "execution_count": 1,
     "metadata": {},
     "output_type": "execute_result"
    },
    {
     "name": "stdout",
     "output_type": "stream",
     "text": [
      "Sent: {'Id': 100019715, 'Date': '2016-01-28T02:00:00', 'Count': 0, 'Status': 'raw', 'Channel_Id': 104019715, 'Counting_Station': 'Meerbusch', 'Coordinates': '51.261012, 6.705018', 'Year': 2016, 'Month': 1, 'Day': 28, 'Hour': 2, 'Day_of_Week': 5, 'Latitude': 51.261012, 'Longitude': 6.705018}\n"
     ]
    },
    {
     "data": {
      "text/plain": [
       "<kafka.producer.future.FutureRecordMetadata at 0x7f49b92b2650>"
      ]
     },
     "execution_count": 1,
     "metadata": {},
     "output_type": "execute_result"
    },
    {
     "name": "stdout",
     "output_type": "stream",
     "text": [
      "Sent: {'Id': 100019715, 'Date': '2016-01-28T02:00:00', 'Count': 0, 'Status': 'raw', 'Channel_Id': 102019715, 'Counting_Station': 'Meerbusch', 'Coordinates': '51.261012, 6.705018', 'Year': 2016, 'Month': 1, 'Day': 28, 'Hour': 2, 'Day_of_Week': 5, 'Latitude': 51.261012, 'Longitude': 6.705018}\n"
     ]
    },
    {
     "data": {
      "text/plain": [
       "<kafka.producer.future.FutureRecordMetadata at 0x7f49b92b1d10>"
      ]
     },
     "execution_count": 1,
     "metadata": {},
     "output_type": "execute_result"
    },
    {
     "name": "stdout",
     "output_type": "stream",
     "text": [
      "Sent: {'Id': 100019715, 'Date': '2016-01-28T02:00:00', 'Count': 0, 'Status': 'raw', 'Channel_Id': 101019715, 'Counting_Station': 'Meerbusch', 'Coordinates': '51.261012, 6.705018', 'Year': 2016, 'Month': 1, 'Day': 28, 'Hour': 2, 'Day_of_Week': 5, 'Latitude': 51.261012, 'Longitude': 6.705018}\n"
     ]
    },
    {
     "data": {
      "text/plain": [
       "<kafka.producer.future.FutureRecordMetadata at 0x7f49b92b3490>"
      ]
     },
     "execution_count": 1,
     "metadata": {},
     "output_type": "execute_result"
    },
    {
     "name": "stdout",
     "output_type": "stream",
     "text": [
      "Sent: {'Id': 100019715, 'Date': '2016-01-28T03:00:00', 'Count': 0, 'Status': 'raw', 'Channel_Id': 102019715, 'Counting_Station': 'Meerbusch', 'Coordinates': '51.261012, 6.705018', 'Year': 2016, 'Month': 1, 'Day': 28, 'Hour': 3, 'Day_of_Week': 5, 'Latitude': 51.261012, 'Longitude': 6.705018}\n"
     ]
    },
    {
     "data": {
      "text/plain": [
       "<kafka.producer.future.FutureRecordMetadata at 0x7f49b92b1b90>"
      ]
     },
     "execution_count": 1,
     "metadata": {},
     "output_type": "execute_result"
    },
    {
     "name": "stdout",
     "output_type": "stream",
     "text": [
      "Sent: {'Id': 100019715, 'Date': '2016-01-28T03:00:00', 'Count': 0, 'Status': 'raw', 'Channel_Id': 103019715, 'Counting_Station': 'Meerbusch', 'Coordinates': '51.261012, 6.705018', 'Year': 2016, 'Month': 1, 'Day': 28, 'Hour': 3, 'Day_of_Week': 5, 'Latitude': 51.261012, 'Longitude': 6.705018}\n"
     ]
    },
    {
     "data": {
      "text/plain": [
       "<kafka.producer.future.FutureRecordMetadata at 0x7f49b92b16d0>"
      ]
     },
     "execution_count": 1,
     "metadata": {},
     "output_type": "execute_result"
    },
    {
     "name": "stdout",
     "output_type": "stream",
     "text": [
      "Sent: {'Id': 100019715, 'Date': '2016-01-28T03:00:00', 'Count': 0, 'Status': 'raw', 'Channel_Id': 101019715, 'Counting_Station': 'Meerbusch', 'Coordinates': '51.261012, 6.705018', 'Year': 2016, 'Month': 1, 'Day': 28, 'Hour': 3, 'Day_of_Week': 5, 'Latitude': 51.261012, 'Longitude': 6.705018}\n"
     ]
    },
    {
     "data": {
      "text/plain": [
       "<kafka.producer.future.FutureRecordMetadata at 0x7f49b92a5610>"
      ]
     },
     "execution_count": 1,
     "metadata": {},
     "output_type": "execute_result"
    },
    {
     "name": "stdout",
     "output_type": "stream",
     "text": [
      "Sent: {'Id': 100019715, 'Date': '2016-01-28T03:00:00', 'Count': 0, 'Status': 'raw', 'Channel_Id': 104019715, 'Counting_Station': 'Meerbusch', 'Coordinates': '51.261012, 6.705018', 'Year': 2016, 'Month': 1, 'Day': 28, 'Hour': 3, 'Day_of_Week': 5, 'Latitude': 51.261012, 'Longitude': 6.705018}\n"
     ]
    },
    {
     "data": {
      "text/plain": [
       "<kafka.producer.future.FutureRecordMetadata at 0x7f49b92bc710>"
      ]
     },
     "execution_count": 1,
     "metadata": {},
     "output_type": "execute_result"
    },
    {
     "name": "stdout",
     "output_type": "stream",
     "text": [
      "Sent: {'Id': 100019715, 'Date': '2016-01-28T04:00:00', 'Count': 0, 'Status': 'raw', 'Channel_Id': 103019715, 'Counting_Station': 'Meerbusch', 'Coordinates': '51.261012, 6.705018', 'Year': 2016, 'Month': 1, 'Day': 28, 'Hour': 4, 'Day_of_Week': 5, 'Latitude': 51.261012, 'Longitude': 6.705018}\n"
     ]
    },
    {
     "data": {
      "text/plain": [
       "<kafka.producer.future.FutureRecordMetadata at 0x7f49b92bea50>"
      ]
     },
     "execution_count": 1,
     "metadata": {},
     "output_type": "execute_result"
    },
    {
     "name": "stdout",
     "output_type": "stream",
     "text": [
      "Sent: {'Id': 100019715, 'Date': '2016-01-28T04:00:00', 'Count': 0, 'Status': 'raw', 'Channel_Id': 101019715, 'Counting_Station': 'Meerbusch', 'Coordinates': '51.261012, 6.705018', 'Year': 2016, 'Month': 1, 'Day': 28, 'Hour': 4, 'Day_of_Week': 5, 'Latitude': 51.261012, 'Longitude': 6.705018}\n"
     ]
    },
    {
     "data": {
      "text/plain": [
       "<kafka.producer.future.FutureRecordMetadata at 0x7f49b92bd690>"
      ]
     },
     "execution_count": 1,
     "metadata": {},
     "output_type": "execute_result"
    },
    {
     "name": "stdout",
     "output_type": "stream",
     "text": [
      "Sent: {'Id': 100019715, 'Date': '2016-01-28T04:00:00', 'Count': 0, 'Status': 'raw', 'Channel_Id': 104019715, 'Counting_Station': 'Meerbusch', 'Coordinates': '51.261012, 6.705018', 'Year': 2016, 'Month': 1, 'Day': 28, 'Hour': 4, 'Day_of_Week': 5, 'Latitude': 51.261012, 'Longitude': 6.705018}\n"
     ]
    },
    {
     "data": {
      "text/plain": [
       "<kafka.producer.future.FutureRecordMetadata at 0x7f49b92bca90>"
      ]
     },
     "execution_count": 1,
     "metadata": {},
     "output_type": "execute_result"
    },
    {
     "name": "stdout",
     "output_type": "stream",
     "text": [
      "Sent: {'Id': 100019715, 'Date': '2016-01-28T04:00:00', 'Count': 0, 'Status': 'raw', 'Channel_Id': 102019715, 'Counting_Station': 'Meerbusch', 'Coordinates': '51.261012, 6.705018', 'Year': 2016, 'Month': 1, 'Day': 28, 'Hour': 4, 'Day_of_Week': 5, 'Latitude': 51.261012, 'Longitude': 6.705018}\n"
     ]
    },
    {
     "data": {
      "text/plain": [
       "<kafka.producer.future.FutureRecordMetadata at 0x7f49b92bf290>"
      ]
     },
     "execution_count": 1,
     "metadata": {},
     "output_type": "execute_result"
    },
    {
     "name": "stdout",
     "output_type": "stream",
     "text": [
      "Sent: {'Id': 100019715, 'Date': '2016-01-28T05:00:00', 'Count': 0, 'Status': 'raw', 'Channel_Id': 102019715, 'Counting_Station': 'Meerbusch', 'Coordinates': '51.261012, 6.705018', 'Year': 2016, 'Month': 1, 'Day': 28, 'Hour': 5, 'Day_of_Week': 5, 'Latitude': 51.261012, 'Longitude': 6.705018}\n"
     ]
    },
    {
     "data": {
      "text/plain": [
       "<kafka.producer.future.FutureRecordMetadata at 0x7f49b92be490>"
      ]
     },
     "execution_count": 1,
     "metadata": {},
     "output_type": "execute_result"
    },
    {
     "name": "stdout",
     "output_type": "stream",
     "text": [
      "Sent: {'Id': 100019715, 'Date': '2016-01-28T05:00:00', 'Count': 0, 'Status': 'raw', 'Channel_Id': 103019715, 'Counting_Station': 'Meerbusch', 'Coordinates': '51.261012, 6.705018', 'Year': 2016, 'Month': 1, 'Day': 28, 'Hour': 5, 'Day_of_Week': 5, 'Latitude': 51.261012, 'Longitude': 6.705018}\n"
     ]
    },
    {
     "data": {
      "text/plain": [
       "<kafka.producer.future.FutureRecordMetadata at 0x7f49b92adf10>"
      ]
     },
     "execution_count": 1,
     "metadata": {},
     "output_type": "execute_result"
    },
    {
     "name": "stdout",
     "output_type": "stream",
     "text": [
      "Sent: {'Id': 100019715, 'Date': '2016-01-28T05:00:00', 'Count': 0, 'Status': 'raw', 'Channel_Id': 104019715, 'Counting_Station': 'Meerbusch', 'Coordinates': '51.261012, 6.705018', 'Year': 2016, 'Month': 1, 'Day': 28, 'Hour': 5, 'Day_of_Week': 5, 'Latitude': 51.261012, 'Longitude': 6.705018}\n"
     ]
    },
    {
     "data": {
      "text/plain": [
       "<kafka.producer.future.FutureRecordMetadata at 0x7f49b92ad290>"
      ]
     },
     "execution_count": 1,
     "metadata": {},
     "output_type": "execute_result"
    },
    {
     "name": "stdout",
     "output_type": "stream",
     "text": [
      "Sent: {'Id': 100019715, 'Date': '2016-01-28T05:00:00', 'Count': 1, 'Status': 'raw', 'Channel_Id': 101019715, 'Counting_Station': 'Meerbusch', 'Coordinates': '51.261012, 6.705018', 'Year': 2016, 'Month': 1, 'Day': 28, 'Hour': 5, 'Day_of_Week': 5, 'Latitude': 51.261012, 'Longitude': 6.705018}\n"
     ]
    },
    {
     "ename": "KeyboardInterrupt",
     "evalue": "",
     "output_type": "error",
     "traceback": [
      "\u001b[0;31m---------------------------------------------------------------------------\u001b[0m",
      "\u001b[0;31mKeyboardInterrupt\u001b[0m                         Traceback (most recent call last)",
      "Cell \u001b[0;32mIn[1], line 52\u001b[0m\n\u001b[1;32m     50\u001b[0m     producer\u001b[38;5;241m.\u001b[39msend(KAFKA_TOPIC, value\u001b[38;5;241m=\u001b[39mdata)\n\u001b[1;32m     51\u001b[0m     \u001b[38;5;28mprint\u001b[39m(\u001b[38;5;124mf\u001b[39m\u001b[38;5;124m\"\u001b[39m\u001b[38;5;124mSent: \u001b[39m\u001b[38;5;132;01m{\u001b[39;00mdata\u001b[38;5;132;01m}\u001b[39;00m\u001b[38;5;124m\"\u001b[39m)\n\u001b[0;32m---> 52\u001b[0m     time\u001b[38;5;241m.\u001b[39msleep(\u001b[38;5;241m2\u001b[39m)  \u001b[38;5;66;03m# Adjust for hourly simulation (2 second = 1 \"hour\")\u001b[39;00m\n\u001b[1;32m     54\u001b[0m \u001b[38;5;66;03m# Close producer\u001b[39;00m\n\u001b[1;32m     55\u001b[0m producer\u001b[38;5;241m.\u001b[39mclose()\n",
      "File \u001b[0;32m~/.jupyter_venv/lib/python3.11/site-packages/pyspark/context.py:382\u001b[0m, in \u001b[0;36mSparkContext._do_init.<locals>.signal_handler\u001b[0;34m(signal, frame)\u001b[0m\n\u001b[1;32m    380\u001b[0m \u001b[38;5;28;01mdef\u001b[39;00m \u001b[38;5;21msignal_handler\u001b[39m(signal: Any, frame: Any) \u001b[38;5;241m-\u001b[39m\u001b[38;5;241m>\u001b[39m NoReturn:\n\u001b[1;32m    381\u001b[0m     \u001b[38;5;28mself\u001b[39m\u001b[38;5;241m.\u001b[39mcancelAllJobs()\n\u001b[0;32m--> 382\u001b[0m     \u001b[38;5;28;01mraise\u001b[39;00m \u001b[38;5;167;01mKeyboardInterrupt\u001b[39;00m()\n",
      "\u001b[0;31mKeyboardInterrupt\u001b[0m: "
     ]
    }
   ],
   "source": [
    "from kafka import KafkaProducer\n",
    "import pandas as pd\n",
    "import time\n",
    "import json\n",
    "from datetime import datetime\n",
    "from pyspark.sql.session import SparkSession\n",
    "import findspark\n",
    "\n",
    "\n",
    "findspark.init()\n",
    "\n",
    "import os\n",
    "\n",
    "os.environ['PYSPARK_SUBMIT_ARGS'] = '--packages \"org.apache.spark:spark-sql-kafka-0-10_2.12:3.5.2\" pyspark-shell'\n",
    "\n",
    "pd.set_option('display.max_colwidth', None)\n",
    "\n",
    "spark = (SparkSession.builder\n",
    "    .appName(\"group_10_streaming_simulation\")\n",
    "    .getOrCreate())\n",
    "\n",
    "spark.sparkContext.setLogLevel(\"ERROR\")\n",
    "\n",
    "# Kafka broker\n",
    "KAFKA_BROKER = 'localhost:9092'\n",
    "KAFKA_TOPIC = 'cycling_data'\n",
    "\n",
    "# Initialize Kafka producer\n",
    "producer = KafkaProducer(\n",
    "    bootstrap_servers=KAFKA_BROKER,\n",
    "    value_serializer=lambda v: json.dumps(v).encode('utf-8')\n",
    ")\n",
    "\n",
    "# HDFS CSV path\n",
    "df = (spark.read.option(\"header\", \"true\")\n",
    "                 .option(\"inferSchema\", \"true\")\n",
    "                 .csv(\"hdfs://localhost:9000//g10_datalake/silver/cycling/Counting_Station_Meerbusch\")\n",
    "                 .cache())\n",
    "\n",
    "\n",
    "df = df.orderBy(\"Date\")\n",
    "\n",
    "# Simulate hourly streaming by sending rows one by one\n",
    "for row in df.collect():\n",
    "    data = row.asDict()  # Convert each Row object to a dictionary\n",
    "    # Convert datetime objects to string\n",
    "    for key, value in data.items():\n",
    "        if isinstance(value, datetime):\n",
    "            data[key] = value.isoformat()  # Convert to ISO 8601 string\n",
    "    producer.send(KAFKA_TOPIC, value=data)\n",
    "    print(f\"Sent: {data}\")\n",
    "    time.sleep(2)  # Adjust for hourly simulation (2 second = 1 \"hour\")\n",
    "\n",
    "# Close producer\n",
    "producer.close()"
   ]
  },
  {
   "cell_type": "code",
   "execution_count": null,
   "id": "f41efcde-ac9d-4bf6-9b79-0645bc685310",
   "metadata": {},
   "outputs": [],
   "source": []
  }
 ],
 "metadata": {
  "kernelspec": {
   "display_name": "Python 3 (ipykernel)",
   "language": "python",
   "name": "python3"
  },
  "language_info": {
   "codemirror_mode": {
    "name": "ipython",
    "version": 3
   },
   "file_extension": ".py",
   "mimetype": "text/x-python",
   "name": "python",
   "nbconvert_exporter": "python",
   "pygments_lexer": "ipython3",
   "version": "3.11.2"
  }
 },
 "nbformat": 4,
 "nbformat_minor": 5
}
