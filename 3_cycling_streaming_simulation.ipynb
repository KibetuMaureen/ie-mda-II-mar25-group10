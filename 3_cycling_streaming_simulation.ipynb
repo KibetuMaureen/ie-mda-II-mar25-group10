{
 "cells": [
  {
   "cell_type": "markdown",
   "id": "994d236c-8db6-45ac-b680-5b8c44d76edb",
   "metadata": {},
   "source": [
    "# Cycling in numbers - A Case Study of Cycle Paths in Rhine-Kreis Neuss\n",
    "\n",
    "## Description\n",
    "\n",
    "Five Counting stations have been permanently documenting cycling traffic on central roads since 2016 in Cycle paths in the Rhine-Kreis Neuss. The daily measurement of cycling traffic is done with the help of induction loops laid in the ground. With the permanent collection of data can gain insights on the daily, weekly and annual cycles and on it building long-term cycling developments over several years.\n",
    "\n",
    "More details on the data source here: https://data.europa.eu/data/datasets/eco-counter-data-rhein-kreis-neuss?locale=en\n",
    "\n",
    "# Streaming Simulation - Data Ingestion\n",
    "\n",
    "To simulate real-time data ingestion, Apache Kafka is used to stream bicycle count data continuously. A Kafka producer reads records from the dataset and publishes them as JSON messages to a designated topic, replicating live data collection scenarios. The simulation introduces controlled time delays, mimicking the hourly arrival of new data.\n",
    "\n",
    "\n",
    "Each message follows a predefined schema to maintain data integrity. Logging and monitoring mechanisms track message flow, ensuring successful ingestion and identifying potential issues. This simulation validates the system's ability to handle real-time data, laying the groundwork for further streaming analytics and dynamic monitoring applications.\n",
    "\n"
   ]
  },
  {
   "cell_type": "code",
   "execution_count": 1,
   "id": "e3516e41-03cf-42b2-8c5b-0a7fdb404d54",
   "metadata": {},
   "outputs": [
    {
     "name": "stderr",
     "output_type": "stream",
     "text": [
      "25/03/17 18:33:01 WARN Utils: Your hostname, osbdet resolves to a loopback address: 127.0.0.1; using 10.0.2.15 instead (on interface enp0s3)\n",
      "25/03/17 18:33:01 WARN Utils: Set SPARK_LOCAL_IP if you need to bind to another address\n"
     ]
    },
    {
     "name": "stdout",
     "output_type": "stream",
     "text": [
      ":: loading settings :: url = jar:file:/home/osbdet/.jupyter_venv/lib/python3.11/site-packages/pyspark/jars/ivy-2.5.1.jar!/org/apache/ivy/core/settings/ivysettings.xml\n"
     ]
    },
    {
     "name": "stderr",
     "output_type": "stream",
     "text": [
      "Ivy Default Cache set to: /home/osbdet/.ivy2/cache\n",
      "The jars for the packages stored in: /home/osbdet/.ivy2/jars\n",
      "org.apache.spark#spark-sql-kafka-0-10_2.12 added as a dependency\n",
      ":: resolving dependencies :: org.apache.spark#spark-submit-parent-89591676-f88b-4b1d-96a1-cd4bf298902b;1.0\n",
      "\tconfs: [default]\n",
      "\tfound org.apache.spark#spark-sql-kafka-0-10_2.12;3.5.2 in central\n",
      "\tfound org.apache.spark#spark-token-provider-kafka-0-10_2.12;3.5.2 in central\n",
      "\tfound org.apache.kafka#kafka-clients;3.4.1 in central\n",
      "\tfound org.lz4#lz4-java;1.8.0 in central\n",
      "\tfound org.xerial.snappy#snappy-java;1.1.10.5 in central\n",
      "\tfound org.slf4j#slf4j-api;2.0.7 in central\n",
      "\tfound org.apache.hadoop#hadoop-client-runtime;3.3.4 in central\n",
      "\tfound org.apache.hadoop#hadoop-client-api;3.3.4 in central\n",
      "\tfound commons-logging#commons-logging;1.1.3 in central\n",
      "\tfound com.google.code.findbugs#jsr305;3.0.0 in central\n",
      "\tfound org.apache.commons#commons-pool2;2.11.1 in central\n",
      ":: resolution report :: resolve 2613ms :: artifacts dl 113ms\n",
      "\t:: modules in use:\n",
      "\tcom.google.code.findbugs#jsr305;3.0.0 from central in [default]\n",
      "\tcommons-logging#commons-logging;1.1.3 from central in [default]\n",
      "\torg.apache.commons#commons-pool2;2.11.1 from central in [default]\n",
      "\torg.apache.hadoop#hadoop-client-api;3.3.4 from central in [default]\n",
      "\torg.apache.hadoop#hadoop-client-runtime;3.3.4 from central in [default]\n",
      "\torg.apache.kafka#kafka-clients;3.4.1 from central in [default]\n",
      "\torg.apache.spark#spark-sql-kafka-0-10_2.12;3.5.2 from central in [default]\n",
      "\torg.apache.spark#spark-token-provider-kafka-0-10_2.12;3.5.2 from central in [default]\n",
      "\torg.lz4#lz4-java;1.8.0 from central in [default]\n",
      "\torg.slf4j#slf4j-api;2.0.7 from central in [default]\n",
      "\torg.xerial.snappy#snappy-java;1.1.10.5 from central in [default]\n",
      "\t---------------------------------------------------------------------\n",
      "\t|                  |            modules            ||   artifacts   |\n",
      "\t|       conf       | number| search|dwnlded|evicted|| number|dwnlded|\n",
      "\t---------------------------------------------------------------------\n",
      "\t|      default     |   11  |   0   |   0   |   0   ||   11  |   0   |\n",
      "\t---------------------------------------------------------------------\n",
      ":: retrieving :: org.apache.spark#spark-submit-parent-89591676-f88b-4b1d-96a1-cd4bf298902b\n",
      "\tconfs: [default]\n",
      "\t0 artifacts copied, 11 already retrieved (0kB/15ms)\n",
      "25/03/17 18:33:06 WARN NativeCodeLoader: Unable to load native-hadoop library for your platform... using builtin-java classes where applicable\n",
      "Setting default log level to \"WARN\".\n",
      "To adjust logging level use sc.setLogLevel(newLevel). For SparkR, use setLogLevel(newLevel).\n",
      "25/03/17 18:33:12 WARN Utils: Service 'SparkUI' could not bind on port 4040. Attempting port 4041.\n",
      "                                                                                \r"
     ]
    },
    {
     "data": {
      "text/plain": [
       "<kafka.producer.future.FutureRecordMetadata at 0x7fce13643010>"
      ]
     },
     "execution_count": 1,
     "metadata": {},
     "output_type": "execute_result"
    },
    {
     "name": "stdout",
     "output_type": "stream",
     "text": [
      "Sent: {'Id': 100019715, 'Date': '2016-01-26T00:00:00', 'Count': 0, 'Status': 'raw', 'Channel_Id': 101019715, 'Counting_Station': 'Meerbusch', 'Coordinates': '51.261012, 6.705018', 'Year': 2016, 'Month': 1, 'Day': 26, 'Hour': 0, 'Day_of_Week': 3, 'Latitude': 51.261012, 'Longitude': 6.705018}\n"
     ]
    },
    {
     "data": {
      "text/plain": [
       "<kafka.producer.future.FutureRecordMetadata at 0x7fce136404d0>"
      ]
     },
     "execution_count": 1,
     "metadata": {},
     "output_type": "execute_result"
    },
    {
     "name": "stdout",
     "output_type": "stream",
     "text": [
      "Sent: {'Id': 100019715, 'Date': '2016-01-26T00:00:00', 'Count': 0, 'Status': 'raw', 'Channel_Id': 102019715, 'Counting_Station': 'Meerbusch', 'Coordinates': '51.261012, 6.705018', 'Year': 2016, 'Month': 1, 'Day': 26, 'Hour': 0, 'Day_of_Week': 3, 'Latitude': 51.261012, 'Longitude': 6.705018}\n"
     ]
    },
    {
     "data": {
      "text/plain": [
       "<kafka.producer.future.FutureRecordMetadata at 0x7fce13616910>"
      ]
     },
     "execution_count": 1,
     "metadata": {},
     "output_type": "execute_result"
    },
    {
     "name": "stdout",
     "output_type": "stream",
     "text": [
      "Sent: {'Id': 100019715, 'Date': '2016-01-26T00:00:00', 'Count': 0, 'Status': 'raw', 'Channel_Id': 103019715, 'Counting_Station': 'Meerbusch', 'Coordinates': '51.261012, 6.705018', 'Year': 2016, 'Month': 1, 'Day': 26, 'Hour': 0, 'Day_of_Week': 3, 'Latitude': 51.261012, 'Longitude': 6.705018}\n"
     ]
    },
    {
     "data": {
      "text/plain": [
       "<kafka.producer.future.FutureRecordMetadata at 0x7fce13617250>"
      ]
     },
     "execution_count": 1,
     "metadata": {},
     "output_type": "execute_result"
    },
    {
     "name": "stdout",
     "output_type": "stream",
     "text": [
      "Sent: {'Id': 100019715, 'Date': '2016-01-26T00:00:00', 'Count': 0, 'Status': 'raw', 'Channel_Id': 104019715, 'Counting_Station': 'Meerbusch', 'Coordinates': '51.261012, 6.705018', 'Year': 2016, 'Month': 1, 'Day': 26, 'Hour': 0, 'Day_of_Week': 3, 'Latitude': 51.261012, 'Longitude': 6.705018}\n"
     ]
    },
    {
     "data": {
      "text/plain": [
       "<kafka.producer.future.FutureRecordMetadata at 0x7fce136165d0>"
      ]
     },
     "execution_count": 1,
     "metadata": {},
     "output_type": "execute_result"
    },
    {
     "name": "stdout",
     "output_type": "stream",
     "text": [
      "Sent: {'Id': 100019715, 'Date': '2016-01-26T01:00:00', 'Count': 0, 'Status': 'raw', 'Channel_Id': 103019715, 'Counting_Station': 'Meerbusch', 'Coordinates': '51.261012, 6.705018', 'Year': 2016, 'Month': 1, 'Day': 26, 'Hour': 1, 'Day_of_Week': 3, 'Latitude': 51.261012, 'Longitude': 6.705018}\n"
     ]
    },
    {
     "data": {
      "text/plain": [
       "<kafka.producer.future.FutureRecordMetadata at 0x7fce136167d0>"
      ]
     },
     "execution_count": 1,
     "metadata": {},
     "output_type": "execute_result"
    },
    {
     "name": "stdout",
     "output_type": "stream",
     "text": [
      "Sent: {'Id': 100019715, 'Date': '2016-01-26T01:00:00', 'Count': 0, 'Status': 'raw', 'Channel_Id': 104019715, 'Counting_Station': 'Meerbusch', 'Coordinates': '51.261012, 6.705018', 'Year': 2016, 'Month': 1, 'Day': 26, 'Hour': 1, 'Day_of_Week': 3, 'Latitude': 51.261012, 'Longitude': 6.705018}\n"
     ]
    },
    {
     "data": {
      "text/plain": [
       "<kafka.producer.future.FutureRecordMetadata at 0x7fce13604190>"
      ]
     },
     "execution_count": 1,
     "metadata": {},
     "output_type": "execute_result"
    },
    {
     "name": "stdout",
     "output_type": "stream",
     "text": [
      "Sent: {'Id': 100019715, 'Date': '2016-01-26T01:00:00', 'Count': 0, 'Status': 'raw', 'Channel_Id': 101019715, 'Counting_Station': 'Meerbusch', 'Coordinates': '51.261012, 6.705018', 'Year': 2016, 'Month': 1, 'Day': 26, 'Hour': 1, 'Day_of_Week': 3, 'Latitude': 51.261012, 'Longitude': 6.705018}\n"
     ]
    },
    {
     "data": {
      "text/plain": [
       "<kafka.producer.future.FutureRecordMetadata at 0x7fcdf39352d0>"
      ]
     },
     "execution_count": 1,
     "metadata": {},
     "output_type": "execute_result"
    },
    {
     "name": "stdout",
     "output_type": "stream",
     "text": [
      "Sent: {'Id': 100019715, 'Date': '2016-01-26T01:00:00', 'Count': 0, 'Status': 'raw', 'Channel_Id': 102019715, 'Counting_Station': 'Meerbusch', 'Coordinates': '51.261012, 6.705018', 'Year': 2016, 'Month': 1, 'Day': 26, 'Hour': 1, 'Day_of_Week': 3, 'Latitude': 51.261012, 'Longitude': 6.705018}\n"
     ]
    },
    {
     "data": {
      "text/plain": [
       "<kafka.producer.future.FutureRecordMetadata at 0x7fcdf3935650>"
      ]
     },
     "execution_count": 1,
     "metadata": {},
     "output_type": "execute_result"
    },
    {
     "name": "stdout",
     "output_type": "stream",
     "text": [
      "Sent: {'Id': 100019715, 'Date': '2016-01-26T02:00:00', 'Count': 0, 'Status': 'raw', 'Channel_Id': 103019715, 'Counting_Station': 'Meerbusch', 'Coordinates': '51.261012, 6.705018', 'Year': 2016, 'Month': 1, 'Day': 26, 'Hour': 2, 'Day_of_Week': 3, 'Latitude': 51.261012, 'Longitude': 6.705018}\n"
     ]
    },
    {
     "data": {
      "text/plain": [
       "<kafka.producer.future.FutureRecordMetadata at 0x7fcdf3935a10>"
      ]
     },
     "execution_count": 1,
     "metadata": {},
     "output_type": "execute_result"
    },
    {
     "name": "stdout",
     "output_type": "stream",
     "text": [
      "Sent: {'Id': 100019715, 'Date': '2016-01-26T02:00:00', 'Count': 0, 'Status': 'raw', 'Channel_Id': 104019715, 'Counting_Station': 'Meerbusch', 'Coordinates': '51.261012, 6.705018', 'Year': 2016, 'Month': 1, 'Day': 26, 'Hour': 2, 'Day_of_Week': 3, 'Latitude': 51.261012, 'Longitude': 6.705018}\n"
     ]
    },
    {
     "data": {
      "text/plain": [
       "<kafka.producer.future.FutureRecordMetadata at 0x7fcdf3935550>"
      ]
     },
     "execution_count": 1,
     "metadata": {},
     "output_type": "execute_result"
    },
    {
     "name": "stdout",
     "output_type": "stream",
     "text": [
      "Sent: {'Id': 100019715, 'Date': '2016-01-26T02:00:00', 'Count': 0, 'Status': 'raw', 'Channel_Id': 102019715, 'Counting_Station': 'Meerbusch', 'Coordinates': '51.261012, 6.705018', 'Year': 2016, 'Month': 1, 'Day': 26, 'Hour': 2, 'Day_of_Week': 3, 'Latitude': 51.261012, 'Longitude': 6.705018}\n"
     ]
    },
    {
     "data": {
      "text/plain": [
       "<kafka.producer.future.FutureRecordMetadata at 0x7fcdf39369d0>"
      ]
     },
     "execution_count": 1,
     "metadata": {},
     "output_type": "execute_result"
    },
    {
     "name": "stdout",
     "output_type": "stream",
     "text": [
      "Sent: {'Id': 100019715, 'Date': '2016-01-26T02:00:00', 'Count': 0, 'Status': 'raw', 'Channel_Id': 101019715, 'Counting_Station': 'Meerbusch', 'Coordinates': '51.261012, 6.705018', 'Year': 2016, 'Month': 1, 'Day': 26, 'Hour': 2, 'Day_of_Week': 3, 'Latitude': 51.261012, 'Longitude': 6.705018}\n"
     ]
    },
    {
     "data": {
      "text/plain": [
       "<kafka.producer.future.FutureRecordMetadata at 0x7fcdf39370d0>"
      ]
     },
     "execution_count": 1,
     "metadata": {},
     "output_type": "execute_result"
    },
    {
     "name": "stdout",
     "output_type": "stream",
     "text": [
      "Sent: {'Id': 100019715, 'Date': '2016-01-26T03:00:00', 'Count': 0, 'Status': 'raw', 'Channel_Id': 102019715, 'Counting_Station': 'Meerbusch', 'Coordinates': '51.261012, 6.705018', 'Year': 2016, 'Month': 1, 'Day': 26, 'Hour': 3, 'Day_of_Week': 3, 'Latitude': 51.261012, 'Longitude': 6.705018}\n"
     ]
    },
    {
     "data": {
      "text/plain": [
       "<kafka.producer.future.FutureRecordMetadata at 0x7fcdf3937390>"
      ]
     },
     "execution_count": 1,
     "metadata": {},
     "output_type": "execute_result"
    },
    {
     "name": "stdout",
     "output_type": "stream",
     "text": [
      "Sent: {'Id': 100019715, 'Date': '2016-01-26T03:00:00', 'Count': 0, 'Status': 'raw', 'Channel_Id': 104019715, 'Counting_Station': 'Meerbusch', 'Coordinates': '51.261012, 6.705018', 'Year': 2016, 'Month': 1, 'Day': 26, 'Hour': 3, 'Day_of_Week': 3, 'Latitude': 51.261012, 'Longitude': 6.705018}\n"
     ]
    },
    {
     "data": {
      "text/plain": [
       "<kafka.producer.future.FutureRecordMetadata at 0x7fcdf3936dd0>"
      ]
     },
     "execution_count": 1,
     "metadata": {},
     "output_type": "execute_result"
    },
    {
     "name": "stdout",
     "output_type": "stream",
     "text": [
      "Sent: {'Id': 100019715, 'Date': '2016-01-26T03:00:00', 'Count': 0, 'Status': 'raw', 'Channel_Id': 103019715, 'Counting_Station': 'Meerbusch', 'Coordinates': '51.261012, 6.705018', 'Year': 2016, 'Month': 1, 'Day': 26, 'Hour': 3, 'Day_of_Week': 3, 'Latitude': 51.261012, 'Longitude': 6.705018}\n"
     ]
    },
    {
     "data": {
      "text/plain": [
       "<kafka.producer.future.FutureRecordMetadata at 0x7fcdf3937d10>"
      ]
     },
     "execution_count": 1,
     "metadata": {},
     "output_type": "execute_result"
    },
    {
     "name": "stdout",
     "output_type": "stream",
     "text": [
      "Sent: {'Id': 100019715, 'Date': '2016-01-26T03:00:00', 'Count': 0, 'Status': 'raw', 'Channel_Id': 101019715, 'Counting_Station': 'Meerbusch', 'Coordinates': '51.261012, 6.705018', 'Year': 2016, 'Month': 1, 'Day': 26, 'Hour': 3, 'Day_of_Week': 3, 'Latitude': 51.261012, 'Longitude': 6.705018}\n"
     ]
    },
    {
     "data": {
      "text/plain": [
       "<kafka.producer.future.FutureRecordMetadata at 0x7fce13606990>"
      ]
     },
     "execution_count": 1,
     "metadata": {},
     "output_type": "execute_result"
    },
    {
     "name": "stdout",
     "output_type": "stream",
     "text": [
      "Sent: {'Id': 100019715, 'Date': '2016-01-26T04:00:00', 'Count': 0, 'Status': 'raw', 'Channel_Id': 103019715, 'Counting_Station': 'Meerbusch', 'Coordinates': '51.261012, 6.705018', 'Year': 2016, 'Month': 1, 'Day': 26, 'Hour': 4, 'Day_of_Week': 3, 'Latitude': 51.261012, 'Longitude': 6.705018}\n"
     ]
    },
    {
     "data": {
      "text/plain": [
       "<kafka.producer.future.FutureRecordMetadata at 0x7fce13616310>"
      ]
     },
     "execution_count": 1,
     "metadata": {},
     "output_type": "execute_result"
    },
    {
     "name": "stdout",
     "output_type": "stream",
     "text": [
      "Sent: {'Id': 100019715, 'Date': '2016-01-26T04:00:00', 'Count': 0, 'Status': 'raw', 'Channel_Id': 104019715, 'Counting_Station': 'Meerbusch', 'Coordinates': '51.261012, 6.705018', 'Year': 2016, 'Month': 1, 'Day': 26, 'Hour': 4, 'Day_of_Week': 3, 'Latitude': 51.261012, 'Longitude': 6.705018}\n"
     ]
    },
    {
     "data": {
      "text/plain": [
       "<kafka.producer.future.FutureRecordMetadata at 0x7fce13617490>"
      ]
     },
     "execution_count": 1,
     "metadata": {},
     "output_type": "execute_result"
    },
    {
     "name": "stdout",
     "output_type": "stream",
     "text": [
      "Sent: {'Id': 100019715, 'Date': '2016-01-26T04:00:00', 'Count': 0, 'Status': 'raw', 'Channel_Id': 101019715, 'Counting_Station': 'Meerbusch', 'Coordinates': '51.261012, 6.705018', 'Year': 2016, 'Month': 1, 'Day': 26, 'Hour': 4, 'Day_of_Week': 3, 'Latitude': 51.261012, 'Longitude': 6.705018}\n"
     ]
    },
    {
     "data": {
      "text/plain": [
       "<kafka.producer.future.FutureRecordMetadata at 0x7fce13616810>"
      ]
     },
     "execution_count": 1,
     "metadata": {},
     "output_type": "execute_result"
    },
    {
     "name": "stdout",
     "output_type": "stream",
     "text": [
      "Sent: {'Id': 100019715, 'Date': '2016-01-26T04:00:00', 'Count': 0, 'Status': 'raw', 'Channel_Id': 102019715, 'Counting_Station': 'Meerbusch', 'Coordinates': '51.261012, 6.705018', 'Year': 2016, 'Month': 1, 'Day': 26, 'Hour': 4, 'Day_of_Week': 3, 'Latitude': 51.261012, 'Longitude': 6.705018}\n"
     ]
    },
    {
     "data": {
      "text/plain": [
       "<kafka.producer.future.FutureRecordMetadata at 0x7fcdf3931710>"
      ]
     },
     "execution_count": 1,
     "metadata": {},
     "output_type": "execute_result"
    },
    {
     "name": "stdout",
     "output_type": "stream",
     "text": [
      "Sent: {'Id': 100019715, 'Date': '2016-01-26T05:00:00', 'Count': 0, 'Status': 'raw', 'Channel_Id': 101019715, 'Counting_Station': 'Meerbusch', 'Coordinates': '51.261012, 6.705018', 'Year': 2016, 'Month': 1, 'Day': 26, 'Hour': 5, 'Day_of_Week': 3, 'Latitude': 51.261012, 'Longitude': 6.705018}\n"
     ]
    },
    {
     "data": {
      "text/plain": [
       "<kafka.producer.future.FutureRecordMetadata at 0x7fcdf3937950>"
      ]
     },
     "execution_count": 1,
     "metadata": {},
     "output_type": "execute_result"
    },
    {
     "name": "stdout",
     "output_type": "stream",
     "text": [
      "Sent: {'Id': 100019715, 'Date': '2016-01-26T05:00:00', 'Count': 0, 'Status': 'raw', 'Channel_Id': 103019715, 'Counting_Station': 'Meerbusch', 'Coordinates': '51.261012, 6.705018', 'Year': 2016, 'Month': 1, 'Day': 26, 'Hour': 5, 'Day_of_Week': 3, 'Latitude': 51.261012, 'Longitude': 6.705018}\n"
     ]
    },
    {
     "data": {
      "text/plain": [
       "<kafka.producer.future.FutureRecordMetadata at 0x7fcdf39407d0>"
      ]
     },
     "execution_count": 1,
     "metadata": {},
     "output_type": "execute_result"
    },
    {
     "name": "stdout",
     "output_type": "stream",
     "text": [
      "Sent: {'Id': 100019715, 'Date': '2016-01-26T05:00:00', 'Count': 0, 'Status': 'raw', 'Channel_Id': 104019715, 'Counting_Station': 'Meerbusch', 'Coordinates': '51.261012, 6.705018', 'Year': 2016, 'Month': 1, 'Day': 26, 'Hour': 5, 'Day_of_Week': 3, 'Latitude': 51.261012, 'Longitude': 6.705018}\n"
     ]
    },
    {
     "data": {
      "text/plain": [
       "<kafka.producer.future.FutureRecordMetadata at 0x7fcdf39403d0>"
      ]
     },
     "execution_count": 1,
     "metadata": {},
     "output_type": "execute_result"
    },
    {
     "name": "stdout",
     "output_type": "stream",
     "text": [
      "Sent: {'Id': 100019715, 'Date': '2016-01-26T05:00:00', 'Count': 0, 'Status': 'raw', 'Channel_Id': 102019715, 'Counting_Station': 'Meerbusch', 'Coordinates': '51.261012, 6.705018', 'Year': 2016, 'Month': 1, 'Day': 26, 'Hour': 5, 'Day_of_Week': 3, 'Latitude': 51.261012, 'Longitude': 6.705018}\n"
     ]
    },
    {
     "data": {
      "text/plain": [
       "<kafka.producer.future.FutureRecordMetadata at 0x7fcdf3940310>"
      ]
     },
     "execution_count": 1,
     "metadata": {},
     "output_type": "execute_result"
    },
    {
     "name": "stdout",
     "output_type": "stream",
     "text": [
      "Sent: {'Id': 100019715, 'Date': '2016-01-26T06:00:00', 'Count': 0, 'Status': 'raw', 'Channel_Id': 104019715, 'Counting_Station': 'Meerbusch', 'Coordinates': '51.261012, 6.705018', 'Year': 2016, 'Month': 1, 'Day': 26, 'Hour': 6, 'Day_of_Week': 3, 'Latitude': 51.261012, 'Longitude': 6.705018}\n"
     ]
    },
    {
     "data": {
      "text/plain": [
       "<kafka.producer.future.FutureRecordMetadata at 0x7fcdf3940fd0>"
      ]
     },
     "execution_count": 1,
     "metadata": {},
     "output_type": "execute_result"
    },
    {
     "name": "stdout",
     "output_type": "stream",
     "text": [
      "Sent: {'Id': 100019715, 'Date': '2016-01-26T06:00:00', 'Count': 0, 'Status': 'raw', 'Channel_Id': 103019715, 'Counting_Station': 'Meerbusch', 'Coordinates': '51.261012, 6.705018', 'Year': 2016, 'Month': 1, 'Day': 26, 'Hour': 6, 'Day_of_Week': 3, 'Latitude': 51.261012, 'Longitude': 6.705018}\n"
     ]
    },
    {
     "data": {
      "text/plain": [
       "<kafka.producer.future.FutureRecordMetadata at 0x7fcdf3941b50>"
      ]
     },
     "execution_count": 1,
     "metadata": {},
     "output_type": "execute_result"
    },
    {
     "name": "stdout",
     "output_type": "stream",
     "text": [
      "Sent: {'Id': 100019715, 'Date': '2016-01-26T06:00:00', 'Count': 0, 'Status': 'raw', 'Channel_Id': 102019715, 'Counting_Station': 'Meerbusch', 'Coordinates': '51.261012, 6.705018', 'Year': 2016, 'Month': 1, 'Day': 26, 'Hour': 6, 'Day_of_Week': 3, 'Latitude': 51.261012, 'Longitude': 6.705018}\n"
     ]
    },
    {
     "data": {
      "text/plain": [
       "<kafka.producer.future.FutureRecordMetadata at 0x7fcdf3941cd0>"
      ]
     },
     "execution_count": 1,
     "metadata": {},
     "output_type": "execute_result"
    },
    {
     "name": "stdout",
     "output_type": "stream",
     "text": [
      "Sent: {'Id': 100019715, 'Date': '2016-01-26T06:00:00', 'Count': 0, 'Status': 'raw', 'Channel_Id': 101019715, 'Counting_Station': 'Meerbusch', 'Coordinates': '51.261012, 6.705018', 'Year': 2016, 'Month': 1, 'Day': 26, 'Hour': 6, 'Day_of_Week': 3, 'Latitude': 51.261012, 'Longitude': 6.705018}\n"
     ]
    },
    {
     "data": {
      "text/plain": [
       "<kafka.producer.future.FutureRecordMetadata at 0x7fcdf39424d0>"
      ]
     },
     "execution_count": 1,
     "metadata": {},
     "output_type": "execute_result"
    },
    {
     "name": "stdout",
     "output_type": "stream",
     "text": [
      "Sent: {'Id': 100019715, 'Date': '2016-01-26T07:00:00', 'Count': 0, 'Status': 'raw', 'Channel_Id': 103019715, 'Counting_Station': 'Meerbusch', 'Coordinates': '51.261012, 6.705018', 'Year': 2016, 'Month': 1, 'Day': 26, 'Hour': 7, 'Day_of_Week': 3, 'Latitude': 51.261012, 'Longitude': 6.705018}\n"
     ]
    },
    {
     "data": {
      "text/plain": [
       "<kafka.producer.future.FutureRecordMetadata at 0x7fcdf39429d0>"
      ]
     },
     "execution_count": 1,
     "metadata": {},
     "output_type": "execute_result"
    },
    {
     "name": "stdout",
     "output_type": "stream",
     "text": [
      "Sent: {'Id': 100019715, 'Date': '2016-01-26T07:00:00', 'Count': 0, 'Status': 'raw', 'Channel_Id': 104019715, 'Counting_Station': 'Meerbusch', 'Coordinates': '51.261012, 6.705018', 'Year': 2016, 'Month': 1, 'Day': 26, 'Hour': 7, 'Day_of_Week': 3, 'Latitude': 51.261012, 'Longitude': 6.705018}\n"
     ]
    },
    {
     "data": {
      "text/plain": [
       "<kafka.producer.future.FutureRecordMetadata at 0x7fcdf3942e50>"
      ]
     },
     "execution_count": 1,
     "metadata": {},
     "output_type": "execute_result"
    },
    {
     "name": "stdout",
     "output_type": "stream",
     "text": [
      "Sent: {'Id': 100019715, 'Date': '2016-01-26T07:00:00', 'Count': 0, 'Status': 'raw', 'Channel_Id': 101019715, 'Counting_Station': 'Meerbusch', 'Coordinates': '51.261012, 6.705018', 'Year': 2016, 'Month': 1, 'Day': 26, 'Hour': 7, 'Day_of_Week': 3, 'Latitude': 51.261012, 'Longitude': 6.705018}\n"
     ]
    },
    {
     "data": {
      "text/plain": [
       "<kafka.producer.future.FutureRecordMetadata at 0x7fcdf3943710>"
      ]
     },
     "execution_count": 1,
     "metadata": {},
     "output_type": "execute_result"
    },
    {
     "name": "stdout",
     "output_type": "stream",
     "text": [
      "Sent: {'Id': 100019715, 'Date': '2016-01-26T07:00:00', 'Count': 0, 'Status': 'raw', 'Channel_Id': 102019715, 'Counting_Station': 'Meerbusch', 'Coordinates': '51.261012, 6.705018', 'Year': 2016, 'Month': 1, 'Day': 26, 'Hour': 7, 'Day_of_Week': 3, 'Latitude': 51.261012, 'Longitude': 6.705018}\n"
     ]
    },
    {
     "data": {
      "text/plain": [
       "<kafka.producer.future.FutureRecordMetadata at 0x7fcdf3943790>"
      ]
     },
     "execution_count": 1,
     "metadata": {},
     "output_type": "execute_result"
    },
    {
     "name": "stdout",
     "output_type": "stream",
     "text": [
      "Sent: {'Id': 100019715, 'Date': '2016-01-26T08:00:00', 'Count': 0, 'Status': 'raw', 'Channel_Id': 101019715, 'Counting_Station': 'Meerbusch', 'Coordinates': '51.261012, 6.705018', 'Year': 2016, 'Month': 1, 'Day': 26, 'Hour': 8, 'Day_of_Week': 3, 'Latitude': 51.261012, 'Longitude': 6.705018}\n"
     ]
    },
    {
     "data": {
      "text/plain": [
       "<kafka.producer.future.FutureRecordMetadata at 0x7fcdf39434d0>"
      ]
     },
     "execution_count": 1,
     "metadata": {},
     "output_type": "execute_result"
    },
    {
     "name": "stdout",
     "output_type": "stream",
     "text": [
      "Sent: {'Id': 100019715, 'Date': '2016-01-26T08:00:00', 'Count': 0, 'Status': 'raw', 'Channel_Id': 102019715, 'Counting_Station': 'Meerbusch', 'Coordinates': '51.261012, 6.705018', 'Year': 2016, 'Month': 1, 'Day': 26, 'Hour': 8, 'Day_of_Week': 3, 'Latitude': 51.261012, 'Longitude': 6.705018}\n"
     ]
    },
    {
     "data": {
      "text/plain": [
       "<kafka.producer.future.FutureRecordMetadata at 0x7fcdf3944710>"
      ]
     },
     "execution_count": 1,
     "metadata": {},
     "output_type": "execute_result"
    },
    {
     "name": "stdout",
     "output_type": "stream",
     "text": [
      "Sent: {'Id': 100019715, 'Date': '2016-01-26T08:00:00', 'Count': 0, 'Status': 'raw', 'Channel_Id': 104019715, 'Counting_Station': 'Meerbusch', 'Coordinates': '51.261012, 6.705018', 'Year': 2016, 'Month': 1, 'Day': 26, 'Hour': 8, 'Day_of_Week': 3, 'Latitude': 51.261012, 'Longitude': 6.705018}\n"
     ]
    },
    {
     "data": {
      "text/plain": [
       "<kafka.producer.future.FutureRecordMetadata at 0x7fcdf3944410>"
      ]
     },
     "execution_count": 1,
     "metadata": {},
     "output_type": "execute_result"
    },
    {
     "name": "stdout",
     "output_type": "stream",
     "text": [
      "Sent: {'Id': 100019715, 'Date': '2016-01-26T08:00:00', 'Count': 0, 'Status': 'raw', 'Channel_Id': 103019715, 'Counting_Station': 'Meerbusch', 'Coordinates': '51.261012, 6.705018', 'Year': 2016, 'Month': 1, 'Day': 26, 'Hour': 8, 'Day_of_Week': 3, 'Latitude': 51.261012, 'Longitude': 6.705018}\n"
     ]
    },
    {
     "data": {
      "text/plain": [
       "<kafka.producer.future.FutureRecordMetadata at 0x7fcdf3942550>"
      ]
     },
     "execution_count": 1,
     "metadata": {},
     "output_type": "execute_result"
    },
    {
     "name": "stdout",
     "output_type": "stream",
     "text": [
      "Sent: {'Id': 100019715, 'Date': '2016-01-26T09:00:00', 'Count': 0, 'Status': 'raw', 'Channel_Id': 101019715, 'Counting_Station': 'Meerbusch', 'Coordinates': '51.261012, 6.705018', 'Year': 2016, 'Month': 1, 'Day': 26, 'Hour': 9, 'Day_of_Week': 3, 'Latitude': 51.261012, 'Longitude': 6.705018}\n"
     ]
    },
    {
     "data": {
      "text/plain": [
       "<kafka.producer.future.FutureRecordMetadata at 0x7fcdf3940f50>"
      ]
     },
     "execution_count": 1,
     "metadata": {},
     "output_type": "execute_result"
    },
    {
     "name": "stdout",
     "output_type": "stream",
     "text": [
      "Sent: {'Id': 100019715, 'Date': '2016-01-26T09:00:00', 'Count': 0, 'Status': 'raw', 'Channel_Id': 103019715, 'Counting_Station': 'Meerbusch', 'Coordinates': '51.261012, 6.705018', 'Year': 2016, 'Month': 1, 'Day': 26, 'Hour': 9, 'Day_of_Week': 3, 'Latitude': 51.261012, 'Longitude': 6.705018}\n"
     ]
    },
    {
     "data": {
      "text/plain": [
       "<kafka.producer.future.FutureRecordMetadata at 0x7fcdf3940290>"
      ]
     },
     "execution_count": 1,
     "metadata": {},
     "output_type": "execute_result"
    },
    {
     "name": "stdout",
     "output_type": "stream",
     "text": [
      "Sent: {'Id': 100019715, 'Date': '2016-01-26T09:00:00', 'Count': 0, 'Status': 'raw', 'Channel_Id': 104019715, 'Counting_Station': 'Meerbusch', 'Coordinates': '51.261012, 6.705018', 'Year': 2016, 'Month': 1, 'Day': 26, 'Hour': 9, 'Day_of_Week': 3, 'Latitude': 51.261012, 'Longitude': 6.705018}\n"
     ]
    },
    {
     "data": {
      "text/plain": [
       "<kafka.producer.future.FutureRecordMetadata at 0x7fcdf3940e90>"
      ]
     },
     "execution_count": 1,
     "metadata": {},
     "output_type": "execute_result"
    },
    {
     "name": "stdout",
     "output_type": "stream",
     "text": [
      "Sent: {'Id': 100019715, 'Date': '2016-01-26T09:00:00', 'Count': 0, 'Status': 'raw', 'Channel_Id': 102019715, 'Counting_Station': 'Meerbusch', 'Coordinates': '51.261012, 6.705018', 'Year': 2016, 'Month': 1, 'Day': 26, 'Hour': 9, 'Day_of_Week': 3, 'Latitude': 51.261012, 'Longitude': 6.705018}\n"
     ]
    },
    {
     "data": {
      "text/plain": [
       "<kafka.producer.future.FutureRecordMetadata at 0x7fce13643710>"
      ]
     },
     "execution_count": 1,
     "metadata": {},
     "output_type": "execute_result"
    },
    {
     "name": "stdout",
     "output_type": "stream",
     "text": [
      "Sent: {'Id': 100019715, 'Date': '2016-01-26T10:00:00', 'Count': 0, 'Status': 'raw', 'Channel_Id': 101019715, 'Counting_Station': 'Meerbusch', 'Coordinates': '51.261012, 6.705018', 'Year': 2016, 'Month': 1, 'Day': 26, 'Hour': 10, 'Day_of_Week': 3, 'Latitude': 51.261012, 'Longitude': 6.705018}\n"
     ]
    },
    {
     "data": {
      "text/plain": [
       "<kafka.producer.future.FutureRecordMetadata at 0x7fce13604290>"
      ]
     },
     "execution_count": 1,
     "metadata": {},
     "output_type": "execute_result"
    },
    {
     "name": "stdout",
     "output_type": "stream",
     "text": [
      "Sent: {'Id': 100019715, 'Date': '2016-01-26T10:00:00', 'Count': 0, 'Status': 'raw', 'Channel_Id': 102019715, 'Counting_Station': 'Meerbusch', 'Coordinates': '51.261012, 6.705018', 'Year': 2016, 'Month': 1, 'Day': 26, 'Hour': 10, 'Day_of_Week': 3, 'Latitude': 51.261012, 'Longitude': 6.705018}\n"
     ]
    },
    {
     "data": {
      "text/plain": [
       "<kafka.producer.future.FutureRecordMetadata at 0x7fce13617610>"
      ]
     },
     "execution_count": 1,
     "metadata": {},
     "output_type": "execute_result"
    },
    {
     "name": "stdout",
     "output_type": "stream",
     "text": [
      "Sent: {'Id': 100019715, 'Date': '2016-01-26T10:00:00', 'Count': 0, 'Status': 'raw', 'Channel_Id': 103019715, 'Counting_Station': 'Meerbusch', 'Coordinates': '51.261012, 6.705018', 'Year': 2016, 'Month': 1, 'Day': 26, 'Hour': 10, 'Day_of_Week': 3, 'Latitude': 51.261012, 'Longitude': 6.705018}\n"
     ]
    },
    {
     "data": {
      "text/plain": [
       "<kafka.producer.future.FutureRecordMetadata at 0x7fce13614750>"
      ]
     },
     "execution_count": 1,
     "metadata": {},
     "output_type": "execute_result"
    },
    {
     "name": "stdout",
     "output_type": "stream",
     "text": [
      "Sent: {'Id': 100019715, 'Date': '2016-01-26T10:00:00', 'Count': 0, 'Status': 'raw', 'Channel_Id': 104019715, 'Counting_Station': 'Meerbusch', 'Coordinates': '51.261012, 6.705018', 'Year': 2016, 'Month': 1, 'Day': 26, 'Hour': 10, 'Day_of_Week': 3, 'Latitude': 51.261012, 'Longitude': 6.705018}\n"
     ]
    },
    {
     "data": {
      "text/plain": [
       "<kafka.producer.future.FutureRecordMetadata at 0x7fce136173d0>"
      ]
     },
     "execution_count": 1,
     "metadata": {},
     "output_type": "execute_result"
    },
    {
     "name": "stdout",
     "output_type": "stream",
     "text": [
      "Sent: {'Id': 100019715, 'Date': '2016-01-26T11:00:00', 'Count': 0, 'Status': 'raw', 'Channel_Id': 102019715, 'Counting_Station': 'Meerbusch', 'Coordinates': '51.261012, 6.705018', 'Year': 2016, 'Month': 1, 'Day': 26, 'Hour': 11, 'Day_of_Week': 3, 'Latitude': 51.261012, 'Longitude': 6.705018}\n"
     ]
    },
    {
     "data": {
      "text/plain": [
       "<kafka.producer.future.FutureRecordMetadata at 0x7fcdf3937ed0>"
      ]
     },
     "execution_count": 1,
     "metadata": {},
     "output_type": "execute_result"
    },
    {
     "name": "stdout",
     "output_type": "stream",
     "text": [
      "Sent: {'Id': 100019715, 'Date': '2016-01-26T11:00:00', 'Count': 0, 'Status': 'raw', 'Channel_Id': 103019715, 'Counting_Station': 'Meerbusch', 'Coordinates': '51.261012, 6.705018', 'Year': 2016, 'Month': 1, 'Day': 26, 'Hour': 11, 'Day_of_Week': 3, 'Latitude': 51.261012, 'Longitude': 6.705018}\n"
     ]
    },
    {
     "data": {
      "text/plain": [
       "<kafka.producer.future.FutureRecordMetadata at 0x7fcdf3937190>"
      ]
     },
     "execution_count": 1,
     "metadata": {},
     "output_type": "execute_result"
    },
    {
     "name": "stdout",
     "output_type": "stream",
     "text": [
      "Sent: {'Id': 100019715, 'Date': '2016-01-26T11:00:00', 'Count': 0, 'Status': 'raw', 'Channel_Id': 104019715, 'Counting_Station': 'Meerbusch', 'Coordinates': '51.261012, 6.705018', 'Year': 2016, 'Month': 1, 'Day': 26, 'Hour': 11, 'Day_of_Week': 3, 'Latitude': 51.261012, 'Longitude': 6.705018}\n"
     ]
    },
    {
     "data": {
      "text/plain": [
       "<kafka.producer.future.FutureRecordMetadata at 0x7fcdf3937210>"
      ]
     },
     "execution_count": 1,
     "metadata": {},
     "output_type": "execute_result"
    },
    {
     "name": "stdout",
     "output_type": "stream",
     "text": [
      "Sent: {'Id': 100019715, 'Date': '2016-01-26T11:00:00', 'Count': 0, 'Status': 'raw', 'Channel_Id': 101019715, 'Counting_Station': 'Meerbusch', 'Coordinates': '51.261012, 6.705018', 'Year': 2016, 'Month': 1, 'Day': 26, 'Hour': 11, 'Day_of_Week': 3, 'Latitude': 51.261012, 'Longitude': 6.705018}\n"
     ]
    },
    {
     "data": {
      "text/plain": [
       "<kafka.producer.future.FutureRecordMetadata at 0x7fcdf3945050>"
      ]
     },
     "execution_count": 1,
     "metadata": {},
     "output_type": "execute_result"
    },
    {
     "name": "stdout",
     "output_type": "stream",
     "text": [
      "Sent: {'Id': 100019715, 'Date': '2016-01-26T12:00:00', 'Count': 0, 'Status': 'raw', 'Channel_Id': 101019715, 'Counting_Station': 'Meerbusch', 'Coordinates': '51.261012, 6.705018', 'Year': 2016, 'Month': 1, 'Day': 26, 'Hour': 12, 'Day_of_Week': 3, 'Latitude': 51.261012, 'Longitude': 6.705018}\n"
     ]
    },
    {
     "data": {
      "text/plain": [
       "<kafka.producer.future.FutureRecordMetadata at 0x7fcdf3945310>"
      ]
     },
     "execution_count": 1,
     "metadata": {},
     "output_type": "execute_result"
    },
    {
     "name": "stdout",
     "output_type": "stream",
     "text": [
      "Sent: {'Id': 100019715, 'Date': '2016-01-26T12:00:00', 'Count': 0, 'Status': 'raw', 'Channel_Id': 102019715, 'Counting_Station': 'Meerbusch', 'Coordinates': '51.261012, 6.705018', 'Year': 2016, 'Month': 1, 'Day': 26, 'Hour': 12, 'Day_of_Week': 3, 'Latitude': 51.261012, 'Longitude': 6.705018}\n"
     ]
    },
    {
     "data": {
      "text/plain": [
       "<kafka.producer.future.FutureRecordMetadata at 0x7fcdf3945490>"
      ]
     },
     "execution_count": 1,
     "metadata": {},
     "output_type": "execute_result"
    },
    {
     "name": "stdout",
     "output_type": "stream",
     "text": [
      "Sent: {'Id': 100019715, 'Date': '2016-01-26T12:00:00', 'Count': 0, 'Status': 'raw', 'Channel_Id': 104019715, 'Counting_Station': 'Meerbusch', 'Coordinates': '51.261012, 6.705018', 'Year': 2016, 'Month': 1, 'Day': 26, 'Hour': 12, 'Day_of_Week': 3, 'Latitude': 51.261012, 'Longitude': 6.705018}\n"
     ]
    },
    {
     "data": {
      "text/plain": [
       "<kafka.producer.future.FutureRecordMetadata at 0x7fcdf39458d0>"
      ]
     },
     "execution_count": 1,
     "metadata": {},
     "output_type": "execute_result"
    },
    {
     "name": "stdout",
     "output_type": "stream",
     "text": [
      "Sent: {'Id': 100019715, 'Date': '2016-01-26T12:00:00', 'Count': 0, 'Status': 'raw', 'Channel_Id': 103019715, 'Counting_Station': 'Meerbusch', 'Coordinates': '51.261012, 6.705018', 'Year': 2016, 'Month': 1, 'Day': 26, 'Hour': 12, 'Day_of_Week': 3, 'Latitude': 51.261012, 'Longitude': 6.705018}\n"
     ]
    },
    {
     "data": {
      "text/plain": [
       "<kafka.producer.future.FutureRecordMetadata at 0x7fcdf3944e10>"
      ]
     },
     "execution_count": 1,
     "metadata": {},
     "output_type": "execute_result"
    },
    {
     "name": "stdout",
     "output_type": "stream",
     "text": [
      "Sent: {'Id': 100019715, 'Date': '2016-01-26T13:00:00', 'Count': 0, 'Status': 'raw', 'Channel_Id': 101019715, 'Counting_Station': 'Meerbusch', 'Coordinates': '51.261012, 6.705018', 'Year': 2016, 'Month': 1, 'Day': 26, 'Hour': 13, 'Day_of_Week': 3, 'Latitude': 51.261012, 'Longitude': 6.705018}\n"
     ]
    },
    {
     "data": {
      "text/plain": [
       "<kafka.producer.future.FutureRecordMetadata at 0x7fcdf39440d0>"
      ]
     },
     "execution_count": 1,
     "metadata": {},
     "output_type": "execute_result"
    },
    {
     "name": "stdout",
     "output_type": "stream",
     "text": [
      "Sent: {'Id': 100019715, 'Date': '2016-01-26T13:00:00', 'Count': 0, 'Status': 'raw', 'Channel_Id': 103019715, 'Counting_Station': 'Meerbusch', 'Coordinates': '51.261012, 6.705018', 'Year': 2016, 'Month': 1, 'Day': 26, 'Hour': 13, 'Day_of_Week': 3, 'Latitude': 51.261012, 'Longitude': 6.705018}\n"
     ]
    },
    {
     "data": {
      "text/plain": [
       "<kafka.producer.future.FutureRecordMetadata at 0x7fcdf3946910>"
      ]
     },
     "execution_count": 1,
     "metadata": {},
     "output_type": "execute_result"
    },
    {
     "name": "stdout",
     "output_type": "stream",
     "text": [
      "Sent: {'Id': 100019715, 'Date': '2016-01-26T13:00:00', 'Count': 0, 'Status': 'raw', 'Channel_Id': 104019715, 'Counting_Station': 'Meerbusch', 'Coordinates': '51.261012, 6.705018', 'Year': 2016, 'Month': 1, 'Day': 26, 'Hour': 13, 'Day_of_Week': 3, 'Latitude': 51.261012, 'Longitude': 6.705018}\n"
     ]
    },
    {
     "data": {
      "text/plain": [
       "<kafka.producer.future.FutureRecordMetadata at 0x7fcdf39460d0>"
      ]
     },
     "execution_count": 1,
     "metadata": {},
     "output_type": "execute_result"
    },
    {
     "name": "stdout",
     "output_type": "stream",
     "text": [
      "Sent: {'Id': 100019715, 'Date': '2016-01-26T13:00:00', 'Count': 0, 'Status': 'raw', 'Channel_Id': 102019715, 'Counting_Station': 'Meerbusch', 'Coordinates': '51.261012, 6.705018', 'Year': 2016, 'Month': 1, 'Day': 26, 'Hour': 13, 'Day_of_Week': 3, 'Latitude': 51.261012, 'Longitude': 6.705018}\n"
     ]
    },
    {
     "data": {
      "text/plain": [
       "<kafka.producer.future.FutureRecordMetadata at 0x7fcdf3946550>"
      ]
     },
     "execution_count": 1,
     "metadata": {},
     "output_type": "execute_result"
    },
    {
     "name": "stdout",
     "output_type": "stream",
     "text": [
      "Sent: {'Id': 100019715, 'Date': '2016-01-26T14:00:00', 'Count': 0, 'Status': 'raw', 'Channel_Id': 103019715, 'Counting_Station': 'Meerbusch', 'Coordinates': '51.261012, 6.705018', 'Year': 2016, 'Month': 1, 'Day': 26, 'Hour': 14, 'Day_of_Week': 3, 'Latitude': 51.261012, 'Longitude': 6.705018}\n"
     ]
    },
    {
     "data": {
      "text/plain": [
       "<kafka.producer.future.FutureRecordMetadata at 0x7fcdf39467d0>"
      ]
     },
     "execution_count": 1,
     "metadata": {},
     "output_type": "execute_result"
    },
    {
     "name": "stdout",
     "output_type": "stream",
     "text": [
      "Sent: {'Id': 100019715, 'Date': '2016-01-26T14:00:00', 'Count': 0, 'Status': 'raw', 'Channel_Id': 101019715, 'Counting_Station': 'Meerbusch', 'Coordinates': '51.261012, 6.705018', 'Year': 2016, 'Month': 1, 'Day': 26, 'Hour': 14, 'Day_of_Week': 3, 'Latitude': 51.261012, 'Longitude': 6.705018}\n"
     ]
    },
    {
     "data": {
      "text/plain": [
       "<kafka.producer.future.FutureRecordMetadata at 0x7fce13616b10>"
      ]
     },
     "execution_count": 1,
     "metadata": {},
     "output_type": "execute_result"
    },
    {
     "name": "stdout",
     "output_type": "stream",
     "text": [
      "Sent: {'Id': 100019715, 'Date': '2016-01-26T14:00:00', 'Count': 0, 'Status': 'raw', 'Channel_Id': 104019715, 'Counting_Station': 'Meerbusch', 'Coordinates': '51.261012, 6.705018', 'Year': 2016, 'Month': 1, 'Day': 26, 'Hour': 14, 'Day_of_Week': 3, 'Latitude': 51.261012, 'Longitude': 6.705018}\n"
     ]
    },
    {
     "data": {
      "text/plain": [
       "<kafka.producer.future.FutureRecordMetadata at 0x7fce13604290>"
      ]
     },
     "execution_count": 1,
     "metadata": {},
     "output_type": "execute_result"
    },
    {
     "name": "stdout",
     "output_type": "stream",
     "text": [
      "Sent: {'Id': 100019715, 'Date': '2016-01-26T14:00:00', 'Count': 0, 'Status': 'raw', 'Channel_Id': 102019715, 'Counting_Station': 'Meerbusch', 'Coordinates': '51.261012, 6.705018', 'Year': 2016, 'Month': 1, 'Day': 26, 'Hour': 14, 'Day_of_Week': 3, 'Latitude': 51.261012, 'Longitude': 6.705018}\n"
     ]
    },
    {
     "data": {
      "text/plain": [
       "<kafka.producer.future.FutureRecordMetadata at 0x7fcdf3934750>"
      ]
     },
     "execution_count": 1,
     "metadata": {},
     "output_type": "execute_result"
    },
    {
     "name": "stdout",
     "output_type": "stream",
     "text": [
      "Sent: {'Id': 100019715, 'Date': '2016-01-26T15:00:00', 'Count': 0, 'Status': 'raw', 'Channel_Id': 101019715, 'Counting_Station': 'Meerbusch', 'Coordinates': '51.261012, 6.705018', 'Year': 2016, 'Month': 1, 'Day': 26, 'Hour': 15, 'Day_of_Week': 3, 'Latitude': 51.261012, 'Longitude': 6.705018}\n"
     ]
    },
    {
     "data": {
      "text/plain": [
       "<kafka.producer.future.FutureRecordMetadata at 0x7fce13640790>"
      ]
     },
     "execution_count": 1,
     "metadata": {},
     "output_type": "execute_result"
    },
    {
     "name": "stdout",
     "output_type": "stream",
     "text": [
      "Sent: {'Id': 100019715, 'Date': '2016-01-26T15:00:00', 'Count': 0, 'Status': 'raw', 'Channel_Id': 104019715, 'Counting_Station': 'Meerbusch', 'Coordinates': '51.261012, 6.705018', 'Year': 2016, 'Month': 1, 'Day': 26, 'Hour': 15, 'Day_of_Week': 3, 'Latitude': 51.261012, 'Longitude': 6.705018}\n"
     ]
    },
    {
     "data": {
      "text/plain": [
       "<kafka.producer.future.FutureRecordMetadata at 0x7fcdf3945610>"
      ]
     },
     "execution_count": 1,
     "metadata": {},
     "output_type": "execute_result"
    },
    {
     "name": "stdout",
     "output_type": "stream",
     "text": [
      "Sent: {'Id': 100019715, 'Date': '2016-01-26T15:00:00', 'Count': 0, 'Status': 'raw', 'Channel_Id': 103019715, 'Counting_Station': 'Meerbusch', 'Coordinates': '51.261012, 6.705018', 'Year': 2016, 'Month': 1, 'Day': 26, 'Hour': 15, 'Day_of_Week': 3, 'Latitude': 51.261012, 'Longitude': 6.705018}\n"
     ]
    },
    {
     "data": {
      "text/plain": [
       "<kafka.producer.future.FutureRecordMetadata at 0x7fcdf3946610>"
      ]
     },
     "execution_count": 1,
     "metadata": {},
     "output_type": "execute_result"
    },
    {
     "name": "stdout",
     "output_type": "stream",
     "text": [
      "Sent: {'Id': 100019715, 'Date': '2016-01-26T15:00:00', 'Count': 0, 'Status': 'raw', 'Channel_Id': 102019715, 'Counting_Station': 'Meerbusch', 'Coordinates': '51.261012, 6.705018', 'Year': 2016, 'Month': 1, 'Day': 26, 'Hour': 15, 'Day_of_Week': 3, 'Latitude': 51.261012, 'Longitude': 6.705018}\n"
     ]
    },
    {
     "data": {
      "text/plain": [
       "<kafka.producer.future.FutureRecordMetadata at 0x7fcdf3944950>"
      ]
     },
     "execution_count": 1,
     "metadata": {},
     "output_type": "execute_result"
    },
    {
     "name": "stdout",
     "output_type": "stream",
     "text": [
      "Sent: {'Id': 100019715, 'Date': '2016-01-26T16:00:00', 'Count': 0, 'Status': 'raw', 'Channel_Id': 101019715, 'Counting_Station': 'Meerbusch', 'Coordinates': '51.261012, 6.705018', 'Year': 2016, 'Month': 1, 'Day': 26, 'Hour': 16, 'Day_of_Week': 3, 'Latitude': 51.261012, 'Longitude': 6.705018}\n"
     ]
    },
    {
     "data": {
      "text/plain": [
       "<kafka.producer.future.FutureRecordMetadata at 0x7fcdf3947910>"
      ]
     },
     "execution_count": 1,
     "metadata": {},
     "output_type": "execute_result"
    },
    {
     "name": "stdout",
     "output_type": "stream",
     "text": [
      "Sent: {'Id': 100019715, 'Date': '2016-01-26T16:00:00', 'Count': 0, 'Status': 'raw', 'Channel_Id': 103019715, 'Counting_Station': 'Meerbusch', 'Coordinates': '51.261012, 6.705018', 'Year': 2016, 'Month': 1, 'Day': 26, 'Hour': 16, 'Day_of_Week': 3, 'Latitude': 51.261012, 'Longitude': 6.705018}\n"
     ]
    },
    {
     "data": {
      "text/plain": [
       "<kafka.producer.future.FutureRecordMetadata at 0x7fcdf3945ad0>"
      ]
     },
     "execution_count": 1,
     "metadata": {},
     "output_type": "execute_result"
    },
    {
     "name": "stdout",
     "output_type": "stream",
     "text": [
      "Sent: {'Id': 100019715, 'Date': '2016-01-26T16:00:00', 'Count': 0, 'Status': 'raw', 'Channel_Id': 104019715, 'Counting_Station': 'Meerbusch', 'Coordinates': '51.261012, 6.705018', 'Year': 2016, 'Month': 1, 'Day': 26, 'Hour': 16, 'Day_of_Week': 3, 'Latitude': 51.261012, 'Longitude': 6.705018}\n"
     ]
    },
    {
     "data": {
      "text/plain": [
       "<kafka.producer.future.FutureRecordMetadata at 0x7fcdf3947690>"
      ]
     },
     "execution_count": 1,
     "metadata": {},
     "output_type": "execute_result"
    },
    {
     "name": "stdout",
     "output_type": "stream",
     "text": [
      "Sent: {'Id': 100019715, 'Date': '2016-01-26T16:00:00', 'Count': 0, 'Status': 'raw', 'Channel_Id': 102019715, 'Counting_Station': 'Meerbusch', 'Coordinates': '51.261012, 6.705018', 'Year': 2016, 'Month': 1, 'Day': 26, 'Hour': 16, 'Day_of_Week': 3, 'Latitude': 51.261012, 'Longitude': 6.705018}\n"
     ]
    },
    {
     "data": {
      "text/plain": [
       "<kafka.producer.future.FutureRecordMetadata at 0x7fcdf3945090>"
      ]
     },
     "execution_count": 1,
     "metadata": {},
     "output_type": "execute_result"
    },
    {
     "name": "stdout",
     "output_type": "stream",
     "text": [
      "Sent: {'Id': 100019715, 'Date': '2016-01-26T17:00:00', 'Count': 0, 'Status': 'raw', 'Channel_Id': 101019715, 'Counting_Station': 'Meerbusch', 'Coordinates': '51.261012, 6.705018', 'Year': 2016, 'Month': 1, 'Day': 26, 'Hour': 17, 'Day_of_Week': 3, 'Latitude': 51.261012, 'Longitude': 6.705018}\n"
     ]
    },
    {
     "data": {
      "text/plain": [
       "<kafka.producer.future.FutureRecordMetadata at 0x7fcdf3944c90>"
      ]
     },
     "execution_count": 1,
     "metadata": {},
     "output_type": "execute_result"
    },
    {
     "name": "stdout",
     "output_type": "stream",
     "text": [
      "Sent: {'Id': 100019715, 'Date': '2016-01-26T17:00:00', 'Count': 0, 'Status': 'raw', 'Channel_Id': 104019715, 'Counting_Station': 'Meerbusch', 'Coordinates': '51.261012, 6.705018', 'Year': 2016, 'Month': 1, 'Day': 26, 'Hour': 17, 'Day_of_Week': 3, 'Latitude': 51.261012, 'Longitude': 6.705018}\n"
     ]
    },
    {
     "data": {
      "text/plain": [
       "<kafka.producer.future.FutureRecordMetadata at 0x7fcdf3944b90>"
      ]
     },
     "execution_count": 1,
     "metadata": {},
     "output_type": "execute_result"
    },
    {
     "name": "stdout",
     "output_type": "stream",
     "text": [
      "Sent: {'Id': 100019715, 'Date': '2016-01-26T17:00:00', 'Count': 0, 'Status': 'raw', 'Channel_Id': 103019715, 'Counting_Station': 'Meerbusch', 'Coordinates': '51.261012, 6.705018', 'Year': 2016, 'Month': 1, 'Day': 26, 'Hour': 17, 'Day_of_Week': 3, 'Latitude': 51.261012, 'Longitude': 6.705018}\n"
     ]
    },
    {
     "data": {
      "text/plain": [
       "<kafka.producer.future.FutureRecordMetadata at 0x7fcdf3944cd0>"
      ]
     },
     "execution_count": 1,
     "metadata": {},
     "output_type": "execute_result"
    },
    {
     "name": "stdout",
     "output_type": "stream",
     "text": [
      "Sent: {'Id': 100019715, 'Date': '2016-01-26T17:00:00', 'Count': 0, 'Status': 'raw', 'Channel_Id': 102019715, 'Counting_Station': 'Meerbusch', 'Coordinates': '51.261012, 6.705018', 'Year': 2016, 'Month': 1, 'Day': 26, 'Hour': 17, 'Day_of_Week': 3, 'Latitude': 51.261012, 'Longitude': 6.705018}\n"
     ]
    },
    {
     "data": {
      "text/plain": [
       "<kafka.producer.future.FutureRecordMetadata at 0x7fcdf3940090>"
      ]
     },
     "execution_count": 1,
     "metadata": {},
     "output_type": "execute_result"
    },
    {
     "name": "stdout",
     "output_type": "stream",
     "text": [
      "Sent: {'Id': 100019715, 'Date': '2016-01-26T18:00:00', 'Count': 0, 'Status': 'raw', 'Channel_Id': 103019715, 'Counting_Station': 'Meerbusch', 'Coordinates': '51.261012, 6.705018', 'Year': 2016, 'Month': 1, 'Day': 26, 'Hour': 18, 'Day_of_Week': 3, 'Latitude': 51.261012, 'Longitude': 6.705018}\n"
     ]
    },
    {
     "data": {
      "text/plain": [
       "<kafka.producer.future.FutureRecordMetadata at 0x7fcdf3941010>"
      ]
     },
     "execution_count": 1,
     "metadata": {},
     "output_type": "execute_result"
    },
    {
     "name": "stdout",
     "output_type": "stream",
     "text": [
      "Sent: {'Id': 100019715, 'Date': '2016-01-26T18:00:00', 'Count': 0, 'Status': 'raw', 'Channel_Id': 101019715, 'Counting_Station': 'Meerbusch', 'Coordinates': '51.261012, 6.705018', 'Year': 2016, 'Month': 1, 'Day': 26, 'Hour': 18, 'Day_of_Week': 3, 'Latitude': 51.261012, 'Longitude': 6.705018}\n"
     ]
    },
    {
     "data": {
      "text/plain": [
       "<kafka.producer.future.FutureRecordMetadata at 0x7fcdf3940a90>"
      ]
     },
     "execution_count": 1,
     "metadata": {},
     "output_type": "execute_result"
    },
    {
     "name": "stdout",
     "output_type": "stream",
     "text": [
      "Sent: {'Id': 100019715, 'Date': '2016-01-26T18:00:00', 'Count': 0, 'Status': 'raw', 'Channel_Id': 104019715, 'Counting_Station': 'Meerbusch', 'Coordinates': '51.261012, 6.705018', 'Year': 2016, 'Month': 1, 'Day': 26, 'Hour': 18, 'Day_of_Week': 3, 'Latitude': 51.261012, 'Longitude': 6.705018}\n"
     ]
    },
    {
     "data": {
      "text/plain": [
       "<kafka.producer.future.FutureRecordMetadata at 0x7fcdf3940650>"
      ]
     },
     "execution_count": 1,
     "metadata": {},
     "output_type": "execute_result"
    },
    {
     "name": "stdout",
     "output_type": "stream",
     "text": [
      "Sent: {'Id': 100019715, 'Date': '2016-01-26T18:00:00', 'Count': 0, 'Status': 'raw', 'Channel_Id': 102019715, 'Counting_Station': 'Meerbusch', 'Coordinates': '51.261012, 6.705018', 'Year': 2016, 'Month': 1, 'Day': 26, 'Hour': 18, 'Day_of_Week': 3, 'Latitude': 51.261012, 'Longitude': 6.705018}\n"
     ]
    },
    {
     "data": {
      "text/plain": [
       "<kafka.producer.future.FutureRecordMetadata at 0x7fcdf3943fd0>"
      ]
     },
     "execution_count": 1,
     "metadata": {},
     "output_type": "execute_result"
    },
    {
     "name": "stdout",
     "output_type": "stream",
     "text": [
      "Sent: {'Id': 100019715, 'Date': '2016-01-26T19:00:00', 'Count': 0, 'Status': 'raw', 'Channel_Id': 103019715, 'Counting_Station': 'Meerbusch', 'Coordinates': '51.261012, 6.705018', 'Year': 2016, 'Month': 1, 'Day': 26, 'Hour': 19, 'Day_of_Week': 3, 'Latitude': 51.261012, 'Longitude': 6.705018}\n"
     ]
    },
    {
     "data": {
      "text/plain": [
       "<kafka.producer.future.FutureRecordMetadata at 0x7fcdf39385d0>"
      ]
     },
     "execution_count": 1,
     "metadata": {},
     "output_type": "execute_result"
    },
    {
     "name": "stdout",
     "output_type": "stream",
     "text": [
      "Sent: {'Id': 100019715, 'Date': '2016-01-26T19:00:00', 'Count': 0, 'Status': 'raw', 'Channel_Id': 104019715, 'Counting_Station': 'Meerbusch', 'Coordinates': '51.261012, 6.705018', 'Year': 2016, 'Month': 1, 'Day': 26, 'Hour': 19, 'Day_of_Week': 3, 'Latitude': 51.261012, 'Longitude': 6.705018}\n"
     ]
    },
    {
     "data": {
      "text/plain": [
       "<kafka.producer.future.FutureRecordMetadata at 0x7fcdf39380d0>"
      ]
     },
     "execution_count": 1,
     "metadata": {},
     "output_type": "execute_result"
    },
    {
     "name": "stdout",
     "output_type": "stream",
     "text": [
      "Sent: {'Id': 100019715, 'Date': '2016-01-26T19:00:00', 'Count': 0, 'Status': 'raw', 'Channel_Id': 101019715, 'Counting_Station': 'Meerbusch', 'Coordinates': '51.261012, 6.705018', 'Year': 2016, 'Month': 1, 'Day': 26, 'Hour': 19, 'Day_of_Week': 3, 'Latitude': 51.261012, 'Longitude': 6.705018}\n"
     ]
    },
    {
     "data": {
      "text/plain": [
       "<kafka.producer.future.FutureRecordMetadata at 0x7fcdf3938650>"
      ]
     },
     "execution_count": 1,
     "metadata": {},
     "output_type": "execute_result"
    },
    {
     "name": "stdout",
     "output_type": "stream",
     "text": [
      "Sent: {'Id': 100019715, 'Date': '2016-01-26T19:00:00', 'Count': 0, 'Status': 'raw', 'Channel_Id': 102019715, 'Counting_Station': 'Meerbusch', 'Coordinates': '51.261012, 6.705018', 'Year': 2016, 'Month': 1, 'Day': 26, 'Hour': 19, 'Day_of_Week': 3, 'Latitude': 51.261012, 'Longitude': 6.705018}\n"
     ]
    },
    {
     "data": {
      "text/plain": [
       "<kafka.producer.future.FutureRecordMetadata at 0x7fcdf39389d0>"
      ]
     },
     "execution_count": 1,
     "metadata": {},
     "output_type": "execute_result"
    },
    {
     "name": "stdout",
     "output_type": "stream",
     "text": [
      "Sent: {'Id': 100019715, 'Date': '2016-01-26T20:00:00', 'Count': 0, 'Status': 'raw', 'Channel_Id': 101019715, 'Counting_Station': 'Meerbusch', 'Coordinates': '51.261012, 6.705018', 'Year': 2016, 'Month': 1, 'Day': 26, 'Hour': 20, 'Day_of_Week': 3, 'Latitude': 51.261012, 'Longitude': 6.705018}\n"
     ]
    },
    {
     "data": {
      "text/plain": [
       "<kafka.producer.future.FutureRecordMetadata at 0x7fcdf3940fd0>"
      ]
     },
     "execution_count": 1,
     "metadata": {},
     "output_type": "execute_result"
    },
    {
     "name": "stdout",
     "output_type": "stream",
     "text": [
      "Sent: {'Id': 100019715, 'Date': '2016-01-26T20:00:00', 'Count': 0, 'Status': 'raw', 'Channel_Id': 103019715, 'Counting_Station': 'Meerbusch', 'Coordinates': '51.261012, 6.705018', 'Year': 2016, 'Month': 1, 'Day': 26, 'Hour': 20, 'Day_of_Week': 3, 'Latitude': 51.261012, 'Longitude': 6.705018}\n"
     ]
    },
    {
     "data": {
      "text/plain": [
       "<kafka.producer.future.FutureRecordMetadata at 0x7fcdf3943190>"
      ]
     },
     "execution_count": 1,
     "metadata": {},
     "output_type": "execute_result"
    },
    {
     "name": "stdout",
     "output_type": "stream",
     "text": [
      "Sent: {'Id': 100019715, 'Date': '2016-01-26T20:00:00', 'Count': 0, 'Status': 'raw', 'Channel_Id': 104019715, 'Counting_Station': 'Meerbusch', 'Coordinates': '51.261012, 6.705018', 'Year': 2016, 'Month': 1, 'Day': 26, 'Hour': 20, 'Day_of_Week': 3, 'Latitude': 51.261012, 'Longitude': 6.705018}\n"
     ]
    },
    {
     "data": {
      "text/plain": [
       "<kafka.producer.future.FutureRecordMetadata at 0x7fcdf3945250>"
      ]
     },
     "execution_count": 1,
     "metadata": {},
     "output_type": "execute_result"
    },
    {
     "name": "stdout",
     "output_type": "stream",
     "text": [
      "Sent: {'Id': 100019715, 'Date': '2016-01-26T20:00:00', 'Count': 0, 'Status': 'raw', 'Channel_Id': 102019715, 'Counting_Station': 'Meerbusch', 'Coordinates': '51.261012, 6.705018', 'Year': 2016, 'Month': 1, 'Day': 26, 'Hour': 20, 'Day_of_Week': 3, 'Latitude': 51.261012, 'Longitude': 6.705018}\n"
     ]
    },
    {
     "data": {
      "text/plain": [
       "<kafka.producer.future.FutureRecordMetadata at 0x7fcdf3944dd0>"
      ]
     },
     "execution_count": 1,
     "metadata": {},
     "output_type": "execute_result"
    },
    {
     "name": "stdout",
     "output_type": "stream",
     "text": [
      "Sent: {'Id': 100019715, 'Date': '2016-01-26T21:00:00', 'Count': 0, 'Status': 'raw', 'Channel_Id': 103019715, 'Counting_Station': 'Meerbusch', 'Coordinates': '51.261012, 6.705018', 'Year': 2016, 'Month': 1, 'Day': 26, 'Hour': 21, 'Day_of_Week': 3, 'Latitude': 51.261012, 'Longitude': 6.705018}\n"
     ]
    },
    {
     "data": {
      "text/plain": [
       "<kafka.producer.future.FutureRecordMetadata at 0x7fcdf3945310>"
      ]
     },
     "execution_count": 1,
     "metadata": {},
     "output_type": "execute_result"
    },
    {
     "name": "stdout",
     "output_type": "stream",
     "text": [
      "Sent: {'Id': 100019715, 'Date': '2016-01-26T21:00:00', 'Count': 0, 'Status': 'raw', 'Channel_Id': 104019715, 'Counting_Station': 'Meerbusch', 'Coordinates': '51.261012, 6.705018', 'Year': 2016, 'Month': 1, 'Day': 26, 'Hour': 21, 'Day_of_Week': 3, 'Latitude': 51.261012, 'Longitude': 6.705018}\n"
     ]
    },
    {
     "data": {
      "text/plain": [
       "<kafka.producer.future.FutureRecordMetadata at 0x7fcdf3944f90>"
      ]
     },
     "execution_count": 1,
     "metadata": {},
     "output_type": "execute_result"
    },
    {
     "name": "stdout",
     "output_type": "stream",
     "text": [
      "Sent: {'Id': 100019715, 'Date': '2016-01-26T21:00:00', 'Count': 0, 'Status': 'raw', 'Channel_Id': 101019715, 'Counting_Station': 'Meerbusch', 'Coordinates': '51.261012, 6.705018', 'Year': 2016, 'Month': 1, 'Day': 26, 'Hour': 21, 'Day_of_Week': 3, 'Latitude': 51.261012, 'Longitude': 6.705018}\n"
     ]
    },
    {
     "data": {
      "text/plain": [
       "<kafka.producer.future.FutureRecordMetadata at 0x7fcdf3944ad0>"
      ]
     },
     "execution_count": 1,
     "metadata": {},
     "output_type": "execute_result"
    },
    {
     "name": "stdout",
     "output_type": "stream",
     "text": [
      "Sent: {'Id': 100019715, 'Date': '2016-01-26T21:00:00', 'Count': 0, 'Status': 'raw', 'Channel_Id': 102019715, 'Counting_Station': 'Meerbusch', 'Coordinates': '51.261012, 6.705018', 'Year': 2016, 'Month': 1, 'Day': 26, 'Hour': 21, 'Day_of_Week': 3, 'Latitude': 51.261012, 'Longitude': 6.705018}\n"
     ]
    },
    {
     "data": {
      "text/plain": [
       "<kafka.producer.future.FutureRecordMetadata at 0x7fce13641110>"
      ]
     },
     "execution_count": 1,
     "metadata": {},
     "output_type": "execute_result"
    },
    {
     "name": "stdout",
     "output_type": "stream",
     "text": [
      "Sent: {'Id': 100019715, 'Date': '2016-01-26T22:00:00', 'Count': 0, 'Status': 'raw', 'Channel_Id': 101019715, 'Counting_Station': 'Meerbusch', 'Coordinates': '51.261012, 6.705018', 'Year': 2016, 'Month': 1, 'Day': 26, 'Hour': 22, 'Day_of_Week': 3, 'Latitude': 51.261012, 'Longitude': 6.705018}\n"
     ]
    },
    {
     "data": {
      "text/plain": [
       "<kafka.producer.future.FutureRecordMetadata at 0x7fcdf3935a90>"
      ]
     },
     "execution_count": 1,
     "metadata": {},
     "output_type": "execute_result"
    },
    {
     "name": "stdout",
     "output_type": "stream",
     "text": [
      "Sent: {'Id': 100019715, 'Date': '2016-01-26T22:00:00', 'Count': 0, 'Status': 'raw', 'Channel_Id': 103019715, 'Counting_Station': 'Meerbusch', 'Coordinates': '51.261012, 6.705018', 'Year': 2016, 'Month': 1, 'Day': 26, 'Hour': 22, 'Day_of_Week': 3, 'Latitude': 51.261012, 'Longitude': 6.705018}\n"
     ]
    },
    {
     "data": {
      "text/plain": [
       "<kafka.producer.future.FutureRecordMetadata at 0x7fcdf3935f10>"
      ]
     },
     "execution_count": 1,
     "metadata": {},
     "output_type": "execute_result"
    },
    {
     "name": "stdout",
     "output_type": "stream",
     "text": [
      "Sent: {'Id': 100019715, 'Date': '2016-01-26T22:00:00', 'Count': 0, 'Status': 'raw', 'Channel_Id': 104019715, 'Counting_Station': 'Meerbusch', 'Coordinates': '51.261012, 6.705018', 'Year': 2016, 'Month': 1, 'Day': 26, 'Hour': 22, 'Day_of_Week': 3, 'Latitude': 51.261012, 'Longitude': 6.705018}\n"
     ]
    },
    {
     "ename": "KeyboardInterrupt",
     "evalue": "",
     "output_type": "error",
     "traceback": [
      "\u001b[0;31m---------------------------------------------------------------------------\u001b[0m",
      "\u001b[0;31mKeyboardInterrupt\u001b[0m                         Traceback (most recent call last)",
      "Cell \u001b[0;32mIn[1], line 56\u001b[0m\n\u001b[1;32m     53\u001b[0m     \u001b[38;5;28mprint\u001b[39m(\u001b[38;5;124mf\u001b[39m\u001b[38;5;124m\"\u001b[39m\u001b[38;5;124mSent: \u001b[39m\u001b[38;5;132;01m{\u001b[39;00mdata\u001b[38;5;132;01m}\u001b[39;00m\u001b[38;5;124m\"\u001b[39m)\n\u001b[1;32m     55\u001b[0m     \u001b[38;5;66;03m# Adjust for hourly simulation (2 second = 1 \"hour\")\u001b[39;00m\n\u001b[0;32m---> 56\u001b[0m     time\u001b[38;5;241m.\u001b[39msleep(\u001b[38;5;241m2\u001b[39m)  \n\u001b[1;32m     58\u001b[0m \u001b[38;5;66;03m# Close producer\u001b[39;00m\n\u001b[1;32m     59\u001b[0m producer\u001b[38;5;241m.\u001b[39mclose()\n",
      "File \u001b[0;32m~/.jupyter_venv/lib/python3.11/site-packages/pyspark/context.py:382\u001b[0m, in \u001b[0;36mSparkContext._do_init.<locals>.signal_handler\u001b[0;34m(signal, frame)\u001b[0m\n\u001b[1;32m    380\u001b[0m \u001b[38;5;28;01mdef\u001b[39;00m \u001b[38;5;21msignal_handler\u001b[39m(signal: Any, frame: Any) \u001b[38;5;241m-\u001b[39m\u001b[38;5;241m>\u001b[39m NoReturn:\n\u001b[1;32m    381\u001b[0m     \u001b[38;5;28mself\u001b[39m\u001b[38;5;241m.\u001b[39mcancelAllJobs()\n\u001b[0;32m--> 382\u001b[0m     \u001b[38;5;28;01mraise\u001b[39;00m \u001b[38;5;167;01mKeyboardInterrupt\u001b[39;00m()\n",
      "\u001b[0;31mKeyboardInterrupt\u001b[0m: "
     ]
    }
   ],
   "source": [
    "from kafka import KafkaProducer\n",
    "import pandas as pd\n",
    "import time\n",
    "import json\n",
    "from datetime import datetime\n",
    "from pyspark.sql.session import SparkSession\n",
    "import findspark\n",
    "\n",
    "\n",
    "findspark.init()\n",
    "\n",
    "import os\n",
    "\n",
    "os.environ['PYSPARK_SUBMIT_ARGS'] = '--packages \"org.apache.spark:spark-sql-kafka-0-10_2.12:3.5.2\" pyspark-shell'\n",
    "\n",
    "pd.set_option('display.max_colwidth', None)\n",
    "\n",
    "spark = (SparkSession.builder\n",
    "    .appName(\"group_10_streaming_simulation\")\n",
    "    .getOrCreate())\n",
    "\n",
    "spark.sparkContext.setLogLevel(\"ERROR\")\n",
    "\n",
    "# Kafka broker\n",
    "KAFKA_BROKER = 'localhost:9092'\n",
    "KAFKA_TOPIC = 'cycling_data'\n",
    "\n",
    "# Initialize Kafka producer\n",
    "producer = KafkaProducer(\n",
    "    bootstrap_servers=KAFKA_BROKER,\n",
    "    value_serializer=lambda v: json.dumps(v).encode('utf-8')\n",
    ")\n",
    "\n",
    "# HDFS CSV path\n",
    "df = (spark.read.option(\"header\", \"true\")\n",
    "                 .option(\"inferSchema\", \"true\")\n",
    "                 .csv(\"hdfs://localhost:9000//g10_datalake/silver/cycling/Counting_Station_Meerbusch\")\n",
    "                 .cache())\n",
    "\n",
    "\n",
    "df = df.orderBy(\"Date\")\n",
    "\n",
    "# Simulate hourly streaming by sending rows one by one\n",
    "for row in df.collect():\n",
    "    data = row.asDict() \n",
    "    \n",
    "    # Convert datetime objects to string\n",
    "    \n",
    "    for key, value in data.items():\n",
    "        if isinstance(value, datetime):\n",
    "            data[key] = value.isoformat() \n",
    "    producer.send(KAFKA_TOPIC, value=data)\n",
    "    print(f\"Sent: {data}\")\n",
    "    \n",
    "    # Adjust for hourly simulation (2 second = 1 \"hour\")\n",
    "    time.sleep(2)  \n",
    "\n",
    "# Close producer\n",
    "producer.close()"
   ]
  },
  {
   "cell_type": "code",
   "execution_count": null,
   "id": "f41efcde-ac9d-4bf6-9b79-0645bc685310",
   "metadata": {},
   "outputs": [],
   "source": []
  }
 ],
 "metadata": {
  "kernelspec": {
   "display_name": "Python 3 (ipykernel)",
   "language": "python",
   "name": "python3"
  },
  "language_info": {
   "codemirror_mode": {
    "name": "ipython",
    "version": 3
   },
   "file_extension": ".py",
   "mimetype": "text/x-python",
   "name": "python",
   "nbconvert_exporter": "python",
   "pygments_lexer": "ipython3",
   "version": "3.11.2"
  }
 },
 "nbformat": 4,
 "nbformat_minor": 5
}
